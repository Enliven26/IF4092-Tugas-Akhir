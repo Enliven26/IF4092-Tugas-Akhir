{
 "cells": [
  {
   "cell_type": "markdown",
   "metadata": {},
   "source": [
    "# Imports"
   ]
  },
  {
   "cell_type": "code",
   "execution_count": 2,
   "metadata": {},
   "outputs": [],
   "source": [
    "import logging\n",
    "import os\n",
    "\n",
    "from dotenv import load_dotenv\n",
    "\n",
    "from core.enums import EnvironmentKey\n",
    "from cmg.evaluators import CommitMessageGenerator\n",
    "from cmg import evaluator\n",
    "from core import (\n",
    "    few_shot_high_level_cmg_chain,\n",
    "    low_level_cmg_chain,\n",
    "    zero_shot_high_level_cmg_chain\n",
    ")\n",
    "from core.models import CommitDataModel\n",
    "from datapreparation import context_generator, example_generator"
   ]
  },
  {
   "cell_type": "markdown",
   "metadata": {},
   "source": [
    "# Initialization"
   ]
  },
  {
   "cell_type": "code",
   "execution_count": 3,
   "metadata": {},
   "outputs": [],
   "source": [
    "COMMIT_DATA_JSON_FILE_PATH = os.path.join(\"data\", \"cmg\", \"commits.json\")\n",
    "EXAMPLE_DATA_JSON_FILE_PATH = os.path.join(\"data\", \"cmg\", \"examples.json\")\n",
    "CONTEXT_DATA_PATH = os.path.join(\"data\", \"context\")\n",
    "\n",
    "DEFAULT_CONTEXT_GENERATION_OUTPUT_PATH = os.path.join(\n",
    "    \"data\", \"context\"\n",
    ")\n",
    "DEFAULT_HIGH_LEVEL_CONTEXT_OUTPUT_PATH = os.path.join(\n",
    "    \"out\", \"result\", \"highlevelcontext\"\n",
    ")\n",
    "DEFAULT_CMG_OUTPUT_PATH = os.path.join(\"out\", \"result\", \"cmg\")\n",
    "DEFAULT_DIFF_CLASSIFICATION_OUTPUT_PATH = os.path.join(\n",
    "    \"out\", \"result\", \"diffclassification\"\n",
    ")\n",
    "DEFAULT_EXAMPLE_GENERATION_OUTPUT_PATH = os.path.join(\"out\", \"result\", \"example\")\n",
    "\n",
    "GENERATORS = [\n",
    "    CommitMessageGenerator(\n",
    "        \"Zero-Shot High-Level Generator\", zero_shot_high_level_cmg_chain\n",
    "    ),\n",
    "    CommitMessageGenerator(\n",
    "        \"Few-Shot High-Level Generator\", few_shot_high_level_cmg_chain\n",
    "    ),\n",
    "    CommitMessageGenerator(\"Low-Level Generator\", low_level_cmg_chain),\n",
    "]\n",
    "\n",
    "load_dotenv(dotenv_path=\".env\", verbose=True, override=True)\n",
    "logging.basicConfig(level=logging.DEBUG)"
   ]
  },
  {
   "cell_type": "code",
   "execution_count": 4,
   "metadata": {},
   "outputs": [],
   "source": [
    "CONTEXT_GENERATION_OUTPUT_PATH = os.getenv(\n",
    "        EnvironmentKey.CONTEXT_GENERATION_OUTPUT_PATH.value,\n",
    "        DEFAULT_CONTEXT_GENERATION_OUTPUT_PATH,\n",
    "    )\n",
    "\n",
    "HIGH_LEVEL_CONTEXT_OUTPUT_PATH = os.getenv(\n",
    "        EnvironmentKey.HIGH_LEVEL_CONTEXT_OUTPUT_PATH.value,\n",
    "        DEFAULT_HIGH_LEVEL_CONTEXT_OUTPUT_PATH,\n",
    "    )\n",
    "\n",
    "CMG_OUTPUT_PATH = os.getenv(\n",
    "        EnvironmentKey.CMG_OUTPUT_PATH.value, DEFAULT_CMG_OUTPUT_PATH\n",
    "    )\n",
    "\n",
    "DIFF_CLASSIFICATION_OUTPUT_PATH = os.getenv(\n",
    "        EnvironmentKey.DIFF_CLASSIFICATION_OUTPUT_PATH.value,\n",
    "        DEFAULT_DIFF_CLASSIFICATION_OUTPUT_PATH,\n",
    "    )\n",
    "\n",
    "EXAMPLE_GENERATION_OUTPUT_PATH = os.getenv(\n",
    "        EnvironmentKey.EXAMPLE_GENERATION_OUTPUT_PATH.value,\n",
    "        DEFAULT_EXAMPLE_GENERATION_OUTPUT_PATH,\n",
    "    )"
   ]
  },
  {
   "cell_type": "code",
   "execution_count": 5,
   "metadata": {},
   "outputs": [],
   "source": [
    "def get_commits(path: str) -> list[CommitDataModel]:\n",
    "        with open(path, \"r\", encoding=\"utf-8\") as file:\n",
    "            json_string = file.read()\n",
    "\n",
    "        return CommitDataModel.from_json(json_string)\n",
    "\n",
    "COMMITS = get_commits(COMMIT_DATA_JSON_FILE_PATH)\n",
    "EXAMPLE_COMMITS = get_commits(EXAMPLE_DATA_JSON_FILE_PATH)"
   ]
  },
  {
   "cell_type": "markdown",
   "metadata": {},
   "source": [
    "# Generate Context"
   ]
  },
  {
   "cell_type": "code",
   "execution_count": 6,
   "metadata": {},
   "outputs": [],
   "source": [
    "context_generator.generate_context(COMMITS + EXAMPLE_COMMITS, CONTEXT_GENERATION_OUTPUT_PATH)"
   ]
  },
  {
   "cell_type": "markdown",
   "metadata": {},
   "source": [
    "# Generate Examples"
   ]
  },
  {
   "cell_type": "code",
   "execution_count": 6,
   "metadata": {},
   "outputs": [
    {
     "name": "stderr",
     "output_type": "stream",
     "text": [
      "DEBUG:urllib3.connectionpool:Starting new HTTPS connection (1): api.smith.langchain.com:443\n",
      "DEBUG:openai._base_client:Request options: {'method': 'post', 'url': '/chat/completions', 'files': None, 'json_data': {'messages': [{'content': 'Given a Git diff and the relevant source code, write a concise summary of the code changes in a way that a non-technical person can understand. The query text must summarize the code changes in two very brief sentences.\\n\\nGit diff:\\ndiff --git a/clients/src/main/java/org/apache/kafka/common/security/JaasUtils.java b/clients/src/main/java/org/apache/kafka/common/security/JaasUtils.java\\nindex 742319c4f4..800283e56e 100644\\n--- a/clients/src/main/java/org/apache/kafka/common/security/JaasUtils.java\\n+++ b/clients/src/main/java/org/apache/kafka/common/security/JaasUtils.java\\n@@ -16,67 +16,12 @@\\n  */\\n package org.apache.kafka.common.security;\\n \\n-import org.apache.kafka.common.KafkaException;\\n-\\n-import org.slf4j.Logger;\\n-import org.slf4j.LoggerFactory;\\n-\\n-import javax.security.auth.login.Configuration;\\n-\\n public final class JaasUtils {\\n-    private static final Logger LOG = LoggerFactory.getLogger(JaasUtils.class);\\n     public static final String JAVA_LOGIN_CONFIG_PARAM = \"java.security.auth.login.config\";\\n     public static final String DISALLOWED_LOGIN_MODULES_CONFIG = \"org.apache.kafka.disallowed.login.modules\";\\n     public static final String DISALLOWED_LOGIN_MODULES_DEFAULT = \"com.sun.security.auth.module.JndiLoginModule\";\\n     public static final String SERVICE_NAME = \"serviceName\";\\n \\n-    public static final String ZK_SASL_CLIENT = \"zookeeper.sasl.client\";\\n-    public static final String ZK_LOGIN_CONTEXT_NAME_KEY = \"zookeeper.sasl.clientconfig\";\\n-\\n-    private static final String DEFAULT_ZK_LOGIN_CONTEXT_NAME = \"Client\";\\n-    private static final String DEFAULT_ZK_SASL_CLIENT = \"true\";\\n-\\n     private JaasUtils() {}\\n \\n-    public static String zkSecuritySysConfigString() {\\n-        String loginConfig = System.getProperty(JAVA_LOGIN_CONFIG_PARAM);\\n-        String clientEnabled = System.getProperty(ZK_SASL_CLIENT, \"default:\" + DEFAULT_ZK_SASL_CLIENT);\\n-        String contextName = System.getProperty(ZK_LOGIN_CONTEXT_NAME_KEY, \"default:\" + DEFAULT_ZK_LOGIN_CONTEXT_NAME);\\n-        return \"[\" +\\n-                JAVA_LOGIN_CONFIG_PARAM + \"=\" + loginConfig +\\n-                \", \" +\\n-                ZK_SASL_CLIENT + \"=\" + clientEnabled +\\n-                \", \" +\\n-                ZK_LOGIN_CONTEXT_NAME_KEY + \"=\" + contextName +\\n-                \"]\";\\n-    }\\n-\\n-    public static boolean isZkSaslEnabled() {\\n-        // Technically a client must also check if TLS mutual authentication has been configured,\\n-        // but we will leave that up to the client code to determine since direct connectivity to ZooKeeper\\n-        // has been deprecated in many clients and we don\\'t wish to re-introduce a ZooKeeper jar dependency here.\\n-        boolean zkSaslEnabled = Boolean.parseBoolean(System.getProperty(ZK_SASL_CLIENT, DEFAULT_ZK_SASL_CLIENT));\\n-        String zkLoginContextName = System.getProperty(ZK_LOGIN_CONTEXT_NAME_KEY, DEFAULT_ZK_LOGIN_CONTEXT_NAME);\\n-\\n-        LOG.debug(\"Checking login config for Zookeeper JAAS context {}\", zkSecuritySysConfigString());\\n-\\n-        boolean foundLoginConfigEntry;\\n-        try {\\n-            Configuration loginConf = Configuration.getConfiguration();\\n-            foundLoginConfigEntry = loginConf.getAppConfigurationEntry(zkLoginContextName) != null;\\n-        } catch (Exception e) {\\n-            throw new KafkaException(\"Exception while loading Zookeeper JAAS login context \" +\\n-                    zkSecuritySysConfigString(), e);\\n-        }\\n-\\n-        if (foundLoginConfigEntry && !zkSaslEnabled) {\\n-            LOG.error(\"JAAS configuration is present, but system property \" +\\n-                        ZK_SASL_CLIENT + \" is set to false, which disables \" +\\n-                        \"SASL in the ZooKeeper client\");\\n-            throw new KafkaException(\"Exception while determining if ZooKeeper is secure \" +\\n-                    zkSecuritySysConfigString());\\n-        }\\n-\\n-        return foundLoginConfigEntry;\\n-    }\\n }\\n\\n\\nSource code:\\nclients/src/main/java/org/apache/kafka/common/security/JaasUtils.java (Before)\\npackage org.apache.kafka.common.security;\\n\\nimport org.apache.kafka.common.KafkaException;\\nimport org.slf4j.Logger;\\nimport org.slf4j.LoggerFactory;\\nimport javax.security.auth.login.Configuration;\\npublic  final class JaasUtils {\\nprivate static final Logger LOG = LoggerFactory.getLogger(JaasUtils.class);\\npublic static final String JAVA_LOGIN_CONFIG_PARAM = \"java.security.auth.login.config\";\\npublic static final String DISALLOWED_LOGIN_MODULES_CONFIG = \"org.apache.kafka.disallowed.login.modules\";\\npublic static final String DISALLOWED_LOGIN_MODULES_DEFAULT = \"com.sun.security.auth.module.JndiLoginModule\";\\npublic static final String SERVICE_NAME = \"serviceName\";\\npublic static final String ZK_SASL_CLIENT = \"zookeeper.sasl.client\";\\npublic static final String ZK_LOGIN_CONTEXT_NAME_KEY = \"zookeeper.sasl.clientconfig\";\\nprivate static final String DEFAULT_ZK_LOGIN_CONTEXT_NAME = \"Client\";\\nprivate static final String DEFAULT_ZK_SASL_CLIENT = \"true\";\\nprivate JaasUtils() {\\n}\\npublic static String zkSecuritySysConfigString() {\\n    String loginConfig = System.getProperty(JAVA_LOGIN_CONFIG_PARAM);\\n    String clientEnabled = System.getProperty(ZK_SASL_CLIENT, \"default:\" + DEFAULT_ZK_SASL_CLIENT);\\n    String contextName = System.getProperty(ZK_LOGIN_CONTEXT_NAME_KEY, \"default:\" + DEFAULT_ZK_LOGIN_CONTEXT_NAME);\\n    return \"[\" + JAVA_LOGIN_CONFIG_PARAM + \"=\" + loginConfig + \", \" + ZK_SASL_CLIENT + \"=\" + clientEnabled + \", \" + ZK_LOGIN_CONTEXT_NAME_KEY + \"=\" + contextName + \"]\";\\n}\\npublic static boolean isZkSaslEnabled() {\\n    // Technically a client must also check if TLS mutual authentication has been configured,\\n    // but we will leave that up to the client code to determine since direct connectivity to ZooKeeper\\n    // has been deprecated in many clients and we don\\'t wish to re-introduce a ZooKeeper jar dependency here.\\n    boolean zkSaslEnabled = Boolean.parseBoolean(System.getProperty(ZK_SASL_CLIENT, DEFAULT_ZK_SASL_CLIENT));\\n    String zkLoginContextName = System.getProperty(ZK_LOGIN_CONTEXT_NAME_KEY, DEFAULT_ZK_LOGIN_CONTEXT_NAME);\\n    LOG.debug(\"Checking login config for Zookeeper JAAS context {}\", zkSecuritySysConfigString());\\n    boolean foundLoginConfigEntry;\\n    try {\\n        Configuration loginConf = Configuration.getConfiguration();\\n        foundLoginConfigEntry = loginConf.getAppConfigurationEntry(zkLoginContextName) != null;\\n    } catch (Exception e) {\\n        throw new KafkaException(\"Exception while loading Zookeeper JAAS login context \" + zkSecuritySysConfigString(), e);\\n    }\\n    if (foundLoginConfigEntry && !zkSaslEnabled) {\\n        LOG.error(\"JAAS configuration is present, but system property \" + ZK_SASL_CLIENT + \" is set to false, which disables \" + \"SASL in the ZooKeeper client\");\\n        throw new KafkaException(\"Exception while determining if ZooKeeper is secure \" + zkSecuritySysConfigString());\\n    }\\n    return foundLoginConfigEntry;\\n}\\n}\\n\\nclients/src/main/java/org/apache/kafka/common/security/JaasUtils.java (After)\\npackage org.apache.kafka.common.security;\\n\\npublic  final class JaasUtils {\\npublic static final String JAVA_LOGIN_CONFIG_PARAM = \"java.security.auth.login.config\";\\npublic static final String DISALLOWED_LOGIN_MODULES_CONFIG = \"org.apache.kafka.disallowed.login.modules\";\\npublic static final String DISALLOWED_LOGIN_MODULES_DEFAULT = \"com.sun.security.auth.module.JndiLoginModule\";\\npublic static final String SERVICE_NAME = \"serviceName\";\\nprivate JaasUtils() {\\n}\\n}\\n\\n\\nQuery text:', 'role': 'user'}], 'model': 'gpt-4o-mini', 'n': 1, 'stream': False, 'temperature': 0.7}}\n",
      "DEBUG:openai._base_client:Sending HTTP Request: POST https://api.openai.com/v1/chat/completions\n",
      "DEBUG:httpcore.connection:connect_tcp.started host='api.openai.com' port=443 local_address=None timeout=None socket_options=None\n",
      "DEBUG:httpcore.connection:connect_tcp.complete return_value=<httpcore._backends.sync.SyncStream object at 0x000001B55A5206E0>\n",
      "DEBUG:httpcore.connection:start_tls.started ssl_context=<ssl.SSLContext object at 0x000001B55928D400> server_hostname='api.openai.com' timeout=None\n",
      "DEBUG:httpcore.connection:start_tls.complete return_value=<httpcore._backends.sync.SyncStream object at 0x000001B55A46CA50>\n",
      "DEBUG:httpcore.http11:send_request_headers.started request=<Request [b'POST']>\n",
      "DEBUG:httpcore.http11:send_request_headers.complete\n",
      "DEBUG:httpcore.http11:send_request_body.started request=<Request [b'POST']>\n",
      "DEBUG:httpcore.http11:send_request_body.complete\n",
      "DEBUG:httpcore.http11:receive_response_headers.started request=<Request [b'POST']>\n",
      "DEBUG:urllib3.connectionpool:https://api.smith.langchain.com:443 \"GET /info HTTP/11\" 200 672\n",
      "DEBUG:urllib3.connectionpool:https://api.smith.langchain.com:443 \"POST /runs/multipart HTTP/11\" 202 33\n",
      "DEBUG:httpcore.http11:receive_response_headers.complete return_value=(b'HTTP/1.1', 200, b'OK', [(b'Date', b'Fri, 17 Jan 2025 11:24:42 GMT'), (b'Content-Type', b'application/json'), (b'Transfer-Encoding', b'chunked'), (b'Connection', b'keep-alive'), (b'access-control-expose-headers', b'X-Request-ID'), (b'openai-organization', b'user-yxw5duua92nmh24amrdiwkpm'), (b'openai-processing-ms', b'833'), (b'openai-version', b'2020-10-01'), (b'x-ratelimit-limit-requests', b'10000'), (b'x-ratelimit-limit-tokens', b'200000'), (b'x-ratelimit-remaining-requests', b'9999'), (b'x-ratelimit-remaining-tokens', b'198123'), (b'x-ratelimit-reset-requests', b'8.64s'), (b'x-ratelimit-reset-tokens', b'563ms'), (b'x-request-id', b'req_9f5a40648bbfa67606438ff49c7eccd8'), (b'strict-transport-security', b'max-age=31536000; includeSubDomains; preload'), (b'CF-Cache-Status', b'DYNAMIC'), (b'Set-Cookie', b'__cf_bm=8T0tKDOBSp6EkdW_l4knQUtLTS4hpEdf0eGZvZ5uTdg-1737113082-1.0.1.1-mmJ4V4z1cYPu9RYxBYCLY.K_5Y54g4VFYl5oYcMCDIzyyrAakN0rEJz.vjcxpVBRb.fBz7qZzoWVBW94jpbRBw; path=/; expires=Fri, 17-Jan-25 11:54:42 GMT; domain=.api.openai.com; HttpOnly; Secure; SameSite=None'), (b'X-Content-Type-Options', b'nosniff'), (b'Set-Cookie', b'_cfuvid=jFbL8c_H0HnnwrjMp2KBORfLFGSy1qhlYq9GLqb_Btw-1737113082161-0.0.1.1-604800000; path=/; domain=.api.openai.com; HttpOnly; Secure; SameSite=None'), (b'Server', b'cloudflare'), (b'CF-RAY', b'9035faf32e4c49b4-SIN'), (b'Content-Encoding', b'gzip'), (b'alt-svc', b'h3=\":443\"; ma=86400')])\n",
      "INFO:httpx:HTTP Request: POST https://api.openai.com/v1/chat/completions \"HTTP/1.1 200 OK\"\n",
      "DEBUG:httpcore.http11:receive_response_body.started request=<Request [b'POST']>\n",
      "DEBUG:httpcore.http11:receive_response_body.complete\n",
      "DEBUG:httpcore.http11:response_closed.started\n",
      "DEBUG:httpcore.http11:response_closed.complete\n",
      "DEBUG:openai._base_client:HTTP Response: POST https://api.openai.com/v1/chat/completions \"200 OK\" Headers([('date', 'Fri, 17 Jan 2025 11:24:42 GMT'), ('content-type', 'application/json'), ('transfer-encoding', 'chunked'), ('connection', 'keep-alive'), ('access-control-expose-headers', 'X-Request-ID'), ('openai-organization', 'user-yxw5duua92nmh24amrdiwkpm'), ('openai-processing-ms', '833'), ('openai-version', '2020-10-01'), ('x-ratelimit-limit-requests', '10000'), ('x-ratelimit-limit-tokens', '200000'), ('x-ratelimit-remaining-requests', '9999'), ('x-ratelimit-remaining-tokens', '198123'), ('x-ratelimit-reset-requests', '8.64s'), ('x-ratelimit-reset-tokens', '563ms'), ('x-request-id', 'req_9f5a40648bbfa67606438ff49c7eccd8'), ('strict-transport-security', 'max-age=31536000; includeSubDomains; preload'), ('cf-cache-status', 'DYNAMIC'), ('set-cookie', '__cf_bm=8T0tKDOBSp6EkdW_l4knQUtLTS4hpEdf0eGZvZ5uTdg-1737113082-1.0.1.1-mmJ4V4z1cYPu9RYxBYCLY.K_5Y54g4VFYl5oYcMCDIzyyrAakN0rEJz.vjcxpVBRb.fBz7qZzoWVBW94jpbRBw; path=/; expires=Fri, 17-Jan-25 11:54:42 GMT; domain=.api.openai.com; HttpOnly; Secure; SameSite=None'), ('x-content-type-options', 'nosniff'), ('set-cookie', '_cfuvid=jFbL8c_H0HnnwrjMp2KBORfLFGSy1qhlYq9GLqb_Btw-1737113082161-0.0.1.1-604800000; path=/; domain=.api.openai.com; HttpOnly; Secure; SameSite=None'), ('server', 'cloudflare'), ('cf-ray', '9035faf32e4c49b4-SIN'), ('content-encoding', 'gzip'), ('alt-svc', 'h3=\":443\"; ma=86400')])\n",
      "DEBUG:openai._base_client:request_id: req_9f5a40648bbfa67606438ff49c7eccd8\n",
      "DEBUG:urllib3.connectionpool:https://api.smith.langchain.com:443 \"POST /runs/multipart HTTP/11\" 202 33\n",
      "DEBUG:faiss.loader:Environment variable FAISS_OPT_LEVEL is not set, so let's pick the instruction set according to the current CPU\n",
      "INFO:faiss.loader:Loading faiss with AVX512 support.\n",
      "INFO:faiss.loader:Could not load library with AVX512 support due to:\n",
      "ModuleNotFoundError(\"No module named 'faiss.swigfaiss_avx512'\")\n",
      "INFO:faiss.loader:Loading faiss with AVX2 support.\n",
      "INFO:faiss.loader:Successfully loaded faiss with AVX2 support.\n",
      "DEBUG:openai._base_client:Request options: {'method': 'post', 'url': '/embeddings', 'files': None, 'post_parser': <function Embeddings.create.<locals>.parser at 0x000001B57B433EC0>, 'json_data': {'input': [[791, 2082, 706, 1027, 44899, 555, 18054, 3892, 5865, 323, 20604, 7482, 5552, 311, 41960, 19393, 4868, 33483, 13, 1115, 4365, 35981, 8779, 311, 1304, 279, 2082, 32981, 323, 8831, 311, 10519, 555, 21760, 1193, 389, 7718, 6956, 13]], 'model': 'text-embedding-3-small', 'encoding_format': 'base64'}}\n",
      "DEBUG:openai._base_client:Sending HTTP Request: POST https://api.openai.com/v1/embeddings\n",
      "DEBUG:httpcore.connection:connect_tcp.started host='api.openai.com' port=443 local_address=None timeout=None socket_options=None\n",
      "DEBUG:httpcore.connection:connect_tcp.complete return_value=<httpcore._backends.sync.SyncStream object at 0x000001B55A46FED0>\n",
      "DEBUG:httpcore.connection:start_tls.started ssl_context=<ssl.SSLContext object at 0x000001B55A455BE0> server_hostname='api.openai.com' timeout=None\n",
      "DEBUG:httpcore.connection:start_tls.complete return_value=<httpcore._backends.sync.SyncStream object at 0x000001B53ED1C3E0>\n",
      "DEBUG:httpcore.http11:send_request_headers.started request=<Request [b'POST']>\n",
      "DEBUG:httpcore.http11:send_request_headers.complete\n",
      "DEBUG:httpcore.http11:send_request_body.started request=<Request [b'POST']>\n",
      "DEBUG:httpcore.http11:send_request_body.complete\n",
      "DEBUG:httpcore.http11:receive_response_headers.started request=<Request [b'POST']>\n",
      "DEBUG:urllib3.connectionpool:https://api.smith.langchain.com:443 \"POST /runs/multipart HTTP/11\" 202 33\n",
      "DEBUG:httpcore.http11:receive_response_headers.complete return_value=(b'HTTP/1.1', 200, b'OK', [(b'Date', b'Fri, 17 Jan 2025 11:24:44 GMT'), (b'Content-Type', b'application/json'), (b'Transfer-Encoding', b'chunked'), (b'Connection', b'keep-alive'), (b'access-control-allow-origin', b'*'), (b'access-control-expose-headers', b'X-Request-ID'), (b'openai-model', b'text-embedding-3-small'), (b'openai-organization', b'user-yxw5duua92nmh24amrdiwkpm'), (b'openai-processing-ms', b'110'), (b'openai-version', b'2020-10-01'), (b'strict-transport-security', b'max-age=31536000; includeSubDomains; preload'), (b'via', b'envoy-router-54c675566c-jn2x4'), (b'x-envoy-upstream-service-time', b'54'), (b'x-ratelimit-limit-requests', b'3000'), (b'x-ratelimit-limit-tokens', b'1000000'), (b'x-ratelimit-remaining-requests', b'2999'), (b'x-ratelimit-remaining-tokens', b'999960'), (b'x-ratelimit-reset-requests', b'20ms'), (b'x-ratelimit-reset-tokens', b'2ms'), (b'x-request-id', b'req_341c1cf3273426e6a43d86bd5837cd3d'), (b'CF-Cache-Status', b'DYNAMIC'), (b'Set-Cookie', b'__cf_bm=v_7K4HFQDFDi5p86Rfu_xbFWgWIbvrRNEkGbGL5lly4-1737113084-1.0.1.1-iJ9fHqT4EaWvRwwmT7gp9WktPCdeVh6UOB9ncBVLpQ7aflqy.uJt0h6wQaTlO0H.YKjAOJ7NaTzqGCUJ3sTYQw; path=/; expires=Fri, 17-Jan-25 11:54:44 GMT; domain=.api.openai.com; HttpOnly; Secure; SameSite=None'), (b'X-Content-Type-Options', b'nosniff'), (b'Set-Cookie', b'_cfuvid=ZW7RTYFquryvjP3Hpdt1G62zSr.uYFP2x6ufcFsCEx0-1737113084484-0.0.1.1-604800000; path=/; domain=.api.openai.com; HttpOnly; Secure; SameSite=None'), (b'Server', b'cloudflare'), (b'CF-RAY', b'9035fb038b5f4c0b-SIN'), (b'Content-Encoding', b'gzip'), (b'alt-svc', b'h3=\":443\"; ma=86400')])\n",
      "INFO:httpx:HTTP Request: POST https://api.openai.com/v1/embeddings \"HTTP/1.1 200 OK\"\n",
      "DEBUG:httpcore.http11:receive_response_body.started request=<Request [b'POST']>\n",
      "DEBUG:httpcore.http11:receive_response_body.complete\n",
      "DEBUG:httpcore.http11:response_closed.started\n",
      "DEBUG:httpcore.http11:response_closed.complete\n",
      "DEBUG:openai._base_client:HTTP Response: POST https://api.openai.com/v1/embeddings \"200 OK\" Headers([('date', 'Fri, 17 Jan 2025 11:24:44 GMT'), ('content-type', 'application/json'), ('transfer-encoding', 'chunked'), ('connection', 'keep-alive'), ('access-control-allow-origin', '*'), ('access-control-expose-headers', 'X-Request-ID'), ('openai-model', 'text-embedding-3-small'), ('openai-organization', 'user-yxw5duua92nmh24amrdiwkpm'), ('openai-processing-ms', '110'), ('openai-version', '2020-10-01'), ('strict-transport-security', 'max-age=31536000; includeSubDomains; preload'), ('via', 'envoy-router-54c675566c-jn2x4'), ('x-envoy-upstream-service-time', '54'), ('x-ratelimit-limit-requests', '3000'), ('x-ratelimit-limit-tokens', '1000000'), ('x-ratelimit-remaining-requests', '2999'), ('x-ratelimit-remaining-tokens', '999960'), ('x-ratelimit-reset-requests', '20ms'), ('x-ratelimit-reset-tokens', '2ms'), ('x-request-id', 'req_341c1cf3273426e6a43d86bd5837cd3d'), ('cf-cache-status', 'DYNAMIC'), ('set-cookie', '__cf_bm=v_7K4HFQDFDi5p86Rfu_xbFWgWIbvrRNEkGbGL5lly4-1737113084-1.0.1.1-iJ9fHqT4EaWvRwwmT7gp9WktPCdeVh6UOB9ncBVLpQ7aflqy.uJt0h6wQaTlO0H.YKjAOJ7NaTzqGCUJ3sTYQw; path=/; expires=Fri, 17-Jan-25 11:54:44 GMT; domain=.api.openai.com; HttpOnly; Secure; SameSite=None'), ('x-content-type-options', 'nosniff'), ('set-cookie', '_cfuvid=ZW7RTYFquryvjP3Hpdt1G62zSr.uYFP2x6ufcFsCEx0-1737113084484-0.0.1.1-604800000; path=/; domain=.api.openai.com; HttpOnly; Secure; SameSite=None'), ('server', 'cloudflare'), ('cf-ray', '9035fb038b5f4c0b-SIN'), ('content-encoding', 'gzip'), ('alt-svc', 'h3=\":443\"; ma=86400')])\n",
      "DEBUG:openai._base_client:request_id: req_341c1cf3273426e6a43d86bd5837cd3d\n",
      "DEBUG:openai._base_client:Request options: {'method': 'post', 'url': '/chat/completions', 'files': None, 'json_data': {'messages': [{'content': 'Evaluate the performance of a document retriever. Given the Git diff and retrieved context, return YES if the context directly or indirectly correlates with the changes in the Git diff. Otherwise, return NO.\\n\\n> Git diff: \\n>>>\\ndiff --git a/clients/src/main/java/org/apache/kafka/common/security/JaasUtils.java b/clients/src/main/java/org/apache/kafka/common/security/JaasUtils.java\\nindex 742319c4f4..800283e56e 100644\\n--- a/clients/src/main/java/org/apache/kafka/common/security/JaasUtils.java\\n+++ b/clients/src/main/java/org/apache/kafka/common/security/JaasUtils.java\\n@@ -16,67 +16,12 @@\\n  */\\n package org.apache.kafka.common.security;\\n \\n-import org.apache.kafka.common.KafkaException;\\n-\\n-import org.slf4j.Logger;\\n-import org.slf4j.LoggerFactory;\\n-\\n-import javax.security.auth.login.Configuration;\\n-\\n public final class JaasUtils {\\n-    private static final Logger LOG = LoggerFactory.getLogger(JaasUtils.class);\\n     public static final String JAVA_LOGIN_CONFIG_PARAM = \"java.security.auth.login.config\";\\n     public static final String DISALLOWED_LOGIN_MODULES_CONFIG = \"org.apache.kafka.disallowed.login.modules\";\\n     public static final String DISALLOWED_LOGIN_MODULES_DEFAULT = \"com.sun.security.auth.module.JndiLoginModule\";\\n     public static final String SERVICE_NAME = \"serviceName\";\\n \\n-    public static final String ZK_SASL_CLIENT = \"zookeeper.sasl.client\";\\n-    public static final String ZK_LOGIN_CONTEXT_NAME_KEY = \"zookeeper.sasl.clientconfig\";\\n-\\n-    private static final String DEFAULT_ZK_LOGIN_CONTEXT_NAME = \"Client\";\\n-    private static final String DEFAULT_ZK_SASL_CLIENT = \"true\";\\n-\\n     private JaasUtils() {}\\n \\n-    public static String zkSecuritySysConfigString() {\\n-        String loginConfig = System.getProperty(JAVA_LOGIN_CONFIG_PARAM);\\n-        String clientEnabled = System.getProperty(ZK_SASL_CLIENT, \"default:\" + DEFAULT_ZK_SASL_CLIENT);\\n-        String contextName = System.getProperty(ZK_LOGIN_CONTEXT_NAME_KEY, \"default:\" + DEFAULT_ZK_LOGIN_CONTEXT_NAME);\\n-        return \"[\" +\\n-                JAVA_LOGIN_CONFIG_PARAM + \"=\" + loginConfig +\\n-                \", \" +\\n-                ZK_SASL_CLIENT + \"=\" + clientEnabled +\\n-                \", \" +\\n-                ZK_LOGIN_CONTEXT_NAME_KEY + \"=\" + contextName +\\n-                \"]\";\\n-    }\\n-\\n-    public static boolean isZkSaslEnabled() {\\n-        // Technically a client must also check if TLS mutual authentication has been configured,\\n-        // but we will leave that up to the client code to determine since direct connectivity to ZooKeeper\\n-        // has been deprecated in many clients and we don\\'t wish to re-introduce a ZooKeeper jar dependency here.\\n-        boolean zkSaslEnabled = Boolean.parseBoolean(System.getProperty(ZK_SASL_CLIENT, DEFAULT_ZK_SASL_CLIENT));\\n-        String zkLoginContextName = System.getProperty(ZK_LOGIN_CONTEXT_NAME_KEY, DEFAULT_ZK_LOGIN_CONTEXT_NAME);\\n-\\n-        LOG.debug(\"Checking login config for Zookeeper JAAS context {}\", zkSecuritySysConfigString());\\n-\\n-        boolean foundLoginConfigEntry;\\n-        try {\\n-            Configuration loginConf = Configuration.getConfiguration();\\n-            foundLoginConfigEntry = loginConf.getAppConfigurationEntry(zkLoginContextName) != null;\\n-        } catch (Exception e) {\\n-            throw new KafkaException(\"Exception while loading Zookeeper JAAS login context \" +\\n-                    zkSecuritySysConfigString(), e);\\n-        }\\n-\\n-        if (foundLoginConfigEntry && !zkSaslEnabled) {\\n-            LOG.error(\"JAAS configuration is present, but system property \" +\\n-                        ZK_SASL_CLIENT + \" is set to false, which disables \" +\\n-                        \"SASL in the ZooKeeper client\");\\n-            throw new KafkaException(\"Exception while determining if ZooKeeper is secure \" +\\n-                    zkSecuritySysConfigString());\\n-        }\\n-\\n-        return foundLoginConfigEntry;\\n-    }\\n }\\n\\n>>>\\n> Retrieved context:\\n>>>\\nRemove ZooKeeper logic from JaasUtils\\n>>>\\n> Relevant (YES / NO):', 'role': 'user'}], 'model': 'gpt-4o-mini', 'n': 1, 'stream': False, 'temperature': 0.0}}\n",
      "DEBUG:openai._base_client:Sending HTTP Request: POST https://api.openai.com/v1/chat/completions\n",
      "DEBUG:httpcore.connection:connect_tcp.started host='api.openai.com' port=443 local_address=None timeout=None socket_options=None\n",
      "DEBUG:httpcore.connection:connect_tcp.complete return_value=<httpcore._backends.sync.SyncStream object at 0x000001B55A4E9CD0>\n",
      "DEBUG:httpcore.connection:start_tls.started ssl_context=<ssl.SSLContext object at 0x000001B55A455E20> server_hostname='api.openai.com' timeout=None\n",
      "DEBUG:httpcore.connection:start_tls.complete return_value=<httpcore._backends.sync.SyncStream object at 0x000001B55A56C170>\n",
      "DEBUG:httpcore.http11:send_request_headers.started request=<Request [b'POST']>\n",
      "DEBUG:httpcore.http11:send_request_headers.complete\n",
      "DEBUG:httpcore.http11:send_request_body.started request=<Request [b'POST']>\n",
      "DEBUG:httpcore.http11:send_request_body.complete\n",
      "DEBUG:httpcore.http11:receive_response_headers.started request=<Request [b'POST']>\n",
      "DEBUG:urllib3.connectionpool:https://api.smith.langchain.com:443 \"POST /runs/multipart HTTP/11\" 202 33\n",
      "DEBUG:httpcore.http11:receive_response_headers.complete return_value=(b'HTTP/1.1', 200, b'OK', [(b'Date', b'Fri, 17 Jan 2025 11:24:45 GMT'), (b'Content-Type', b'application/json'), (b'Transfer-Encoding', b'chunked'), (b'Connection', b'keep-alive'), (b'access-control-expose-headers', b'X-Request-ID'), (b'openai-organization', b'user-yxw5duua92nmh24amrdiwkpm'), (b'openai-processing-ms', b'350'), (b'openai-version', b'2020-10-01'), (b'x-ratelimit-limit-requests', b'10000'), (b'x-ratelimit-limit-tokens', b'200000'), (b'x-ratelimit-remaining-requests', b'9998'), (b'x-ratelimit-remaining-tokens', b'198986'), (b'x-ratelimit-reset-requests', b'13.752s'), (b'x-ratelimit-reset-tokens', b'304ms'), (b'x-request-id', b'req_d359e3689948817adc655689885ed1cd'), (b'strict-transport-security', b'max-age=31536000; includeSubDomains; preload'), (b'CF-Cache-Status', b'DYNAMIC'), (b'Set-Cookie', b'__cf_bm=Fj0lGFWEEiKKUEuQLwIpbAhdd8wJ.jdKxWWsKxLCS4A-1737113085-1.0.1.1-_Ftafyw6t7WKzvuJpkEmgu9fOBc7Ed63isxsW3I1iUSDvb4ujX1NQqpEELMwrcePa4PBQFp9fklbiUkR8RRumA; path=/; expires=Fri, 17-Jan-25 11:54:45 GMT; domain=.api.openai.com; HttpOnly; Secure; SameSite=None'), (b'X-Content-Type-Options', b'nosniff'), (b'Set-Cookie', b'_cfuvid=c5UNITRG7l4TmYGXqhe9SoP6IT2Cj44OJ_9__RQuoiE-1737113085204-0.0.1.1-604800000; path=/; domain=.api.openai.com; HttpOnly; Secure; SameSite=None'), (b'Server', b'cloudflare'), (b'CF-RAY', b'9035fb0a9f4e9c83-SIN'), (b'Content-Encoding', b'gzip'), (b'alt-svc', b'h3=\":443\"; ma=86400')])\n",
      "INFO:httpx:HTTP Request: POST https://api.openai.com/v1/chat/completions \"HTTP/1.1 200 OK\"\n",
      "DEBUG:httpcore.http11:receive_response_body.started request=<Request [b'POST']>\n",
      "DEBUG:httpcore.http11:receive_response_body.complete\n",
      "DEBUG:httpcore.http11:response_closed.started\n",
      "DEBUG:httpcore.http11:response_closed.complete\n",
      "DEBUG:openai._base_client:HTTP Response: POST https://api.openai.com/v1/chat/completions \"200 OK\" Headers([('date', 'Fri, 17 Jan 2025 11:24:45 GMT'), ('content-type', 'application/json'), ('transfer-encoding', 'chunked'), ('connection', 'keep-alive'), ('access-control-expose-headers', 'X-Request-ID'), ('openai-organization', 'user-yxw5duua92nmh24amrdiwkpm'), ('openai-processing-ms', '350'), ('openai-version', '2020-10-01'), ('x-ratelimit-limit-requests', '10000'), ('x-ratelimit-limit-tokens', '200000'), ('x-ratelimit-remaining-requests', '9998'), ('x-ratelimit-remaining-tokens', '198986'), ('x-ratelimit-reset-requests', '13.752s'), ('x-ratelimit-reset-tokens', '304ms'), ('x-request-id', 'req_d359e3689948817adc655689885ed1cd'), ('strict-transport-security', 'max-age=31536000; includeSubDomains; preload'), ('cf-cache-status', 'DYNAMIC'), ('set-cookie', '__cf_bm=Fj0lGFWEEiKKUEuQLwIpbAhdd8wJ.jdKxWWsKxLCS4A-1737113085-1.0.1.1-_Ftafyw6t7WKzvuJpkEmgu9fOBc7Ed63isxsW3I1iUSDvb4ujX1NQqpEELMwrcePa4PBQFp9fklbiUkR8RRumA; path=/; expires=Fri, 17-Jan-25 11:54:45 GMT; domain=.api.openai.com; HttpOnly; Secure; SameSite=None'), ('x-content-type-options', 'nosniff'), ('set-cookie', '_cfuvid=c5UNITRG7l4TmYGXqhe9SoP6IT2Cj44OJ_9__RQuoiE-1737113085204-0.0.1.1-604800000; path=/; domain=.api.openai.com; HttpOnly; Secure; SameSite=None'), ('server', 'cloudflare'), ('cf-ray', '9035fb0a9f4e9c83-SIN'), ('content-encoding', 'gzip'), ('alt-svc', 'h3=\":443\"; ma=86400')])\n",
      "DEBUG:openai._base_client:request_id: req_d359e3689948817adc655689885ed1cd\n"
     ]
    },
    {
     "name": "stderr",
     "output_type": "stream",
     "text": [
      "DEBUG:urllib3.connectionpool:https://api.smith.langchain.com:443 \"POST /runs/multipart HTTP/11\" 202 33\n"
     ]
    }
   ],
   "source": [
    "example_generator.generate_examples(COMMITS, CONTEXT_DATA_PATH, EXAMPLE_GENERATION_OUTPUT_PATH)"
   ]
  },
  {
   "cell_type": "markdown",
   "metadata": {},
   "source": [
    "# Generate Commit Message"
   ]
  },
  {
   "cell_type": "code",
   "execution_count": 5,
   "metadata": {},
   "outputs": [
    {
     "name": "stderr",
     "output_type": "stream",
     "text": [
      "DEBUG:urllib3.connectionpool:Starting new HTTPS connection (1): api.smith.langchain.com:443\n",
      "DEBUG:openai._base_client:Request options: {'method': 'post', 'url': '/chat/completions', 'files': None, 'json_data': {'messages': [{'content': 'Classify the Git diff into one of the following six software maintenance activities: feat, fix, perf, test, refactor, or chore. Return the activity that best matches the code changes. Refer to the definitions below for each activity.\\n\\nfeat: introducing new features into the system.\\nfix: fixing existing bugs or issues in the system.\\nperf: improving the performance of the system.\\ntest: adding, modifying, or deleting test cases.\\nrefactor: changes made to the internal structure of software to make it easier to understand and cheaper to modify without changing its observable behavior, including code styling.\\nchore: regular maintenance tasks, such as updating dependencies or build tasks.\\n\\nAvoid adding any additional comments or annotations to the classification.\\n\\n> Git diff: diff --git a/clients/src/main/java/org/apache/kafka/common/security/JaasUtils.java b/clients/src/main/java/org/apache/kafka/common/security/JaasUtils.java\\nindex 742319c4f4..800283e56e 100644\\n--- a/clients/src/main/java/org/apache/kafka/common/security/JaasUtils.java\\n+++ b/clients/src/main/java/org/apache/kafka/common/security/JaasUtils.java\\n@@ -16,67 +16,12 @@\\n  */\\n package org.apache.kafka.common.security;\\n \\n-import org.apache.kafka.common.KafkaException;\\n-\\n-import org.slf4j.Logger;\\n-import org.slf4j.LoggerFactory;\\n-\\n-import javax.security.auth.login.Configuration;\\n-\\n public final class JaasUtils {\\n-    private static final Logger LOG = LoggerFactory.getLogger(JaasUtils.class);\\n     public static final String JAVA_LOGIN_CONFIG_PARAM = \"java.security.auth.login.config\";\\n     public static final String DISALLOWED_LOGIN_MODULES_CONFIG = \"org.apache.kafka.disallowed.login.modules\";\\n     public static final String DISALLOWED_LOGIN_MODULES_DEFAULT = \"com.sun.security.auth.module.JndiLoginModule\";\\n     public static final String SERVICE_NAME = \"serviceName\";\\n \\n-    public static final String ZK_SASL_CLIENT = \"zookeeper.sasl.client\";\\n-    public static final String ZK_LOGIN_CONTEXT_NAME_KEY = \"zookeeper.sasl.clientconfig\";\\n-\\n-    private static final String DEFAULT_ZK_LOGIN_CONTEXT_NAME = \"Client\";\\n-    private static final String DEFAULT_ZK_SASL_CLIENT = \"true\";\\n-\\n     private JaasUtils() {}\\n \\n-    public static String zkSecuritySysConfigString() {\\n-        String loginConfig = System.getProperty(JAVA_LOGIN_CONFIG_PARAM);\\n-        String clientEnabled = System.getProperty(ZK_SASL_CLIENT, \"default:\" + DEFAULT_ZK_SASL_CLIENT);\\n-        String contextName = System.getProperty(ZK_LOGIN_CONTEXT_NAME_KEY, \"default:\" + DEFAULT_ZK_LOGIN_CONTEXT_NAME);\\n-        return \"[\" +\\n-                JAVA_LOGIN_CONFIG_PARAM + \"=\" + loginConfig +\\n-                \", \" +\\n-                ZK_SASL_CLIENT + \"=\" + clientEnabled +\\n-                \", \" +\\n-                ZK_LOGIN_CONTEXT_NAME_KEY + \"=\" + contextName +\\n-                \"]\";\\n-    }\\n-\\n-    public static boolean isZkSaslEnabled() {\\n-        // Technically a client must also check if TLS mutual authentication has been configured,\\n-        // but we will leave that up to the client code to determine since direct connectivity to ZooKeeper\\n-        // has been deprecated in many clients and we don\\'t wish to re-introduce a ZooKeeper jar dependency here.\\n-        boolean zkSaslEnabled = Boolean.parseBoolean(System.getProperty(ZK_SASL_CLIENT, DEFAULT_ZK_SASL_CLIENT));\\n-        String zkLoginContextName = System.getProperty(ZK_LOGIN_CONTEXT_NAME_KEY, DEFAULT_ZK_LOGIN_CONTEXT_NAME);\\n-\\n-        LOG.debug(\"Checking login config for Zookeeper JAAS context {}\", zkSecuritySysConfigString());\\n-\\n-        boolean foundLoginConfigEntry;\\n-        try {\\n-            Configuration loginConf = Configuration.getConfiguration();\\n-            foundLoginConfigEntry = loginConf.getAppConfigurationEntry(zkLoginContextName) != null;\\n-        } catch (Exception e) {\\n-            throw new KafkaException(\"Exception while loading Zookeeper JAAS login context \" +\\n-                    zkSecuritySysConfigString(), e);\\n-        }\\n-\\n-        if (foundLoginConfigEntry && !zkSaslEnabled) {\\n-            LOG.error(\"JAAS configuration is present, but system property \" +\\n-                        ZK_SASL_CLIENT + \" is set to false, which disables \" +\\n-                        \"SASL in the ZooKeeper client\");\\n-            throw new KafkaException(\"Exception while determining if ZooKeeper is secure \" +\\n-                    zkSecuritySysConfigString());\\n-        }\\n-\\n-        return foundLoginConfigEntry;\\n-    }\\n }\\n\\n\\n> Software maintenance activity (feat / fix / perf / test / refactor / chore):\\n', 'role': 'user'}], 'model': 'gpt-4o-mini', 'n': 1, 'stream': False, 'temperature': 0.0}}\n",
      "DEBUG:openai._base_client:Sending HTTP Request: POST https://api.openai.com/v1/chat/completions\n",
      "DEBUG:httpcore.connection:connect_tcp.started host='api.openai.com' port=443 local_address=None timeout=None socket_options=None\n",
      "DEBUG:httpcore.connection:connect_tcp.complete return_value=<httpcore._backends.sync.SyncStream object at 0x000001F2B8D181A0>\n",
      "DEBUG:httpcore.connection:start_tls.started ssl_context=<ssl.SSLContext object at 0x000001F2B7A890A0> server_hostname='api.openai.com' timeout=None\n",
      "DEBUG:httpcore.connection:start_tls.complete return_value=<httpcore._backends.sync.SyncStream object at 0x000001F2B8C891D0>\n",
      "DEBUG:httpcore.http11:send_request_headers.started request=<Request [b'POST']>\n",
      "DEBUG:httpcore.http11:send_request_headers.complete\n",
      "DEBUG:httpcore.http11:send_request_body.started request=<Request [b'POST']>\n",
      "DEBUG:httpcore.http11:send_request_body.complete\n",
      "DEBUG:httpcore.http11:receive_response_headers.started request=<Request [b'POST']>\n",
      "DEBUG:urllib3.connectionpool:https://api.smith.langchain.com:443 \"GET /info HTTP/11\" 200 672\n",
      "DEBUG:httpcore.http11:receive_response_headers.complete return_value=(b'HTTP/1.1', 200, b'OK', [(b'Date', b'Fri, 17 Jan 2025 11:06:23 GMT'), (b'Content-Type', b'application/json'), (b'Transfer-Encoding', b'chunked'), (b'Connection', b'keep-alive'), (b'access-control-expose-headers', b'X-Request-ID'), (b'openai-organization', b'user-yxw5duua92nmh24amrdiwkpm'), (b'openai-processing-ms', b'198'), (b'openai-version', b'2020-10-01'), (b'x-ratelimit-limit-requests', b'10000'), (b'x-ratelimit-limit-tokens', b'200000'), (b'x-ratelimit-remaining-requests', b'9999'), (b'x-ratelimit-remaining-tokens', b'198851'), (b'x-ratelimit-reset-requests', b'8.64s'), (b'x-ratelimit-reset-tokens', b'344ms'), (b'x-request-id', b'req_fa063f7b670d88adeca91faf69ec0c95'), (b'strict-transport-security', b'max-age=31536000; includeSubDomains; preload'), (b'CF-Cache-Status', b'DYNAMIC'), (b'Set-Cookie', b'__cf_bm=N2FQvvIAWOP.3M7snawxUkfrO4zhKZfo7ctDdZvHYm8-1737111983-1.0.1.1-erkhjqq3tYglUu9nNWX7zk5IX2a4WoVCkr5p_F9.Sahu4laYe5ne4sootxGvnKTMp0eKWwRH.GH4Cl2xvmhaRQ; path=/; expires=Fri, 17-Jan-25 11:36:23 GMT; domain=.api.openai.com; HttpOnly; Secure; SameSite=None'), (b'X-Content-Type-Options', b'nosniff'), (b'Set-Cookie', b'_cfuvid=6pzzm4bTY_NPSxQZhRk6yDpZqnCkuvKjrYvKgM9xx7k-1737111983305-0.0.1.1-604800000; path=/; domain=.api.openai.com; HttpOnly; Secure; SameSite=None'), (b'Server', b'cloudflare'), (b'CF-RAY', b'9035e024bda99ce7-SIN'), (b'Content-Encoding', b'gzip'), (b'alt-svc', b'h3=\":443\"; ma=86400')])\n",
      "INFO:httpx:HTTP Request: POST https://api.openai.com/v1/chat/completions \"HTTP/1.1 200 OK\"\n",
      "DEBUG:httpcore.http11:receive_response_body.started request=<Request [b'POST']>\n",
      "DEBUG:httpcore.http11:receive_response_body.complete\n",
      "DEBUG:httpcore.http11:response_closed.started\n",
      "DEBUG:httpcore.http11:response_closed.complete\n",
      "DEBUG:openai._base_client:HTTP Response: POST https://api.openai.com/v1/chat/completions \"200 OK\" Headers([('date', 'Fri, 17 Jan 2025 11:06:23 GMT'), ('content-type', 'application/json'), ('transfer-encoding', 'chunked'), ('connection', 'keep-alive'), ('access-control-expose-headers', 'X-Request-ID'), ('openai-organization', 'user-yxw5duua92nmh24amrdiwkpm'), ('openai-processing-ms', '198'), ('openai-version', '2020-10-01'), ('x-ratelimit-limit-requests', '10000'), ('x-ratelimit-limit-tokens', '200000'), ('x-ratelimit-remaining-requests', '9999'), ('x-ratelimit-remaining-tokens', '198851'), ('x-ratelimit-reset-requests', '8.64s'), ('x-ratelimit-reset-tokens', '344ms'), ('x-request-id', 'req_fa063f7b670d88adeca91faf69ec0c95'), ('strict-transport-security', 'max-age=31536000; includeSubDomains; preload'), ('cf-cache-status', 'DYNAMIC'), ('set-cookie', '__cf_bm=N2FQvvIAWOP.3M7snawxUkfrO4zhKZfo7ctDdZvHYm8-1737111983-1.0.1.1-erkhjqq3tYglUu9nNWX7zk5IX2a4WoVCkr5p_F9.Sahu4laYe5ne4sootxGvnKTMp0eKWwRH.GH4Cl2xvmhaRQ; path=/; expires=Fri, 17-Jan-25 11:36:23 GMT; domain=.api.openai.com; HttpOnly; Secure; SameSite=None'), ('x-content-type-options', 'nosniff'), ('set-cookie', '_cfuvid=6pzzm4bTY_NPSxQZhRk6yDpZqnCkuvKjrYvKgM9xx7k-1737111983305-0.0.1.1-604800000; path=/; domain=.api.openai.com; HttpOnly; Secure; SameSite=None'), ('server', 'cloudflare'), ('cf-ray', '9035e024bda99ce7-SIN'), ('content-encoding', 'gzip'), ('alt-svc', 'h3=\":443\"; ma=86400')])\n",
      "DEBUG:openai._base_client:request_id: req_fa063f7b670d88adeca91faf69ec0c95\n",
      "DEBUG:openai._base_client:Request options: {'method': 'post', 'url': '/chat/completions', 'files': None, 'json_data': {'messages': [{'content': 'Write a concise commit message based on the Git diff and additional context provided. If the context is relevant, include it in the commit body. Use IDs, names, or titles to reference relevant contexts for brevity. Including multiple contexts is allowed.\\n\\nA good commit message explains what changes were made and why they were necessary. Wrap the body at one to three brief sentences.\\n\\nFollow this format for the commit message:\\n\\n{type}: {subject}\\n\\n{body}\\n\\nGit diff:\\ndiff --git a/clients/src/main/java/org/apache/kafka/common/security/JaasUtils.java b/clients/src/main/java/org/apache/kafka/common/security/JaasUtils.java\\nindex 742319c4f4..800283e56e 100644\\n--- a/clients/src/main/java/org/apache/kafka/common/security/JaasUtils.java\\n+++ b/clients/src/main/java/org/apache/kafka/common/security/JaasUtils.java\\n@@ -16,67 +16,12 @@\\n  */\\n package org.apache.kafka.common.security;\\n \\n-import org.apache.kafka.common.KafkaException;\\n-\\n-import org.slf4j.Logger;\\n-import org.slf4j.LoggerFactory;\\n-\\n-import javax.security.auth.login.Configuration;\\n-\\n public final class JaasUtils {\\n-    private static final Logger LOG = LoggerFactory.getLogger(JaasUtils.class);\\n     public static final String JAVA_LOGIN_CONFIG_PARAM = \"java.security.auth.login.config\";\\n     public static final String DISALLOWED_LOGIN_MODULES_CONFIG = \"org.apache.kafka.disallowed.login.modules\";\\n     public static final String DISALLOWED_LOGIN_MODULES_DEFAULT = \"com.sun.security.auth.module.JndiLoginModule\";\\n     public static final String SERVICE_NAME = \"serviceName\";\\n \\n-    public static final String ZK_SASL_CLIENT = \"zookeeper.sasl.client\";\\n-    public static final String ZK_LOGIN_CONTEXT_NAME_KEY = \"zookeeper.sasl.clientconfig\";\\n-\\n-    private static final String DEFAULT_ZK_LOGIN_CONTEXT_NAME = \"Client\";\\n-    private static final String DEFAULT_ZK_SASL_CLIENT = \"true\";\\n-\\n     private JaasUtils() {}\\n \\n-    public static String zkSecuritySysConfigString() {\\n-        String loginConfig = System.getProperty(JAVA_LOGIN_CONFIG_PARAM);\\n-        String clientEnabled = System.getProperty(ZK_SASL_CLIENT, \"default:\" + DEFAULT_ZK_SASL_CLIENT);\\n-        String contextName = System.getProperty(ZK_LOGIN_CONTEXT_NAME_KEY, \"default:\" + DEFAULT_ZK_LOGIN_CONTEXT_NAME);\\n-        return \"[\" +\\n-                JAVA_LOGIN_CONFIG_PARAM + \"=\" + loginConfig +\\n-                \", \" +\\n-                ZK_SASL_CLIENT + \"=\" + clientEnabled +\\n-                \", \" +\\n-                ZK_LOGIN_CONTEXT_NAME_KEY + \"=\" + contextName +\\n-                \"]\";\\n-    }\\n-\\n-    public static boolean isZkSaslEnabled() {\\n-        // Technically a client must also check if TLS mutual authentication has been configured,\\n-        // but we will leave that up to the client code to determine since direct connectivity to ZooKeeper\\n-        // has been deprecated in many clients and we don\\'t wish to re-introduce a ZooKeeper jar dependency here.\\n-        boolean zkSaslEnabled = Boolean.parseBoolean(System.getProperty(ZK_SASL_CLIENT, DEFAULT_ZK_SASL_CLIENT));\\n-        String zkLoginContextName = System.getProperty(ZK_LOGIN_CONTEXT_NAME_KEY, DEFAULT_ZK_LOGIN_CONTEXT_NAME);\\n-\\n-        LOG.debug(\"Checking login config for Zookeeper JAAS context {}\", zkSecuritySysConfigString());\\n-\\n-        boolean foundLoginConfigEntry;\\n-        try {\\n-            Configuration loginConf = Configuration.getConfiguration();\\n-            foundLoginConfigEntry = loginConf.getAppConfigurationEntry(zkLoginContextName) != null;\\n-        } catch (Exception e) {\\n-            throw new KafkaException(\"Exception while loading Zookeeper JAAS login context \" +\\n-                    zkSecuritySysConfigString(), e);\\n-        }\\n-\\n-        if (foundLoginConfigEntry && !zkSaslEnabled) {\\n-            LOG.error(\"JAAS configuration is present, but system property \" +\\n-                        ZK_SASL_CLIENT + \" is set to false, which disables \" +\\n-                        \"SASL in the ZooKeeper client\");\\n-            throw new KafkaException(\"Exception while determining if ZooKeeper is secure \" +\\n-                    zkSecuritySysConfigString());\\n-        }\\n-\\n-        return foundLoginConfigEntry;\\n-    }\\n }\\n\\n\\nAdditional context:\\n<bound method HighLevelContextCommitMessageGenerationChain.__retrieve_context of <core.chains.HighLevelContextCommitMessageGenerationChain object at 0x000001F2B7AB5400>>\\n\\nCommit type: refactor\\n\\nCommit message: ', 'role': 'user'}], 'model': 'gpt-4o-mini', 'n': 1, 'stream': False, 'temperature': 0.7}}\n",
      "DEBUG:openai._base_client:Sending HTTP Request: POST https://api.openai.com/v1/chat/completions\n",
      "DEBUG:httpcore.connection:connect_tcp.started host='api.openai.com' port=443 local_address=None timeout=None socket_options=None\n",
      "DEBUG:httpcore.connection:connect_tcp.complete return_value=<httpcore._backends.sync.SyncStream object at 0x000001F2B8C8A210>\n",
      "DEBUG:httpcore.connection:start_tls.started ssl_context=<ssl.SSLContext object at 0x000001F2B7A895B0> server_hostname='api.openai.com' timeout=None\n",
      "DEBUG:httpcore.connection:start_tls.complete return_value=<httpcore._backends.sync.SyncStream object at 0x000001F2B8CC8510>\n",
      "DEBUG:httpcore.http11:send_request_headers.started request=<Request [b'POST']>\n",
      "DEBUG:httpcore.http11:send_request_headers.complete\n",
      "DEBUG:httpcore.http11:send_request_body.started request=<Request [b'POST']>\n",
      "DEBUG:httpcore.http11:send_request_body.complete\n",
      "DEBUG:httpcore.http11:receive_response_headers.started request=<Request [b'POST']>\n",
      "DEBUG:urllib3.connectionpool:https://api.smith.langchain.com:443 \"POST /runs/multipart HTTP/11\" 202 33\n",
      "DEBUG:urllib3.connectionpool:https://api.smith.langchain.com:443 \"POST /runs/multipart HTTP/11\" 202 33\n",
      "DEBUG:httpcore.http11:receive_response_headers.complete return_value=(b'HTTP/1.1', 200, b'OK', [(b'Date', b'Fri, 17 Jan 2025 11:06:24 GMT'), (b'Content-Type', b'application/json'), (b'Transfer-Encoding', b'chunked'), (b'Connection', b'keep-alive'), (b'access-control-expose-headers', b'X-Request-ID'), (b'openai-organization', b'user-yxw5duua92nmh24amrdiwkpm'), (b'openai-processing-ms', b'1154'), (b'openai-version', b'2020-10-01'), (b'x-ratelimit-limit-requests', b'10000'), (b'x-ratelimit-limit-tokens', b'200000'), (b'x-ratelimit-remaining-requests', b'9998'), (b'x-ratelimit-remaining-tokens', b'198891'), (b'x-ratelimit-reset-requests', b'16.706s'), (b'x-ratelimit-reset-tokens', b'332ms'), (b'x-request-id', b'req_f9bc42c43365599bf64e5257c4062a27'), (b'strict-transport-security', b'max-age=31536000; includeSubDomains; preload'), (b'CF-Cache-Status', b'DYNAMIC'), (b'Set-Cookie', b'__cf_bm=JcuQuloJFOPAZAzPI2spfnQ8kIIlxouReLZhHC67c_g-1737111984-1.0.1.1-o5fAWyQhK8TGIZc1Ikrs3JPhTr1O9YIbSKxXZlzdCq9ZyAQSW2CfmPCtfx7W7zuRj0zTAoAs_zwnbLucnK.oWw; path=/; expires=Fri, 17-Jan-25 11:36:24 GMT; domain=.api.openai.com; HttpOnly; Secure; SameSite=None'), (b'X-Content-Type-Options', b'nosniff'), (b'Set-Cookie', b'_cfuvid=bW6CJ.YnH6cxWFZpqZ4Y5cm1YoxmKoSp0Ips7CI0EH0-1737111984842-0.0.1.1-604800000; path=/; domain=.api.openai.com; HttpOnly; Secure; SameSite=None'), (b'Server', b'cloudflare'), (b'CF-RAY', b'9035e0285cb7cde6-SIN'), (b'Content-Encoding', b'gzip'), (b'alt-svc', b'h3=\":443\"; ma=86400')])\n",
      "INFO:httpx:HTTP Request: POST https://api.openai.com/v1/chat/completions \"HTTP/1.1 200 OK\"\n",
      "DEBUG:httpcore.http11:receive_response_body.started request=<Request [b'POST']>\n",
      "DEBUG:httpcore.http11:receive_response_body.complete\n",
      "DEBUG:httpcore.http11:response_closed.started\n",
      "DEBUG:httpcore.http11:response_closed.complete\n",
      "DEBUG:openai._base_client:HTTP Response: POST https://api.openai.com/v1/chat/completions \"200 OK\" Headers([('date', 'Fri, 17 Jan 2025 11:06:24 GMT'), ('content-type', 'application/json'), ('transfer-encoding', 'chunked'), ('connection', 'keep-alive'), ('access-control-expose-headers', 'X-Request-ID'), ('openai-organization', 'user-yxw5duua92nmh24amrdiwkpm'), ('openai-processing-ms', '1154'), ('openai-version', '2020-10-01'), ('x-ratelimit-limit-requests', '10000'), ('x-ratelimit-limit-tokens', '200000'), ('x-ratelimit-remaining-requests', '9998'), ('x-ratelimit-remaining-tokens', '198891'), ('x-ratelimit-reset-requests', '16.706s'), ('x-ratelimit-reset-tokens', '332ms'), ('x-request-id', 'req_f9bc42c43365599bf64e5257c4062a27'), ('strict-transport-security', 'max-age=31536000; includeSubDomains; preload'), ('cf-cache-status', 'DYNAMIC'), ('set-cookie', '__cf_bm=JcuQuloJFOPAZAzPI2spfnQ8kIIlxouReLZhHC67c_g-1737111984-1.0.1.1-o5fAWyQhK8TGIZc1Ikrs3JPhTr1O9YIbSKxXZlzdCq9ZyAQSW2CfmPCtfx7W7zuRj0zTAoAs_zwnbLucnK.oWw; path=/; expires=Fri, 17-Jan-25 11:36:24 GMT; domain=.api.openai.com; HttpOnly; Secure; SameSite=None'), ('x-content-type-options', 'nosniff'), ('set-cookie', '_cfuvid=bW6CJ.YnH6cxWFZpqZ4Y5cm1YoxmKoSp0Ips7CI0EH0-1737111984842-0.0.1.1-604800000; path=/; domain=.api.openai.com; HttpOnly; Secure; SameSite=None'), ('server', 'cloudflare'), ('cf-ray', '9035e0285cb7cde6-SIN'), ('content-encoding', 'gzip'), ('alt-svc', 'h3=\":443\"; ma=86400')])\n",
      "DEBUG:openai._base_client:request_id: req_f9bc42c43365599bf64e5257c4062a27\n",
      "DEBUG:openai._base_client:Request options: {'method': 'post', 'url': '/chat/completions', 'files': None, 'json_data': {'messages': [{'content': 'Classify the Git diff into one of the following six software maintenance activities: feat, fix, perf, test, refactor, or chore. Return the activity that best matches the code changes. Refer to the definitions below for each activity.\\n\\nfeat: introducing new features into the system.\\nfix: fixing existing bugs or issues in the system.\\nperf: improving the performance of the system.\\ntest: adding, modifying, or deleting test cases.\\nrefactor: changes made to the internal structure of software to make it easier to understand and cheaper to modify without changing its observable behavior, including code styling.\\nchore: regular maintenance tasks, such as updating dependencies or build tasks.\\n\\nAvoid adding any additional comments or annotations to the classification.\\n\\n> Git diff: diff --git a/clients/src/main/java/org/apache/kafka/common/security/JaasUtils.java b/clients/src/main/java/org/apache/kafka/common/security/JaasUtils.java\\nindex 742319c4f4..800283e56e 100644\\n--- a/clients/src/main/java/org/apache/kafka/common/security/JaasUtils.java\\n+++ b/clients/src/main/java/org/apache/kafka/common/security/JaasUtils.java\\n@@ -16,67 +16,12 @@\\n  */\\n package org.apache.kafka.common.security;\\n \\n-import org.apache.kafka.common.KafkaException;\\n-\\n-import org.slf4j.Logger;\\n-import org.slf4j.LoggerFactory;\\n-\\n-import javax.security.auth.login.Configuration;\\n-\\n public final class JaasUtils {\\n-    private static final Logger LOG = LoggerFactory.getLogger(JaasUtils.class);\\n     public static final String JAVA_LOGIN_CONFIG_PARAM = \"java.security.auth.login.config\";\\n     public static final String DISALLOWED_LOGIN_MODULES_CONFIG = \"org.apache.kafka.disallowed.login.modules\";\\n     public static final String DISALLOWED_LOGIN_MODULES_DEFAULT = \"com.sun.security.auth.module.JndiLoginModule\";\\n     public static final String SERVICE_NAME = \"serviceName\";\\n \\n-    public static final String ZK_SASL_CLIENT = \"zookeeper.sasl.client\";\\n-    public static final String ZK_LOGIN_CONTEXT_NAME_KEY = \"zookeeper.sasl.clientconfig\";\\n-\\n-    private static final String DEFAULT_ZK_LOGIN_CONTEXT_NAME = \"Client\";\\n-    private static final String DEFAULT_ZK_SASL_CLIENT = \"true\";\\n-\\n     private JaasUtils() {}\\n \\n-    public static String zkSecuritySysConfigString() {\\n-        String loginConfig = System.getProperty(JAVA_LOGIN_CONFIG_PARAM);\\n-        String clientEnabled = System.getProperty(ZK_SASL_CLIENT, \"default:\" + DEFAULT_ZK_SASL_CLIENT);\\n-        String contextName = System.getProperty(ZK_LOGIN_CONTEXT_NAME_KEY, \"default:\" + DEFAULT_ZK_LOGIN_CONTEXT_NAME);\\n-        return \"[\" +\\n-                JAVA_LOGIN_CONFIG_PARAM + \"=\" + loginConfig +\\n-                \", \" +\\n-                ZK_SASL_CLIENT + \"=\" + clientEnabled +\\n-                \", \" +\\n-                ZK_LOGIN_CONTEXT_NAME_KEY + \"=\" + contextName +\\n-                \"]\";\\n-    }\\n-\\n-    public static boolean isZkSaslEnabled() {\\n-        // Technically a client must also check if TLS mutual authentication has been configured,\\n-        // but we will leave that up to the client code to determine since direct connectivity to ZooKeeper\\n-        // has been deprecated in many clients and we don\\'t wish to re-introduce a ZooKeeper jar dependency here.\\n-        boolean zkSaslEnabled = Boolean.parseBoolean(System.getProperty(ZK_SASL_CLIENT, DEFAULT_ZK_SASL_CLIENT));\\n-        String zkLoginContextName = System.getProperty(ZK_LOGIN_CONTEXT_NAME_KEY, DEFAULT_ZK_LOGIN_CONTEXT_NAME);\\n-\\n-        LOG.debug(\"Checking login config for Zookeeper JAAS context {}\", zkSecuritySysConfigString());\\n-\\n-        boolean foundLoginConfigEntry;\\n-        try {\\n-            Configuration loginConf = Configuration.getConfiguration();\\n-            foundLoginConfigEntry = loginConf.getAppConfigurationEntry(zkLoginContextName) != null;\\n-        } catch (Exception e) {\\n-            throw new KafkaException(\"Exception while loading Zookeeper JAAS login context \" +\\n-                    zkSecuritySysConfigString(), e);\\n-        }\\n-\\n-        if (foundLoginConfigEntry && !zkSaslEnabled) {\\n-            LOG.error(\"JAAS configuration is present, but system property \" +\\n-                        ZK_SASL_CLIENT + \" is set to false, which disables \" +\\n-                        \"SASL in the ZooKeeper client\");\\n-            throw new KafkaException(\"Exception while determining if ZooKeeper is secure \" +\\n-                    zkSecuritySysConfigString());\\n-        }\\n-\\n-        return foundLoginConfigEntry;\\n-    }\\n }\\n\\n\\n> Software maintenance activity (feat / fix / perf / test / refactor / chore):\\n', 'role': 'user'}], 'model': 'gpt-4o-mini', 'n': 1, 'stream': False, 'temperature': 0.0}}\n",
      "DEBUG:openai._base_client:Sending HTTP Request: POST https://api.openai.com/v1/chat/completions\n",
      "DEBUG:httpcore.http11:send_request_headers.started request=<Request [b'POST']>\n",
      "DEBUG:httpcore.http11:send_request_headers.complete\n",
      "DEBUG:httpcore.http11:send_request_body.started request=<Request [b'POST']>\n",
      "DEBUG:httpcore.http11:send_request_body.complete\n",
      "DEBUG:httpcore.http11:receive_response_headers.started request=<Request [b'POST']>\n",
      "DEBUG:httpcore.http11:receive_response_headers.complete return_value=(b'HTTP/1.1', 200, b'OK', [(b'Date', b'Fri, 17 Jan 2025 11:06:25 GMT'), (b'Content-Type', b'application/json'), (b'Transfer-Encoding', b'chunked'), (b'Connection', b'keep-alive'), (b'access-control-expose-headers', b'X-Request-ID'), (b'openai-organization', b'user-yxw5duua92nmh24amrdiwkpm'), (b'openai-processing-ms', b'201'), (b'openai-version', b'2020-10-01'), (b'x-ratelimit-limit-requests', b'10000'), (b'x-ratelimit-limit-tokens', b'200000'), (b'x-ratelimit-remaining-requests', b'9997'), (b'x-ratelimit-remaining-tokens', b'198851'), (b'x-ratelimit-reset-requests', b'23.877s'), (b'x-ratelimit-reset-tokens', b'344ms'), (b'x-request-id', b'req_234bd4e9b64ced1b7abc0b49a2df9df0'), (b'strict-transport-security', b'max-age=31536000; includeSubDomains; preload'), (b'CF-Cache-Status', b'DYNAMIC'), (b'X-Content-Type-Options', b'nosniff'), (b'Server', b'cloudflare'), (b'CF-RAY', b'9035e03178c19ce7-SIN'), (b'Content-Encoding', b'gzip'), (b'alt-svc', b'h3=\":443\"; ma=86400')])\n",
      "INFO:httpx:HTTP Request: POST https://api.openai.com/v1/chat/completions \"HTTP/1.1 200 OK\"\n",
      "DEBUG:httpcore.http11:receive_response_body.started request=<Request [b'POST']>\n",
      "DEBUG:httpcore.http11:receive_response_body.complete\n",
      "DEBUG:httpcore.http11:response_closed.started\n",
      "DEBUG:httpcore.http11:response_closed.complete\n",
      "DEBUG:openai._base_client:HTTP Response: POST https://api.openai.com/v1/chat/completions \"200 OK\" Headers({'date': 'Fri, 17 Jan 2025 11:06:25 GMT', 'content-type': 'application/json', 'transfer-encoding': 'chunked', 'connection': 'keep-alive', 'access-control-expose-headers': 'X-Request-ID', 'openai-organization': 'user-yxw5duua92nmh24amrdiwkpm', 'openai-processing-ms': '201', 'openai-version': '2020-10-01', 'x-ratelimit-limit-requests': '10000', 'x-ratelimit-limit-tokens': '200000', 'x-ratelimit-remaining-requests': '9997', 'x-ratelimit-remaining-tokens': '198851', 'x-ratelimit-reset-requests': '23.877s', 'x-ratelimit-reset-tokens': '344ms', 'x-request-id': 'req_234bd4e9b64ced1b7abc0b49a2df9df0', 'strict-transport-security': 'max-age=31536000; includeSubDomains; preload', 'cf-cache-status': 'DYNAMIC', 'x-content-type-options': 'nosniff', 'server': 'cloudflare', 'cf-ray': '9035e03178c19ce7-SIN', 'content-encoding': 'gzip', 'alt-svc': 'h3=\":443\"; ma=86400'})\n",
      "DEBUG:openai._base_client:request_id: req_234bd4e9b64ced1b7abc0b49a2df9df0\n",
      "DEBUG:openai._base_client:Request options: {'method': 'post', 'url': '/chat/completions', 'files': None, 'json_data': {'messages': [{'content': 'Write a concise commit message based on the Git diff and additional context provided. If the context is relevant, include it in the commit body. Use IDs, names, or titles to reference relevant contexts for brevity. Including multiple contexts is allowed.\\n\\nA good commit message explains what changes were made and why they were necessary. Wrap the body at one to three brief sentences.\\n\\nFollow this format for the commit message:\\n\\n{type}: {subject}\\n\\n{body}\\n\\nGit diff:\\ndiff --git a/clients/src/main/java/org/apache/kafka/common/security/JaasUtils.java b/clients/src/main/java/org/apache/kafka/common/security/JaasUtils.java\\nindex 742319c4f4..800283e56e 100644\\n--- a/clients/src/main/java/org/apache/kafka/common/security/JaasUtils.java\\n+++ b/clients/src/main/java/org/apache/kafka/common/security/JaasUtils.java\\n@@ -16,67 +16,12 @@\\n  */\\n package org.apache.kafka.common.security;\\n \\n-import org.apache.kafka.common.KafkaException;\\n-\\n-import org.slf4j.Logger;\\n-import org.slf4j.LoggerFactory;\\n-\\n-import javax.security.auth.login.Configuration;\\n-\\n public final class JaasUtils {\\n-    private static final Logger LOG = LoggerFactory.getLogger(JaasUtils.class);\\n     public static final String JAVA_LOGIN_CONFIG_PARAM = \"java.security.auth.login.config\";\\n     public static final String DISALLOWED_LOGIN_MODULES_CONFIG = \"org.apache.kafka.disallowed.login.modules\";\\n     public static final String DISALLOWED_LOGIN_MODULES_DEFAULT = \"com.sun.security.auth.module.JndiLoginModule\";\\n     public static final String SERVICE_NAME = \"serviceName\";\\n \\n-    public static final String ZK_SASL_CLIENT = \"zookeeper.sasl.client\";\\n-    public static final String ZK_LOGIN_CONTEXT_NAME_KEY = \"zookeeper.sasl.clientconfig\";\\n-\\n-    private static final String DEFAULT_ZK_LOGIN_CONTEXT_NAME = \"Client\";\\n-    private static final String DEFAULT_ZK_SASL_CLIENT = \"true\";\\n-\\n     private JaasUtils() {}\\n \\n-    public static String zkSecuritySysConfigString() {\\n-        String loginConfig = System.getProperty(JAVA_LOGIN_CONFIG_PARAM);\\n-        String clientEnabled = System.getProperty(ZK_SASL_CLIENT, \"default:\" + DEFAULT_ZK_SASL_CLIENT);\\n-        String contextName = System.getProperty(ZK_LOGIN_CONTEXT_NAME_KEY, \"default:\" + DEFAULT_ZK_LOGIN_CONTEXT_NAME);\\n-        return \"[\" +\\n-                JAVA_LOGIN_CONFIG_PARAM + \"=\" + loginConfig +\\n-                \", \" +\\n-                ZK_SASL_CLIENT + \"=\" + clientEnabled +\\n-                \", \" +\\n-                ZK_LOGIN_CONTEXT_NAME_KEY + \"=\" + contextName +\\n-                \"]\";\\n-    }\\n-\\n-    public static boolean isZkSaslEnabled() {\\n-        // Technically a client must also check if TLS mutual authentication has been configured,\\n-        // but we will leave that up to the client code to determine since direct connectivity to ZooKeeper\\n-        // has been deprecated in many clients and we don\\'t wish to re-introduce a ZooKeeper jar dependency here.\\n-        boolean zkSaslEnabled = Boolean.parseBoolean(System.getProperty(ZK_SASL_CLIENT, DEFAULT_ZK_SASL_CLIENT));\\n-        String zkLoginContextName = System.getProperty(ZK_LOGIN_CONTEXT_NAME_KEY, DEFAULT_ZK_LOGIN_CONTEXT_NAME);\\n-\\n-        LOG.debug(\"Checking login config for Zookeeper JAAS context {}\", zkSecuritySysConfigString());\\n-\\n-        boolean foundLoginConfigEntry;\\n-        try {\\n-            Configuration loginConf = Configuration.getConfiguration();\\n-            foundLoginConfigEntry = loginConf.getAppConfigurationEntry(zkLoginContextName) != null;\\n-        } catch (Exception e) {\\n-            throw new KafkaException(\"Exception while loading Zookeeper JAAS login context \" +\\n-                    zkSecuritySysConfigString(), e);\\n-        }\\n-\\n-        if (foundLoginConfigEntry && !zkSaslEnabled) {\\n-            LOG.error(\"JAAS configuration is present, but system property \" +\\n-                        ZK_SASL_CLIENT + \" is set to false, which disables \" +\\n-                        \"SASL in the ZooKeeper client\");\\n-            throw new KafkaException(\"Exception while determining if ZooKeeper is secure \" +\\n-                    zkSecuritySysConfigString());\\n-        }\\n-\\n-        return foundLoginConfigEntry;\\n-    }\\n }\\n\\n\\nAdditional context:\\n<bound method HighLevelContextCommitMessageGenerationChain.__retrieve_context of <core.chains.HighLevelContextCommitMessageGenerationChain object at 0x000001F2B7AE56D0>>\\n\\nCommit type: refactor\\n\\nCommit message: ', 'role': 'user'}], 'model': 'gpt-4o-mini', 'n': 1, 'stream': False, 'temperature': 0.7}}\n",
      "DEBUG:openai._base_client:Sending HTTP Request: POST https://api.openai.com/v1/chat/completions\n",
      "DEBUG:httpcore.connection:connect_tcp.started host='api.openai.com' port=443 local_address=None timeout=None socket_options=None\n",
      "DEBUG:httpcore.connection:connect_tcp.complete return_value=<httpcore._backends.sync.SyncStream object at 0x000001F2B8CC9BA0>\n",
      "DEBUG:urllib3.connectionpool:https://api.smith.langchain.com:443 \"POST /runs/multipart HTTP/11\" 202 33\n",
      "DEBUG:httpcore.connection:start_tls.started ssl_context=<ssl.SSLContext object at 0x000001F2B7A896D0> server_hostname='api.openai.com' timeout=None\n",
      "DEBUG:httpcore.connection:start_tls.complete return_value=<httpcore._backends.sync.SyncStream object at 0x000001F2B8B460F0>\n",
      "DEBUG:httpcore.http11:send_request_headers.started request=<Request [b'POST']>\n",
      "DEBUG:httpcore.http11:send_request_headers.complete\n",
      "DEBUG:httpcore.http11:send_request_body.started request=<Request [b'POST']>\n",
      "DEBUG:httpcore.http11:send_request_body.complete\n",
      "DEBUG:httpcore.http11:receive_response_headers.started request=<Request [b'POST']>\n",
      "DEBUG:urllib3.connectionpool:https://api.smith.langchain.com:443 \"POST /runs/multipart HTTP/11\" 202 33\n",
      "DEBUG:httpcore.http11:receive_response_headers.complete return_value=(b'HTTP/1.1', 200, b'OK', [(b'Date', b'Fri, 17 Jan 2025 11:06:27 GMT'), (b'Content-Type', b'application/json'), (b'Transfer-Encoding', b'chunked'), (b'Connection', b'keep-alive'), (b'access-control-expose-headers', b'X-Request-ID'), (b'openai-organization', b'user-yxw5duua92nmh24amrdiwkpm'), (b'openai-processing-ms', b'1718'), (b'openai-version', b'2020-10-01'), (b'x-ratelimit-limit-requests', b'10000'), (b'x-ratelimit-limit-tokens', b'200000'), (b'x-ratelimit-remaining-requests', b'9996'), (b'x-ratelimit-remaining-tokens', b'198891'), (b'x-ratelimit-reset-requests', b'31.893s'), (b'x-ratelimit-reset-tokens', b'332ms'), (b'x-request-id', b'req_f323c6dd079f6925e9cd13ac4b9b1caf'), (b'strict-transport-security', b'max-age=31536000; includeSubDomains; preload'), (b'CF-Cache-Status', b'DYNAMIC'), (b'Set-Cookie', b'__cf_bm=nFEDxCx8Stn0hDvWUZSUFzbZLrK9BpmBGyqB1tfKVEQ-1737111987-1.0.1.1-oD1dwvqUNVykrDX3.VMolgfvfxO9L.BLjgpEfHfdAtqszY.1ukIeBlmq6YlWl1sfamJ.y6N9ZPC7BfhLaZYJcw; path=/; expires=Fri, 17-Jan-25 11:36:27 GMT; domain=.api.openai.com; HttpOnly; Secure; SameSite=None'), (b'X-Content-Type-Options', b'nosniff'), (b'Set-Cookie', b'_cfuvid=2apTNrD5fK3rThkJ542bm.79l_0DEtd16mKI9o6jy_Y-1737111987498-0.0.1.1-604800000; path=/; domain=.api.openai.com; HttpOnly; Secure; SameSite=None'), (b'Server', b'cloudflare'), (b'CF-RAY', b'9035e0354edfab4a-SIN'), (b'Content-Encoding', b'gzip'), (b'alt-svc', b'h3=\":443\"; ma=86400')])\n",
      "INFO:httpx:HTTP Request: POST https://api.openai.com/v1/chat/completions \"HTTP/1.1 200 OK\"\n",
      "DEBUG:httpcore.http11:receive_response_body.started request=<Request [b'POST']>\n",
      "DEBUG:httpcore.http11:receive_response_body.complete\n",
      "DEBUG:httpcore.http11:response_closed.started\n",
      "DEBUG:httpcore.http11:response_closed.complete\n",
      "DEBUG:openai._base_client:HTTP Response: POST https://api.openai.com/v1/chat/completions \"200 OK\" Headers([('date', 'Fri, 17 Jan 2025 11:06:27 GMT'), ('content-type', 'application/json'), ('transfer-encoding', 'chunked'), ('connection', 'keep-alive'), ('access-control-expose-headers', 'X-Request-ID'), ('openai-organization', 'user-yxw5duua92nmh24amrdiwkpm'), ('openai-processing-ms', '1718'), ('openai-version', '2020-10-01'), ('x-ratelimit-limit-requests', '10000'), ('x-ratelimit-limit-tokens', '200000'), ('x-ratelimit-remaining-requests', '9996'), ('x-ratelimit-remaining-tokens', '198891'), ('x-ratelimit-reset-requests', '31.893s'), ('x-ratelimit-reset-tokens', '332ms'), ('x-request-id', 'req_f323c6dd079f6925e9cd13ac4b9b1caf'), ('strict-transport-security', 'max-age=31536000; includeSubDomains; preload'), ('cf-cache-status', 'DYNAMIC'), ('set-cookie', '__cf_bm=nFEDxCx8Stn0hDvWUZSUFzbZLrK9BpmBGyqB1tfKVEQ-1737111987-1.0.1.1-oD1dwvqUNVykrDX3.VMolgfvfxO9L.BLjgpEfHfdAtqszY.1ukIeBlmq6YlWl1sfamJ.y6N9ZPC7BfhLaZYJcw; path=/; expires=Fri, 17-Jan-25 11:36:27 GMT; domain=.api.openai.com; HttpOnly; Secure; SameSite=None'), ('x-content-type-options', 'nosniff'), ('set-cookie', '_cfuvid=2apTNrD5fK3rThkJ542bm.79l_0DEtd16mKI9o6jy_Y-1737111987498-0.0.1.1-604800000; path=/; domain=.api.openai.com; HttpOnly; Secure; SameSite=None'), ('server', 'cloudflare'), ('cf-ray', '9035e0354edfab4a-SIN'), ('content-encoding', 'gzip'), ('alt-svc', 'h3=\":443\"; ma=86400')])\n",
      "DEBUG:openai._base_client:request_id: req_f323c6dd079f6925e9cd13ac4b9b1caf\n"
     ]
    },
    {
     "name": "stderr",
     "output_type": "stream",
     "text": [
      "DEBUG:urllib3.connectionpool:https://api.smith.langchain.com:443 \"POST /runs/multipart HTTP/11\" 202 33\n"
     ]
    }
   ],
   "source": [
    "evaluator.evaluate(GENERATORS, COMMITS, CMG_OUTPUT_PATH)"
   ]
  }
 ],
 "metadata": {
  "kernelspec": {
   "display_name": "venv",
   "language": "python",
   "name": "python3"
  },
  "language_info": {
   "codemirror_mode": {
    "name": "ipython",
    "version": 3
   },
   "file_extension": ".py",
   "mimetype": "text/x-python",
   "name": "python",
   "nbconvert_exporter": "python",
   "pygments_lexer": "ipython3",
   "version": "3.13.0"
  }
 },
 "nbformat": 4,
 "nbformat_minor": 2
}
