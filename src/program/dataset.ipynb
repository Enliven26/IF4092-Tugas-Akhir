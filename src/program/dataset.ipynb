{
 "cells": [
  {
   "cell_type": "code",
   "execution_count": 5,
   "metadata": {},
   "outputs": [],
   "source": [
    "# Imports\n",
    "\n",
    "import os\n",
    "import pandas as pd"
   ]
  },
  {
   "cell_type": "code",
   "execution_count": 6,
   "metadata": {},
   "outputs": [],
   "source": [
    "# Constants\n",
    "\n",
    "DATASET_PATH = os.path.join(\"data\", \"datageneration\", \"dataset.parquet\")"
   ]
  },
  {
   "cell_type": "code",
   "execution_count": 8,
   "metadata": {},
   "outputs": [
    {
     "name": "stdout",
     "output_type": "stream",
     "text": [
      "   author                 date  timezone  \\\n",
      "0  652323  02.12.2017 23:37:47    -10800   \n",
      "1  652304  09.01.2018 21:25:28    -10800   \n",
      "2  652323  26.01.2018 10:03:56         0   \n",
      "3  652304  30.01.2018 17:46:06    -10800   \n",
      "4  652303  13.03.2018 11:59:28    -10800   \n",
      "\n",
      "                                       hash  \\\n",
      "0  eea4c9c55a01df00e5518ee497cc086ac5e163e0   \n",
      "1  1308f18b14675b25ce7ba79da37b397a1c55ef57   \n",
      "2  e4b446cd3dd2710f37073a3feba97acf7e790924   \n",
      "3  f0ceee6b95fcad7e119d90277b27d5d972ce23c7   \n",
      "4  de2e1d1225e2b18c9998940641968128ed9a77ae   \n",
      "\n",
      "                                             message  \\\n",
      "0                        fix ItemController template   \n",
      "1                                 artifactory deploy   \n",
      "2  bitbucket-pipelines.yml deleted online with Bi...   \n",
      "3                                  fix. access level   \n",
      "4  #ANDDEP-97 made every instance of ItemControll...   \n",
      "\n",
      "                                                mods language  \\\n",
      "0  [{'change_type': 'MODIFY', 'old_path': 'templa...   Kotlin   \n",
      "1  [{'change_type': 'MODIFY', 'old_path': 'build....   Kotlin   \n",
      "2  [{'change_type': 'DELETE', 'old_path': 'bitbuc...   Kotlin   \n",
      "3  [{'change_type': 'MODIFY', 'old_path': 'filest...   Kotlin   \n",
      "4  [{'change_type': 'MODIFY', 'old_path': 'easyad...   Kotlin   \n",
      "\n",
      "              license                            repo  \\\n",
      "0  Apache License 2.0  surfstudio/surfandroidstandard   \n",
      "1  Apache License 2.0  surfstudio/surfandroidstandard   \n",
      "2  Apache License 2.0  surfstudio/surfandroidstandard   \n",
      "3  Apache License 2.0  surfstudio/surfandroidstandard   \n",
      "4  Apache License 2.0  surfstudio/surfandroidstandard   \n",
      "\n",
      "                                    original_message  \n",
      "0                        fix ItemController template  \n",
      "1                                 artifactory deploy  \n",
      "2  bitbucket-pipelines.yml deleted online with Bi...  \n",
      "3                                  fix. access level  \n",
      "4  #ANDDEP-97 made every instance of ItemControll...  \n"
     ]
    }
   ],
   "source": [
    "df = pd.read_parquet(DATASET_PATH)\n",
    "\n",
    "print(df.head())"
   ]
  }
 ],
 "metadata": {
  "kernelspec": {
   "display_name": "venv",
   "language": "python",
   "name": "python3"
  },
  "language_info": {
   "codemirror_mode": {
    "name": "ipython",
    "version": 3
   },
   "file_extension": ".py",
   "mimetype": "text/x-python",
   "name": "python",
   "nbconvert_exporter": "python",
   "pygments_lexer": "ipython3",
   "version": "3.13.0"
  }
 },
 "nbformat": 4,
 "nbformat_minor": 2
}
