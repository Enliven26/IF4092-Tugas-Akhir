{
 "cells": [
  {
   "cell_type": "code",
   "execution_count": 2,
   "metadata": {},
   "outputs": [],
   "source": [
    "# Imports\n",
    "\n",
    "import os\n",
    "import pandas as pd\n",
    "import json"
   ]
  },
  {
   "cell_type": "code",
   "execution_count": 3,
   "metadata": {},
   "outputs": [],
   "source": [
    "# Constants\n",
    "\n",
    "DATASET_PATH = os.path.join(\"data\", \"datageneration\", \"datasets\", \"dataset.parquet\")\n",
    "DIFFS_PATH = os.path.join(\"data\", \"datageneration\", \"diffs.json\")"
   ]
  },
  {
   "cell_type": "code",
   "execution_count": 9,
   "metadata": {},
   "outputs": [
    {
     "data": {
      "text/html": [
       "<div>\n",
       "<style scoped>\n",
       "    .dataframe tbody tr th:only-of-type {\n",
       "        vertical-align: middle;\n",
       "    }\n",
       "\n",
       "    .dataframe tbody tr th {\n",
       "        vertical-align: top;\n",
       "    }\n",
       "\n",
       "    .dataframe thead th {\n",
       "        text-align: right;\n",
       "    }\n",
       "</style>\n",
       "<table border=\"1\" class=\"dataframe\">\n",
       "  <thead>\n",
       "    <tr style=\"text-align: right;\">\n",
       "      <th></th>\n",
       "      <th>author</th>\n",
       "      <th>date</th>\n",
       "      <th>timezone</th>\n",
       "      <th>hash</th>\n",
       "      <th>message</th>\n",
       "      <th>mods</th>\n",
       "      <th>language</th>\n",
       "      <th>license</th>\n",
       "      <th>repo</th>\n",
       "      <th>original_message</th>\n",
       "    </tr>\n",
       "  </thead>\n",
       "  <tbody>\n",
       "    <tr>\n",
       "      <th>0</th>\n",
       "      <td>652323</td>\n",
       "      <td>02.12.2017 23:37:47</td>\n",
       "      <td>-10800</td>\n",
       "      <td>eea4c9c55a01df00e5518ee497cc086ac5e163e0</td>\n",
       "      <td>fix ItemController template</td>\n",
       "      <td>[{'change_type': 'MODIFY', 'old_path': 'templa...</td>\n",
       "      <td>Kotlin</td>\n",
       "      <td>Apache License 2.0</td>\n",
       "      <td>surfstudio/surfandroidstandard</td>\n",
       "      <td>fix ItemController template</td>\n",
       "    </tr>\n",
       "    <tr>\n",
       "      <th>1</th>\n",
       "      <td>652304</td>\n",
       "      <td>09.01.2018 21:25:28</td>\n",
       "      <td>-10800</td>\n",
       "      <td>1308f18b14675b25ce7ba79da37b397a1c55ef57</td>\n",
       "      <td>artifactory deploy</td>\n",
       "      <td>[{'change_type': 'MODIFY', 'old_path': 'build....</td>\n",
       "      <td>Kotlin</td>\n",
       "      <td>Apache License 2.0</td>\n",
       "      <td>surfstudio/surfandroidstandard</td>\n",
       "      <td>artifactory deploy</td>\n",
       "    </tr>\n",
       "    <tr>\n",
       "      <th>2</th>\n",
       "      <td>652323</td>\n",
       "      <td>26.01.2018 10:03:56</td>\n",
       "      <td>0</td>\n",
       "      <td>e4b446cd3dd2710f37073a3feba97acf7e790924</td>\n",
       "      <td>bitbucket-pipelines.yml deleted online with Bi...</td>\n",
       "      <td>[{'change_type': 'DELETE', 'old_path': 'bitbuc...</td>\n",
       "      <td>Kotlin</td>\n",
       "      <td>Apache License 2.0</td>\n",
       "      <td>surfstudio/surfandroidstandard</td>\n",
       "      <td>bitbucket-pipelines.yml deleted online with Bi...</td>\n",
       "    </tr>\n",
       "    <tr>\n",
       "      <th>3</th>\n",
       "      <td>652304</td>\n",
       "      <td>30.01.2018 17:46:06</td>\n",
       "      <td>-10800</td>\n",
       "      <td>f0ceee6b95fcad7e119d90277b27d5d972ce23c7</td>\n",
       "      <td>fix. access level</td>\n",
       "      <td>[{'change_type': 'MODIFY', 'old_path': 'filest...</td>\n",
       "      <td>Kotlin</td>\n",
       "      <td>Apache License 2.0</td>\n",
       "      <td>surfstudio/surfandroidstandard</td>\n",
       "      <td>fix. access level</td>\n",
       "    </tr>\n",
       "    <tr>\n",
       "      <th>4</th>\n",
       "      <td>652303</td>\n",
       "      <td>13.03.2018 11:59:28</td>\n",
       "      <td>-10800</td>\n",
       "      <td>de2e1d1225e2b18c9998940641968128ed9a77ae</td>\n",
       "      <td>#ANDDEP-97 made every instance of ItemControll...</td>\n",
       "      <td>[{'change_type': 'MODIFY', 'old_path': 'easyad...</td>\n",
       "      <td>Kotlin</td>\n",
       "      <td>Apache License 2.0</td>\n",
       "      <td>surfstudio/surfandroidstandard</td>\n",
       "      <td>#ANDDEP-97 made every instance of ItemControll...</td>\n",
       "    </tr>\n",
       "  </tbody>\n",
       "</table>\n",
       "</div>"
      ],
      "text/plain": [
       "   author                 date  timezone  \\\n",
       "0  652323  02.12.2017 23:37:47    -10800   \n",
       "1  652304  09.01.2018 21:25:28    -10800   \n",
       "2  652323  26.01.2018 10:03:56         0   \n",
       "3  652304  30.01.2018 17:46:06    -10800   \n",
       "4  652303  13.03.2018 11:59:28    -10800   \n",
       "\n",
       "                                       hash  \\\n",
       "0  eea4c9c55a01df00e5518ee497cc086ac5e163e0   \n",
       "1  1308f18b14675b25ce7ba79da37b397a1c55ef57   \n",
       "2  e4b446cd3dd2710f37073a3feba97acf7e790924   \n",
       "3  f0ceee6b95fcad7e119d90277b27d5d972ce23c7   \n",
       "4  de2e1d1225e2b18c9998940641968128ed9a77ae   \n",
       "\n",
       "                                             message  \\\n",
       "0                        fix ItemController template   \n",
       "1                                 artifactory deploy   \n",
       "2  bitbucket-pipelines.yml deleted online with Bi...   \n",
       "3                                  fix. access level   \n",
       "4  #ANDDEP-97 made every instance of ItemControll...   \n",
       "\n",
       "                                                mods language  \\\n",
       "0  [{'change_type': 'MODIFY', 'old_path': 'templa...   Kotlin   \n",
       "1  [{'change_type': 'MODIFY', 'old_path': 'build....   Kotlin   \n",
       "2  [{'change_type': 'DELETE', 'old_path': 'bitbuc...   Kotlin   \n",
       "3  [{'change_type': 'MODIFY', 'old_path': 'filest...   Kotlin   \n",
       "4  [{'change_type': 'MODIFY', 'old_path': 'easyad...   Kotlin   \n",
       "\n",
       "              license                            repo  \\\n",
       "0  Apache License 2.0  surfstudio/surfandroidstandard   \n",
       "1  Apache License 2.0  surfstudio/surfandroidstandard   \n",
       "2  Apache License 2.0  surfstudio/surfandroidstandard   \n",
       "3  Apache License 2.0  surfstudio/surfandroidstandard   \n",
       "4  Apache License 2.0  surfstudio/surfandroidstandard   \n",
       "\n",
       "                                    original_message  \n",
       "0                        fix ItemController template  \n",
       "1                                 artifactory deploy  \n",
       "2  bitbucket-pipelines.yml deleted online with Bi...  \n",
       "3                                  fix. access level  \n",
       "4  #ANDDEP-97 made every instance of ItemControll...  "
      ]
     },
     "execution_count": 9,
     "metadata": {},
     "output_type": "execute_result"
    }
   ],
   "source": [
    "# Show the dataset\n",
    "\n",
    "df = pd.read_parquet(DATASET_PATH)\n",
    "\n",
    "df.head(5)"
   ]
  },
  {
   "cell_type": "code",
   "execution_count": 5,
   "metadata": {},
   "outputs": [
    {
     "data": {
      "text/plain": [
       "array([{'change_type': 'MODIFY', 'old_path': 'templates/file/surf/ItemController/globals.xml.ftl', 'new_path': 'templates/file/surf/ItemController/globals.xml.ftl', 'diff': '<global id=\"nameParam\" value=\"${extractLetters(nameTypeData?lower_case)}\" />\\n<global id=\"defPostfixController\" value=\"ItemController\" />\\n- <global id=\"ktOrJavaExt\" type=\"string\" value=\"${generateKotlin?string(\\'kt\\',\\'java\\')}\" />\\n</globals>\\n'},\n",
       "       {'change_type': 'MODIFY', 'old_path': 'templates/file/surf/ItemController/recipe.xml.ftl', 'new_path': 'templates/file/surf/ItemController/recipe.xml.ftl', 'diff': '<#import \"root://activities/common/kotlin_macros.ftl\" as kt>\\n<recipe>\\n<@kt.addAllKotlinDependencies />\\n- <instantiate from=\"src/app_package/Controller.${ktOrJavaExt}.ftl\"\\n- to=\"${escapeXmlAttribute(srcOut)}/${nameController}${defPostfixController}.${ktOrJavaExt}\" />\\n- <open file=\"${escapeXmlAttribute(srcOut)}/${nameController}${defPostfixController}.${ktOrJavaExt}\" />\\n+\\n+ <#if generateKotlin>\\n+ <instantiate from=\"src/app_package/Controller.kt.ftl\"\\n+ to=\"${escapeXmlAttribute(srcOut)}/${nameController}${defPostfixController}.kt\" />\\n+ <open file=\"${escapeXmlAttribute(srcOut)}/${nameController}${defPostfixController}.kt\" />\\n+ <#else>\\n+ <instantiate from=\"src/app_package/Controller.java.ftl\"\\n+ to=\"${escapeXmlAttribute(srcOut)}/${nameController}${defPostfixController}.java\" />\\n+ <open file=\"${escapeXmlAttribute(srcOut)}/${nameController}${defPostfixController}.java\" />\\n+ </#if>\\n+\\n<#if generateLayout>\\n<instantiate from=\"res/layout/layout.xml.ftl\"\\nto=\"${escapeXmlAttribute(resOut)}/layout/${nameRes}.xml\" />\\n'}],\n",
       "      dtype=object)"
      ]
     },
     "execution_count": 5,
     "metadata": {},
     "output_type": "execute_result"
    }
   ],
   "source": [
    "# Show the diffs\n",
    "\n",
    "mods = df[\"mods\"]\n",
    "\n",
    "mods[0]"
   ]
  },
  {
   "cell_type": "code",
   "execution_count": 6,
   "metadata": {},
   "outputs": [
    {
     "data": {
      "text/plain": [
       "[{'change_type': 'MODIFY',\n",
       "  'old_path': 'template/app-injector/src/main/java/ru/surfstudio/standard/app_injector/AppComponent.kt',\n",
       "  'new_path': 'template/app-injector/src/main/java/ru/surfstudio/standard/app_injector/AppComponent.kt',\n",
       "  'diff': '@@ -8,6 +8,7 @@ import ru.surfstudio.android.core.app.ActiveActivityHolder\\nimport ru.surfstudio.android.core.app.StringsProvider\\nimport ru.surfstudio.android.core.ui.navigation.activity.navigator.GlobalNavigator\\nimport ru.surfstudio.android.dagger.scope.PerApplication\\n+import ru.surfstudio.android.notification.PushHandler\\nimport ru.surfstudio.android.notification.interactor.push.storage.FcmStorage\\nimport ru.surfstudio.android.rx.extension.scheduler.SchedulersProvider\\nimport ru.surfstudio.android.shared.pref.NO_BACKUP_SHARED_PREF\\n@@ -20,6 +21,7 @@ import ru.surfstudio.standard.app_injector.network.OkHttpModule\\nimport ru.surfstudio.standard.app_injector.network.cache.CacheModule\\nimport ru.surfstudio.standard.app_injector.ui.notification.FcmModule\\nimport ru.surfstudio.standard.app_injector.ui.notification.MessagingService\\n+import ru.surfstudio.standard.app_injector.ui.notification.NotificationModule\\nimport ru.surfstudio.standard.i_initialization.InitializeAppInteractor\\nimport ru.surfstudio.standard.i_session.SessionChangedInteractor\\nimport javax.inject.Named\\n@@ -35,7 +37,8 @@ import javax.inject.Named\\nNetworkModule::class,\\nOkHttpModule::class,\\nCacheModule::class,\\n- FcmModule::class])\\n+ FcmModule::class,\\n+ NotificationModule::class])\\ninterface AppComponent {\\nfun initializeAppInteractor(): InitializeAppInteractor\\nfun context(): Context\\n@@ -46,6 +49,7 @@ interface AppComponent {\\nfun stringsProvider(): StringsProvider\\nfun globalNavigator(): GlobalNavigator\\nfun fcmStorage(): FcmStorage\\n+ fun pushHandler(): PushHandler\\nfun inject(to: MessagingService)\\n@Named(NO_BACKUP_SHARED_PREF) fun sharedPreferences(): SharedPreferences\\n'},\n",
       " {'change_type': 'ADD',\n",
       "  'old_path': None,\n",
       "  'new_path': 'template/app-injector/src/main/java/ru/surfstudio/standard/app_injector/ui/notification/FirebaseServiceComponent.kt',\n",
       "  'diff': '+package ru.surfstudio.standard.app_injector.ui.notification\\n+\\n+\\n+import dagger.Component\\n+import ru.surfstudio.android.notification.interactor.push.storage.FcmStorage\\n+import ru.surfstudio.standard.app_injector.AppComponent\\n+import javax.inject.Scope\\n+\\n+@PerService\\n+@Component(dependencies = [AppComponent::class])\\n+interface FirebaseServiceComponent {\\n+\\n+ fun fcmStorage(): FcmStorage\\n+\\n+ fun inject(s: MessagingService)\\n+}\\n+\\n+@Scope\\n+@Retention(AnnotationRetention.RUNTIME)\\n+annotation class PerService\\n\\\\ No newline at end of file\\n'},\n",
       " {'change_type': 'ADD',\n",
       "  'old_path': None,\n",
       "  'new_path': 'template/app-injector/src/main/java/ru/surfstudio/standard/app_injector/ui/notification/NotificationModule.kt',\n",
       "  'diff': '+package ru.surfstudio.standard.app_injector.ui.notification\\n+\\n+import dagger.Module\\n+import dagger.Provides\\n+import ru.surfstudio.android.core.app.ActiveActivityHolder\\n+import ru.surfstudio.android.dagger.scope.PerApplication\\n+import ru.surfstudio.android.notification.PushHandler\\n+import ru.surfstudio.android.notification.impl.DefaultPushHandler\\n+import ru.surfstudio.android.notification.interactor.push.PushInteractor\\n+import ru.surfstudio.android.notification.ui.notification.AbstractPushHandleStrategyFactory\\n+\\n+@Module\\n+class NotificationModule {\\n+\\n+ @Provides\\n+ @PerApplication\\n+ fun providePushInteractor() = PushInteractor()\\n+\\n+ @Provides\\n+ @PerApplication\\n+ fun providePushHandleStrategyFactory(): AbstractPushHandleStrategyFactory =\\n+ PushHandleStrategyFactory\\n+\\n+ @Provides\\n+ @PerApplication\\n+ fun providePushHandler(\\n+ activeActivityHolder: ActiveActivityHolder,\\n+ pushHandleStrategyFactory: AbstractPushHandleStrategyFactory,\\n+ pushInteractor: PushInteractor\\n+ ): PushHandler =\\n+ DefaultPushHandler(\\n+ activeActivityHolder,\\n+ pushHandleStrategyFactory,\\n+ pushInteractor\\n+ )\\n+\\n+}\\n\\\\ No newline at end of file\\n'}]"
      ]
     },
     "execution_count": 6,
     "metadata": {},
     "output_type": "execute_result"
    }
   ],
   "source": [
    "# Filter the mods for only Kotlin files\n",
    "\n",
    "filtered_mods = df['mods'].apply(\n",
    "    lambda mod_list: [\n",
    "        mod for mod in mod_list if str(mod['old_path']).endswith('.kt') or str(mod['new_path']).endswith('.kt')\n",
    "    ]\n",
    ")\n",
    "\n",
    "filtered_mods = filtered_mods[filtered_mods.apply(lambda x: len(x) > 0)]\n",
    "filtered_mods.iloc[0]"
   ]
  },
  {
   "cell_type": "code",
   "execution_count": 7,
   "metadata": {},
   "outputs": [
    {
     "data": {
      "text/plain": [
       "'diff --git a/template/app-injector/src/main/java/ru/surfstudio/standard/app_injector/AppComponent.kt b/template/app-injector/src/main/java/ru/surfstudio/standard/app_injector/AppComponent.kt\\nindex 0000000..0000000 100644\\n--- a/template/app-injector/src/main/java/ru/surfstudio/standard/app_injector/AppComponent.kt\\n+++ b/template/app-injector/src/main/java/ru/surfstudio/standard/app_injector/AppComponent.kt\\n@@ -8,6 +8,7 @@ import ru.surfstudio.android.core.app.ActiveActivityHolder\\nimport ru.surfstudio.android.core.app.StringsProvider\\nimport ru.surfstudio.android.core.ui.navigation.activity.navigator.GlobalNavigator\\nimport ru.surfstudio.android.dagger.scope.PerApplication\\n+import ru.surfstudio.android.notification.PushHandler\\nimport ru.surfstudio.android.notification.interactor.push.storage.FcmStorage\\nimport ru.surfstudio.android.rx.extension.scheduler.SchedulersProvider\\nimport ru.surfstudio.android.shared.pref.NO_BACKUP_SHARED_PREF\\n@@ -20,6 +21,7 @@ import ru.surfstudio.standard.app_injector.network.OkHttpModule\\nimport ru.surfstudio.standard.app_injector.network.cache.CacheModule\\nimport ru.surfstudio.standard.app_injector.ui.notification.FcmModule\\nimport ru.surfstudio.standard.app_injector.ui.notification.MessagingService\\n+import ru.surfstudio.standard.app_injector.ui.notification.NotificationModule\\nimport ru.surfstudio.standard.i_initialization.InitializeAppInteractor\\nimport ru.surfstudio.standard.i_session.SessionChangedInteractor\\nimport javax.inject.Named\\n@@ -35,7 +37,8 @@ import javax.inject.Named\\nNetworkModule::class,\\nOkHttpModule::class,\\nCacheModule::class,\\n- FcmModule::class])\\n+ FcmModule::class,\\n+ NotificationModule::class])\\ninterface AppComponent {\\nfun initializeAppInteractor(): InitializeAppInteractor\\nfun context(): Context\\n@@ -46,6 +49,7 @@ interface AppComponent {\\nfun stringsProvider(): StringsProvider\\nfun globalNavigator(): GlobalNavigator\\nfun fcmStorage(): FcmStorage\\n+ fun pushHandler(): PushHandler\\nfun inject(to: MessagingService)\\n@Named(NO_BACKUP_SHARED_PREF) fun sharedPreferences(): SharedPreferences\\n\\n\\n\\ndiff --git a/None b/template/app-injector/src/main/java/ru/surfstudio/standard/app_injector/ui/notification/FirebaseServiceComponent.kt\\nindex 0000000..0000000 100644\\n--- a/None\\n+++ b/template/app-injector/src/main/java/ru/surfstudio/standard/app_injector/ui/notification/FirebaseServiceComponent.kt\\n+package ru.surfstudio.standard.app_injector.ui.notification\\n+\\n+\\n+import dagger.Component\\n+import ru.surfstudio.android.notification.interactor.push.storage.FcmStorage\\n+import ru.surfstudio.standard.app_injector.AppComponent\\n+import javax.inject.Scope\\n+\\n+@PerService\\n+@Component(dependencies = [AppComponent::class])\\n+interface FirebaseServiceComponent {\\n+\\n+ fun fcmStorage(): FcmStorage\\n+\\n+ fun inject(s: MessagingService)\\n+}\\n+\\n+@Scope\\n+@Retention(AnnotationRetention.RUNTIME)\\n+annotation class PerService\\n\\\\ No newline at end of file\\n\\n\\n\\ndiff --git a/None b/template/app-injector/src/main/java/ru/surfstudio/standard/app_injector/ui/notification/NotificationModule.kt\\nindex 0000000..0000000 100644\\n--- a/None\\n+++ b/template/app-injector/src/main/java/ru/surfstudio/standard/app_injector/ui/notification/NotificationModule.kt\\n+package ru.surfstudio.standard.app_injector.ui.notification\\n+\\n+import dagger.Module\\n+import dagger.Provides\\n+import ru.surfstudio.android.core.app.ActiveActivityHolder\\n+import ru.surfstudio.android.dagger.scope.PerApplication\\n+import ru.surfstudio.android.notification.PushHandler\\n+import ru.surfstudio.android.notification.impl.DefaultPushHandler\\n+import ru.surfstudio.android.notification.interactor.push.PushInteractor\\n+import ru.surfstudio.android.notification.ui.notification.AbstractPushHandleStrategyFactory\\n+\\n+@Module\\n+class NotificationModule {\\n+\\n+ @Provides\\n+ @PerApplication\\n+ fun providePushInteractor() = PushInteractor()\\n+\\n+ @Provides\\n+ @PerApplication\\n+ fun providePushHandleStrategyFactory(): AbstractPushHandleStrategyFactory =\\n+ PushHandleStrategyFactory\\n+\\n+ @Provides\\n+ @PerApplication\\n+ fun providePushHandler(\\n+ activeActivityHolder: ActiveActivityHolder,\\n+ pushHandleStrategyFactory: AbstractPushHandleStrategyFactory,\\n+ pushInteractor: PushInteractor\\n+ ): PushHandler =\\n+ DefaultPushHandler(\\n+ activeActivityHolder,\\n+ pushHandleStrategyFactory,\\n+ pushInteractor\\n+ )\\n+\\n+}\\n\\\\ No newline at end of file\\n\\n'"
      ]
     },
     "execution_count": 7,
     "metadata": {},
     "output_type": "execute_result"
    }
   ],
   "source": [
    "# Convert filtered mods to list of raw diffs\n",
    "\n",
    "diffs = filtered_mods.apply(\n",
    "    lambda mod_list: '\\n\\n'.join([\n",
    "        f\"\"\"diff --git a/{mod['old_path']} b/{mod['new_path']}\n",
    "index 0000000..0000000 100644\n",
    "--- a/{mod['old_path']}\n",
    "+++ b/{mod['new_path']}\n",
    "{mod['diff']}\n",
    "\"\"\"\n",
    "        for mod in mod_list\n",
    "    ])\n",
    ").tolist()\n",
    "\n",
    "diffs[0]"
   ]
  },
  {
   "cell_type": "code",
   "execution_count": 8,
   "metadata": {},
   "outputs": [],
   "source": [
    "# Save the first 100 diffs to json file\n",
    "json_str = json.dumps(diffs[:100])\n",
    "\n",
    "dir_path = os.path.dirname(DIFFS_PATH)\n",
    "os.makedirs(dir_path, exist_ok=True)\n",
    "\n",
    "with open(DIFFS_PATH, 'w') as f:\n",
    "    f.write(json_str)"
   ]
  }
 ],
 "metadata": {
  "kernelspec": {
   "display_name": "venv",
   "language": "python",
   "name": "python3"
  },
  "language_info": {
   "codemirror_mode": {
    "name": "ipython",
    "version": 3
   },
   "file_extension": ".py",
   "mimetype": "text/x-python",
   "name": "python",
   "nbconvert_exporter": "python",
   "pygments_lexer": "ipython3",
   "version": "3.13.0"
  }
 },
 "nbformat": 4,
 "nbformat_minor": 2
}
