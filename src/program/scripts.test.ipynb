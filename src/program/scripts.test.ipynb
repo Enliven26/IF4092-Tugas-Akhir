{
 "cells": [
  {
   "cell_type": "markdown",
   "metadata": {},
   "source": [
    "# Imports"
   ]
  },
  {
   "cell_type": "code",
   "execution_count": 1,
   "metadata": {},
   "outputs": [],
   "source": [
    "import logging\n",
    "import os\n",
    "\n",
    "from dotenv import load_dotenv\n",
    "\n",
    "from core.enums import EnvironmentKey\n",
    "from cmg.evaluators import CommitMessageGenerator\n",
    "from cmg import evaluator\n",
    "from core import (\n",
    "    few_shot_high_level_cmg_chain,\n",
    "    low_level_cmg_chain,\n",
    "    zero_shot_high_level_cmg_chain,\n",
    "    high_level_context_chain\n",
    ")\n",
    "from core.models import CommitDataModel\n",
    "from datapreparation import context_generator"
   ]
  },
  {
   "cell_type": "markdown",
   "metadata": {},
   "source": [
    "# Initialization"
   ]
  },
  {
   "cell_type": "code",
   "execution_count": 2,
   "metadata": {},
   "outputs": [],
   "source": [
    "COMMIT_DATA_JSON_FILE_PATH = os.path.join(\"data\", \"cmg\", \"commits.test.json\")\n",
    "CONTEXT_DATA_PATH = os.path.join(\"data\", \"context\")\n",
    "\n",
    "DEFAULT_CONTEXT_GENERATION_OUTPUT_PATH = os.path.join(\n",
    "    \"data\", \"context\"\n",
    ")\n",
    "DEFAULT_HIGH_LEVEL_CONTEXT_OUTPUT_PATH = os.path.join(\n",
    "    \"out\", \"test\", \"highlevelcontext\"\n",
    ")\n",
    "DEFAULT_CMG_OUTPUT_PATH = os.path.join(\"out\", \"test\", \"cmg\")\n",
    "DEFAULT_DIFF_CLASSIFICATION_OUTPUT_PATH = os.path.join(\n",
    "    \"out\", \"test\", \"diffclassification\"\n",
    ")\n",
    "\n",
    "GENERATORS = [\n",
    "    CommitMessageGenerator(\n",
    "        \"Zero-Shot High-Level Generator\", zero_shot_high_level_cmg_chain\n",
    "    ),\n",
    "    CommitMessageGenerator(\n",
    "        \"Few-Shot High-Level Generator\", few_shot_high_level_cmg_chain\n",
    "    ),\n",
    "    CommitMessageGenerator(\"Low-Level Generator\", low_level_cmg_chain),\n",
    "]\n",
    "\n",
    "load_dotenv(dotenv_path=\".env.test\", verbose=True, override=True)\n",
    "logging.basicConfig(level=logging.DEBUG)"
   ]
  },
  {
   "cell_type": "code",
   "execution_count": 3,
   "metadata": {},
   "outputs": [],
   "source": [
    "CONTEXT_GENERATION_OUTPUT_PATH = os.getenv(\n",
    "        EnvironmentKey.CONTEXT_GENERATION_OUTPUT_PATH.value,\n",
    "        DEFAULT_CONTEXT_GENERATION_OUTPUT_PATH,\n",
    "    )\n",
    "\n",
    "HIGH_LEVEL_CONTEXT_OUTPUT_PATH = os.getenv(\n",
    "        EnvironmentKey.HIGH_LEVEL_CONTEXT_OUTPUT_PATH.value,\n",
    "        DEFAULT_HIGH_LEVEL_CONTEXT_OUTPUT_PATH,\n",
    "    )\n",
    "\n",
    "CMG_OUTPUT_PATH = os.getenv(\n",
    "        EnvironmentKey.CMG_OUTPUT_PATH.value, DEFAULT_CMG_OUTPUT_PATH\n",
    "    )\n",
    "\n",
    "DIFF_CLASSIFICATION_OUTPUT_PATH = os.getenv(\n",
    "        EnvironmentKey.DIFF_CLASSIFICATION_OUTPUT_PATH.value,\n",
    "        DEFAULT_DIFF_CLASSIFICATION_OUTPUT_PATH,\n",
    "    )"
   ]
  },
  {
   "cell_type": "code",
   "execution_count": 4,
   "metadata": {},
   "outputs": [],
   "source": [
    "def get_commits(path: str) -> list[CommitDataModel]:\n",
    "        with open(path, \"r\", encoding=\"utf-8\") as file:\n",
    "            json_string = file.read()\n",
    "\n",
    "        return CommitDataModel.from_json(json_string)\n",
    "\n",
    "COMMITS = get_commits(COMMIT_DATA_JSON_FILE_PATH)"
   ]
  },
  {
   "cell_type": "markdown",
   "metadata": {},
   "source": [
    "# Classify Diff"
   ]
  },
  {
   "cell_type": "code",
   "execution_count": 9,
   "metadata": {},
   "outputs": [
    {
     "name": "stderr",
     "output_type": "stream",
     "text": [
      "DEBUG:openai._base_client:Request options: {'method': 'post', 'url': '/chat/completions', 'files': None, 'json_data': {'messages': [{'content': 'Classify the Git diff into one of the following six software maintenance activities: feat, fix, perf, test, refactor, or chore. Return the activity that best matches the code changes. Refer to the definitions below for each activity.\\n\\nfeat: introducing new features into the system.\\nfix: fixing existing bugs or issues in the system.\\nperf: improving the performance of the system.\\ntest: adding, modifying, or deleting test cases.\\nrefactor: changes made to the internal structure of software to make it easier to understand and cheaper to modify without changing its observable behavior, including code styling.\\nchore: regular maintenance tasks, such as updating dependencies or build tasks.\\n\\nAvoid adding any additional comments or annotations to the classification.\\n\\n> Git diff: diff --git a/clients/src/main/java/org/apache/kafka/common/security/JaasUtils.java b/clients/src/main/java/org/apache/kafka/common/security/JaasUtils.java\\nindex 742319c4f4..800283e56e 100644\\n--- a/clients/src/main/java/org/apache/kafka/common/security/JaasUtils.java\\n+++ b/clients/src/main/java/org/apache/kafka/common/security/JaasUtils.java\\n@@ -16,67 +16,12 @@\\n  */\\n package org.apache.kafka.common.security;\\n \\n-import org.apache.kafka.common.KafkaException;\\n-\\n-import org.slf4j.Logger;\\n-import org.slf4j.LoggerFactory;\\n-\\n-import javax.security.auth.login.Configuration;\\n-\\n public final class JaasUtils {\\n-    private static final Logger LOG = LoggerFactory.getLogger(JaasUtils.class);\\n     public static final String JAVA_LOGIN_CONFIG_PARAM = \"java.security.auth.login.config\";\\n     public static final String DISALLOWED_LOGIN_MODULES_CONFIG = \"org.apache.kafka.disallowed.login.modules\";\\n     public static final String DISALLOWED_LOGIN_MODULES_DEFAULT = \"com.sun.security.auth.module.JndiLoginModule\";\\n     public static final String SERVICE_NAME = \"serviceName\";\\n \\n-    public static final String ZK_SASL_CLIENT = \"zookeeper.sasl.client\";\\n-    public static final String ZK_LOGIN_CONTEXT_NAME_KEY = \"zookeeper.sasl.clientconfig\";\\n-\\n-    private static final String DEFAULT_ZK_LOGIN_CONTEXT_NAME = \"Client\";\\n-    private static final String DEFAULT_ZK_SASL_CLIENT = \"true\";\\n-\\n     private JaasUtils() {}\\n \\n-    public static String zkSecuritySysConfigString() {\\n-        String loginConfig = System.getProperty(JAVA_LOGIN_CONFIG_PARAM);\\n-        String clientEnabled = System.getProperty(ZK_SASL_CLIENT, \"default:\" + DEFAULT_ZK_SASL_CLIENT);\\n-        String contextName = System.getProperty(ZK_LOGIN_CONTEXT_NAME_KEY, \"default:\" + DEFAULT_ZK_LOGIN_CONTEXT_NAME);\\n-        return \"[\" +\\n-                JAVA_LOGIN_CONFIG_PARAM + \"=\" + loginConfig +\\n-                \", \" +\\n-                ZK_SASL_CLIENT + \"=\" + clientEnabled +\\n-                \", \" +\\n-                ZK_LOGIN_CONTEXT_NAME_KEY + \"=\" + contextName +\\n-                \"]\";\\n-    }\\n-\\n-    public static boolean isZkSaslEnabled() {\\n-        // Technically a client must also check if TLS mutual authentication has been configured,\\n-        // but we will leave that up to the client code to determine since direct connectivity to ZooKeeper\\n-        // has been deprecated in many clients and we don\\'t wish to re-introduce a ZooKeeper jar dependency here.\\n-        boolean zkSaslEnabled = Boolean.parseBoolean(System.getProperty(ZK_SASL_CLIENT, DEFAULT_ZK_SASL_CLIENT));\\n-        String zkLoginContextName = System.getProperty(ZK_LOGIN_CONTEXT_NAME_KEY, DEFAULT_ZK_LOGIN_CONTEXT_NAME);\\n-\\n-        LOG.debug(\"Checking login config for Zookeeper JAAS context {}\", zkSecuritySysConfigString());\\n-\\n-        boolean foundLoginConfigEntry;\\n-        try {\\n-            Configuration loginConf = Configuration.getConfiguration();\\n-            foundLoginConfigEntry = loginConf.getAppConfigurationEntry(zkLoginContextName) != null;\\n-        } catch (Exception e) {\\n-            throw new KafkaException(\"Exception while loading Zookeeper JAAS login context \" +\\n-                    zkSecuritySysConfigString(), e);\\n-        }\\n-\\n-        if (foundLoginConfigEntry && !zkSaslEnabled) {\\n-            LOG.error(\"JAAS configuration is present, but system property \" +\\n-                        ZK_SASL_CLIENT + \" is set to false, which disables \" +\\n-                        \"SASL in the ZooKeeper client\");\\n-            throw new KafkaException(\"Exception while determining if ZooKeeper is secure \" +\\n-                    zkSecuritySysConfigString());\\n-        }\\n-\\n-        return foundLoginConfigEntry;\\n-    }\\n }\\n\\n\\n> Software maintenance activity (feat / fix / perf / test / refactor / chore):\\n', 'role': 'user'}], 'model': 'gpt-4o-mini', 'n': 1, 'stream': False, 'temperature': 0.0}}\n",
      "DEBUG:openai._base_client:Sending HTTP Request: POST https://api.openai.com/v1/chat/completions\n",
      "DEBUG:httpcore.connection:connect_tcp.started host='api.openai.com' port=443 local_address=None timeout=None socket_options=None\n",
      "DEBUG:httpcore.connection:connect_tcp.complete return_value=<httpcore._backends.sync.SyncStream object at 0x00000198FBAA1BF0>\n",
      "DEBUG:httpcore.connection:start_tls.started ssl_context=<ssl.SSLContext object at 0x00000198FA7B90A0> server_hostname='api.openai.com' timeout=None\n",
      "DEBUG:httpcore.connection:start_tls.complete return_value=<httpcore._backends.sync.SyncStream object at 0x00000198FBAA1D00>\n",
      "DEBUG:httpcore.http11:send_request_headers.started request=<Request [b'POST']>\n",
      "DEBUG:httpcore.http11:send_request_headers.complete\n",
      "DEBUG:httpcore.http11:send_request_body.started request=<Request [b'POST']>\n",
      "DEBUG:httpcore.http11:send_request_body.complete\n",
      "DEBUG:httpcore.http11:receive_response_headers.started request=<Request [b'POST']>\n",
      "DEBUG:httpcore.http11:receive_response_headers.complete return_value=(b'HTTP/1.1', 200, b'OK', [(b'Date', b'Fri, 17 Jan 2025 11:02:28 GMT'), (b'Content-Type', b'application/json'), (b'Transfer-Encoding', b'chunked'), (b'Connection', b'keep-alive'), (b'access-control-expose-headers', b'X-Request-ID'), (b'openai-organization', b'user-yxw5duua92nmh24amrdiwkpm'), (b'openai-processing-ms', b'346'), (b'openai-version', b'2020-10-01'), (b'x-ratelimit-limit-requests', b'10000'), (b'x-ratelimit-limit-tokens', b'200000'), (b'x-ratelimit-remaining-requests', b'9999'), (b'x-ratelimit-remaining-tokens', b'198851'), (b'x-ratelimit-reset-requests', b'8.64s'), (b'x-ratelimit-reset-tokens', b'344ms'), (b'x-request-id', b'req_f8b67d42c578c870c61992636040936e'), (b'strict-transport-security', b'max-age=31536000; includeSubDomains; preload'), (b'CF-Cache-Status', b'DYNAMIC'), (b'Set-Cookie', b'__cf_bm=P2jtAL_FEaDK3CRUidgx.vSHCrcxjnLVrlKGdjLHuBI-1737111748-1.0.1.1-sp4aCATUJc1WsGiUPnE9prjKHD2wXmXUQFb8fF7xwNP0KkmY4C16RriMBPp9kSB6INvau0jRo1B5VECK6gavHQ; path=/; expires=Fri, 17-Jan-25 11:32:28 GMT; domain=.api.openai.com; HttpOnly; Secure; SameSite=None'), (b'X-Content-Type-Options', b'nosniff'), (b'Set-Cookie', b'_cfuvid=4Gy5.pTuCADlaRt_.ZxnsdwQs26dOAtytdrDX62mrRI-1737111748554-0.0.1.1-604800000; path=/; domain=.api.openai.com; HttpOnly; Secure; SameSite=None'), (b'Server', b'cloudflare'), (b'CF-RAY', b'9035da689e93fd35-SIN'), (b'Content-Encoding', b'gzip'), (b'alt-svc', b'h3=\":443\"; ma=86400')])\n",
      "INFO:httpx:HTTP Request: POST https://api.openai.com/v1/chat/completions \"HTTP/1.1 200 OK\"\n",
      "DEBUG:httpcore.http11:receive_response_body.started request=<Request [b'POST']>\n",
      "DEBUG:httpcore.http11:receive_response_body.complete\n",
      "DEBUG:httpcore.http11:response_closed.started\n",
      "DEBUG:httpcore.http11:response_closed.complete\n",
      "DEBUG:openai._base_client:HTTP Response: POST https://api.openai.com/v1/chat/completions \"200 OK\" Headers([('date', 'Fri, 17 Jan 2025 11:02:28 GMT'), ('content-type', 'application/json'), ('transfer-encoding', 'chunked'), ('connection', 'keep-alive'), ('access-control-expose-headers', 'X-Request-ID'), ('openai-organization', 'user-yxw5duua92nmh24amrdiwkpm'), ('openai-processing-ms', '346'), ('openai-version', '2020-10-01'), ('x-ratelimit-limit-requests', '10000'), ('x-ratelimit-limit-tokens', '200000'), ('x-ratelimit-remaining-requests', '9999'), ('x-ratelimit-remaining-tokens', '198851'), ('x-ratelimit-reset-requests', '8.64s'), ('x-ratelimit-reset-tokens', '344ms'), ('x-request-id', 'req_f8b67d42c578c870c61992636040936e'), ('strict-transport-security', 'max-age=31536000; includeSubDomains; preload'), ('cf-cache-status', 'DYNAMIC'), ('set-cookie', '__cf_bm=P2jtAL_FEaDK3CRUidgx.vSHCrcxjnLVrlKGdjLHuBI-1737111748-1.0.1.1-sp4aCATUJc1WsGiUPnE9prjKHD2wXmXUQFb8fF7xwNP0KkmY4C16RriMBPp9kSB6INvau0jRo1B5VECK6gavHQ; path=/; expires=Fri, 17-Jan-25 11:32:28 GMT; domain=.api.openai.com; HttpOnly; Secure; SameSite=None'), ('x-content-type-options', 'nosniff'), ('set-cookie', '_cfuvid=4Gy5.pTuCADlaRt_.ZxnsdwQs26dOAtytdrDX62mrRI-1737111748554-0.0.1.1-604800000; path=/; domain=.api.openai.com; HttpOnly; Secure; SameSite=None'), ('server', 'cloudflare'), ('cf-ray', '9035da689e93fd35-SIN'), ('content-encoding', 'gzip'), ('alt-svc', 'h3=\":443\"; ma=86400')])\n",
      "DEBUG:openai._base_client:request_id: req_f8b67d42c578c870c61992636040936e\n"
     ]
    }
   ],
   "source": [
    "evaluator.classify_diffs(zero_shot_high_level_cmg_chain, COMMITS, DIFF_CLASSIFICATION_OUTPUT_PATH)"
   ]
  },
  {
   "cell_type": "markdown",
   "metadata": {},
   "source": [
    "# Generate Context"
   ]
  },
  {
   "cell_type": "code",
   "execution_count": 6,
   "metadata": {},
   "outputs": [],
   "source": [
    "context_generator.generate_context(COMMITS, CONTEXT_GENERATION_OUTPUT_PATH)"
   ]
  },
  {
   "cell_type": "markdown",
   "metadata": {},
   "source": [
    "# Get High Level Context"
   ]
  },
  {
   "cell_type": "code",
   "execution_count": 7,
   "metadata": {},
   "outputs": [
    {
     "name": "stderr",
     "output_type": "stream",
     "text": [
      "DEBUG:urllib3.connectionpool:Starting new HTTPS connection (1): api.smith.langchain.com:443\n",
      "DEBUG:openai._base_client:Request options: {'method': 'post', 'url': '/chat/completions', 'files': None, 'json_data': {'messages': [{'content': 'Given a Git diff and the relevant source code, write a concise summary of the code changes in a way that a non-technical person can understand. The query text must summarize the code changes in two very brief sentences.\\n\\nGit diff:\\ndiff --git a/clients/src/main/java/org/apache/kafka/common/security/JaasUtils.java b/clients/src/main/java/org/apache/kafka/common/security/JaasUtils.java\\nindex 742319c4f4..800283e56e 100644\\n--- a/clients/src/main/java/org/apache/kafka/common/security/JaasUtils.java\\n+++ b/clients/src/main/java/org/apache/kafka/common/security/JaasUtils.java\\n@@ -16,67 +16,12 @@\\n  */\\n package org.apache.kafka.common.security;\\n \\n-import org.apache.kafka.common.KafkaException;\\n-\\n-import org.slf4j.Logger;\\n-import org.slf4j.LoggerFactory;\\n-\\n-import javax.security.auth.login.Configuration;\\n-\\n public final class JaasUtils {\\n-    private static final Logger LOG = LoggerFactory.getLogger(JaasUtils.class);\\n     public static final String JAVA_LOGIN_CONFIG_PARAM = \"java.security.auth.login.config\";\\n     public static final String DISALLOWED_LOGIN_MODULES_CONFIG = \"org.apache.kafka.disallowed.login.modules\";\\n     public static final String DISALLOWED_LOGIN_MODULES_DEFAULT = \"com.sun.security.auth.module.JndiLoginModule\";\\n     public static final String SERVICE_NAME = \"serviceName\";\\n \\n-    public static final String ZK_SASL_CLIENT = \"zookeeper.sasl.client\";\\n-    public static final String ZK_LOGIN_CONTEXT_NAME_KEY = \"zookeeper.sasl.clientconfig\";\\n-\\n-    private static final String DEFAULT_ZK_LOGIN_CONTEXT_NAME = \"Client\";\\n-    private static final String DEFAULT_ZK_SASL_CLIENT = \"true\";\\n-\\n     private JaasUtils() {}\\n \\n-    public static String zkSecuritySysConfigString() {\\n-        String loginConfig = System.getProperty(JAVA_LOGIN_CONFIG_PARAM);\\n-        String clientEnabled = System.getProperty(ZK_SASL_CLIENT, \"default:\" + DEFAULT_ZK_SASL_CLIENT);\\n-        String contextName = System.getProperty(ZK_LOGIN_CONTEXT_NAME_KEY, \"default:\" + DEFAULT_ZK_LOGIN_CONTEXT_NAME);\\n-        return \"[\" +\\n-                JAVA_LOGIN_CONFIG_PARAM + \"=\" + loginConfig +\\n-                \", \" +\\n-                ZK_SASL_CLIENT + \"=\" + clientEnabled +\\n-                \", \" +\\n-                ZK_LOGIN_CONTEXT_NAME_KEY + \"=\" + contextName +\\n-                \"]\";\\n-    }\\n-\\n-    public static boolean isZkSaslEnabled() {\\n-        // Technically a client must also check if TLS mutual authentication has been configured,\\n-        // but we will leave that up to the client code to determine since direct connectivity to ZooKeeper\\n-        // has been deprecated in many clients and we don\\'t wish to re-introduce a ZooKeeper jar dependency here.\\n-        boolean zkSaslEnabled = Boolean.parseBoolean(System.getProperty(ZK_SASL_CLIENT, DEFAULT_ZK_SASL_CLIENT));\\n-        String zkLoginContextName = System.getProperty(ZK_LOGIN_CONTEXT_NAME_KEY, DEFAULT_ZK_LOGIN_CONTEXT_NAME);\\n-\\n-        LOG.debug(\"Checking login config for Zookeeper JAAS context {}\", zkSecuritySysConfigString());\\n-\\n-        boolean foundLoginConfigEntry;\\n-        try {\\n-            Configuration loginConf = Configuration.getConfiguration();\\n-            foundLoginConfigEntry = loginConf.getAppConfigurationEntry(zkLoginContextName) != null;\\n-        } catch (Exception e) {\\n-            throw new KafkaException(\"Exception while loading Zookeeper JAAS login context \" +\\n-                    zkSecuritySysConfigString(), e);\\n-        }\\n-\\n-        if (foundLoginConfigEntry && !zkSaslEnabled) {\\n-            LOG.error(\"JAAS configuration is present, but system property \" +\\n-                        ZK_SASL_CLIENT + \" is set to false, which disables \" +\\n-                        \"SASL in the ZooKeeper client\");\\n-            throw new KafkaException(\"Exception while determining if ZooKeeper is secure \" +\\n-                    zkSecuritySysConfigString());\\n-        }\\n-\\n-        return foundLoginConfigEntry;\\n-    }\\n }\\n\\n\\nSource code:\\nclients/src/main/java/org/apache/kafka/common/security/JaasUtils.java (Before)\\npackage org.apache.kafka.common.security;\\n\\nimport org.apache.kafka.common.KafkaException;\\nimport org.slf4j.Logger;\\nimport org.slf4j.LoggerFactory;\\nimport javax.security.auth.login.Configuration;\\npublic  final class JaasUtils {\\nprivate static final Logger LOG = LoggerFactory.getLogger(JaasUtils.class);\\npublic static final String JAVA_LOGIN_CONFIG_PARAM = \"java.security.auth.login.config\";\\npublic static final String DISALLOWED_LOGIN_MODULES_CONFIG = \"org.apache.kafka.disallowed.login.modules\";\\npublic static final String DISALLOWED_LOGIN_MODULES_DEFAULT = \"com.sun.security.auth.module.JndiLoginModule\";\\npublic static final String SERVICE_NAME = \"serviceName\";\\npublic static final String ZK_SASL_CLIENT = \"zookeeper.sasl.client\";\\npublic static final String ZK_LOGIN_CONTEXT_NAME_KEY = \"zookeeper.sasl.clientconfig\";\\nprivate static final String DEFAULT_ZK_LOGIN_CONTEXT_NAME = \"Client\";\\nprivate static final String DEFAULT_ZK_SASL_CLIENT = \"true\";\\nprivate JaasUtils() {\\n}\\npublic static String zkSecuritySysConfigString() {\\n    String loginConfig = System.getProperty(JAVA_LOGIN_CONFIG_PARAM);\\n    String clientEnabled = System.getProperty(ZK_SASL_CLIENT, \"default:\" + DEFAULT_ZK_SASL_CLIENT);\\n    String contextName = System.getProperty(ZK_LOGIN_CONTEXT_NAME_KEY, \"default:\" + DEFAULT_ZK_LOGIN_CONTEXT_NAME);\\n    return \"[\" + JAVA_LOGIN_CONFIG_PARAM + \"=\" + loginConfig + \", \" + ZK_SASL_CLIENT + \"=\" + clientEnabled + \", \" + ZK_LOGIN_CONTEXT_NAME_KEY + \"=\" + contextName + \"]\";\\n}\\npublic static boolean isZkSaslEnabled() {\\n    // Technically a client must also check if TLS mutual authentication has been configured,\\n    // but we will leave that up to the client code to determine since direct connectivity to ZooKeeper\\n    // has been deprecated in many clients and we don\\'t wish to re-introduce a ZooKeeper jar dependency here.\\n    boolean zkSaslEnabled = Boolean.parseBoolean(System.getProperty(ZK_SASL_CLIENT, DEFAULT_ZK_SASL_CLIENT));\\n    String zkLoginContextName = System.getProperty(ZK_LOGIN_CONTEXT_NAME_KEY, DEFAULT_ZK_LOGIN_CONTEXT_NAME);\\n    LOG.debug(\"Checking login config for Zookeeper JAAS context {}\", zkSecuritySysConfigString());\\n    boolean foundLoginConfigEntry;\\n    try {\\n        Configuration loginConf = Configuration.getConfiguration();\\n        foundLoginConfigEntry = loginConf.getAppConfigurationEntry(zkLoginContextName) != null;\\n    } catch (Exception e) {\\n        throw new KafkaException(\"Exception while loading Zookeeper JAAS login context \" + zkSecuritySysConfigString(), e);\\n    }\\n    if (foundLoginConfigEntry && !zkSaslEnabled) {\\n        LOG.error(\"JAAS configuration is present, but system property \" + ZK_SASL_CLIENT + \" is set to false, which disables \" + \"SASL in the ZooKeeper client\");\\n        throw new KafkaException(\"Exception while determining if ZooKeeper is secure \" + zkSecuritySysConfigString());\\n    }\\n    return foundLoginConfigEntry;\\n}\\n}\\n\\nclients/src/main/java/org/apache/kafka/common/security/JaasUtils.java (After)\\npackage org.apache.kafka.common.security;\\n\\npublic  final class JaasUtils {\\npublic static final String JAVA_LOGIN_CONFIG_PARAM = \"java.security.auth.login.config\";\\npublic static final String DISALLOWED_LOGIN_MODULES_CONFIG = \"org.apache.kafka.disallowed.login.modules\";\\npublic static final String DISALLOWED_LOGIN_MODULES_DEFAULT = \"com.sun.security.auth.module.JndiLoginModule\";\\npublic static final String SERVICE_NAME = \"serviceName\";\\nprivate JaasUtils() {\\n}\\n}\\n\\n\\nQuery text:', 'role': 'user'}], 'model': 'gpt-4o-mini', 'n': 1, 'stream': False, 'temperature': 0.7}}\n",
      "DEBUG:openai._base_client:Sending HTTP Request: POST https://api.openai.com/v1/chat/completions\n",
      "DEBUG:httpcore.connection:connect_tcp.started host='api.openai.com' port=443 local_address=None timeout=None socket_options=None\n",
      "DEBUG:httpcore.connection:connect_tcp.complete return_value=<httpcore._backends.sync.SyncStream object at 0x00000198FBA446E0>\n",
      "DEBUG:httpcore.connection:start_tls.started ssl_context=<ssl.SSLContext object at 0x00000198FA7B9400> server_hostname='api.openai.com' timeout=None\n",
      "DEBUG:urllib3.connectionpool:https://api.smith.langchain.com:443 \"GET /info HTTP/11\" 200 672\n",
      "DEBUG:httpcore.connection:start_tls.complete return_value=<httpcore._backends.sync.SyncStream object at 0x00000198FB9B8910>\n",
      "DEBUG:httpcore.http11:send_request_headers.started request=<Request [b'POST']>\n",
      "DEBUG:httpcore.http11:send_request_headers.complete\n",
      "DEBUG:httpcore.http11:send_request_body.started request=<Request [b'POST']>\n",
      "DEBUG:httpcore.http11:send_request_body.complete\n",
      "DEBUG:httpcore.http11:receive_response_headers.started request=<Request [b'POST']>\n",
      "DEBUG:urllib3.connectionpool:https://api.smith.langchain.com:443 \"POST /runs/multipart HTTP/11\" 202 33\n",
      "DEBUG:httpcore.http11:receive_response_headers.complete return_value=(b'HTTP/1.1', 200, b'OK', [(b'Date', b'Fri, 17 Jan 2025 10:53:33 GMT'), (b'Content-Type', b'application/json'), (b'Transfer-Encoding', b'chunked'), (b'Connection', b'keep-alive'), (b'access-control-expose-headers', b'X-Request-ID'), (b'openai-organization', b'user-yxw5duua92nmh24amrdiwkpm'), (b'openai-processing-ms', b'1169'), (b'openai-version', b'2020-10-01'), (b'x-ratelimit-limit-requests', b'10000'), (b'x-ratelimit-limit-tokens', b'200000'), (b'x-ratelimit-remaining-requests', b'9999'), (b'x-ratelimit-remaining-tokens', b'198122'), (b'x-ratelimit-reset-requests', b'8.64s'), (b'x-ratelimit-reset-tokens', b'563ms'), (b'x-request-id', b'req_31a1dfd21324e3f90241d963a4c8c3b1'), (b'strict-transport-security', b'max-age=31536000; includeSubDomains; preload'), (b'CF-Cache-Status', b'DYNAMIC'), (b'Set-Cookie', b'__cf_bm=Pz4RanxzJp3ypQgH0AcycDkMm5QSz5RFuRDUuQlKX_I-1737111213-1.0.1.1-MdUjXXQg46bkqlc2TTrbW.wLJ0a4BQWQJ2ISe8MTkvcxUBAOy6gMarPTJxmc5TNtKMs7lfPD5tUIqL16r41p6w; path=/; expires=Fri, 17-Jan-25 11:23:33 GMT; domain=.api.openai.com; HttpOnly; Secure; SameSite=None'), (b'X-Content-Type-Options', b'nosniff'), (b'Set-Cookie', b'_cfuvid=fjdojoDfLCGFV4nR0ynZ3pWA1BI31QoT3TwIJ5zpQLk-1737111213510-0.0.1.1-604800000; path=/; domain=.api.openai.com; HttpOnly; Secure; SameSite=None'), (b'Server', b'cloudflare'), (b'CF-RAY', b'9035cd4f397b8998-SIN'), (b'Content-Encoding', b'gzip'), (b'alt-svc', b'h3=\":443\"; ma=86400')])\n",
      "INFO:httpx:HTTP Request: POST https://api.openai.com/v1/chat/completions \"HTTP/1.1 200 OK\"\n",
      "DEBUG:httpcore.http11:receive_response_body.started request=<Request [b'POST']>\n",
      "DEBUG:httpcore.http11:receive_response_body.complete\n",
      "DEBUG:httpcore.http11:response_closed.started\n",
      "DEBUG:httpcore.http11:response_closed.complete\n",
      "DEBUG:openai._base_client:HTTP Response: POST https://api.openai.com/v1/chat/completions \"200 OK\" Headers([('date', 'Fri, 17 Jan 2025 10:53:33 GMT'), ('content-type', 'application/json'), ('transfer-encoding', 'chunked'), ('connection', 'keep-alive'), ('access-control-expose-headers', 'X-Request-ID'), ('openai-organization', 'user-yxw5duua92nmh24amrdiwkpm'), ('openai-processing-ms', '1169'), ('openai-version', '2020-10-01'), ('x-ratelimit-limit-requests', '10000'), ('x-ratelimit-limit-tokens', '200000'), ('x-ratelimit-remaining-requests', '9999'), ('x-ratelimit-remaining-tokens', '198122'), ('x-ratelimit-reset-requests', '8.64s'), ('x-ratelimit-reset-tokens', '563ms'), ('x-request-id', 'req_31a1dfd21324e3f90241d963a4c8c3b1'), ('strict-transport-security', 'max-age=31536000; includeSubDomains; preload'), ('cf-cache-status', 'DYNAMIC'), ('set-cookie', '__cf_bm=Pz4RanxzJp3ypQgH0AcycDkMm5QSz5RFuRDUuQlKX_I-1737111213-1.0.1.1-MdUjXXQg46bkqlc2TTrbW.wLJ0a4BQWQJ2ISe8MTkvcxUBAOy6gMarPTJxmc5TNtKMs7lfPD5tUIqL16r41p6w; path=/; expires=Fri, 17-Jan-25 11:23:33 GMT; domain=.api.openai.com; HttpOnly; Secure; SameSite=None'), ('x-content-type-options', 'nosniff'), ('set-cookie', '_cfuvid=fjdojoDfLCGFV4nR0ynZ3pWA1BI31QoT3TwIJ5zpQLk-1737111213510-0.0.1.1-604800000; path=/; domain=.api.openai.com; HttpOnly; Secure; SameSite=None'), ('server', 'cloudflare'), ('cf-ray', '9035cd4f397b8998-SIN'), ('content-encoding', 'gzip'), ('alt-svc', 'h3=\":443\"; ma=86400')])\n",
      "DEBUG:openai._base_client:request_id: req_31a1dfd21324e3f90241d963a4c8c3b1\n",
      "DEBUG:urllib3.connectionpool:Starting new HTTPS connection (1): openaipublic.blob.core.windows.net:443\n",
      "DEBUG:urllib3.connectionpool:https://api.smith.langchain.com:443 \"POST /runs/multipart HTTP/11\" 202 33\n",
      "DEBUG:urllib3.connectionpool:https://openaipublic.blob.core.windows.net:443 \"GET /encodings/cl100k_base.tiktoken HTTP/11\" 200 1681126\n",
      "DEBUG:openai._base_client:Request options: {'method': 'post', 'url': '/embeddings', 'files': None, 'post_parser': <function Embeddings.create.<locals>.parser at 0x00000198FBA17BA0>, 'json_data': {'input': [[13319, 41960, 78333, 12496, 505, 23720, 300, 4303]], 'model': 'text-embedding-3-small', 'encoding_format': 'base64'}}\n",
      "DEBUG:openai._base_client:Sending HTTP Request: POST https://api.openai.com/v1/embeddings\n",
      "DEBUG:httpcore.connection:connect_tcp.started host='api.openai.com' port=443 local_address=None timeout=None socket_options=None\n",
      "DEBUG:httpcore.connection:connect_tcp.complete return_value=<httpcore._backends.sync.SyncStream object at 0x00000198FB9B9BD0>\n",
      "DEBUG:httpcore.connection:start_tls.started ssl_context=<ssl.SSLContext object at 0x00000198FB978170> server_hostname='api.openai.com' timeout=None\n",
      "DEBUG:httpcore.connection:start_tls.complete return_value=<httpcore._backends.sync.SyncStream object at 0x00000198FB9F0D60>\n",
      "DEBUG:httpcore.http11:send_request_headers.started request=<Request [b'POST']>\n",
      "DEBUG:httpcore.http11:send_request_headers.complete\n",
      "DEBUG:httpcore.http11:send_request_body.started request=<Request [b'POST']>\n",
      "DEBUG:httpcore.http11:send_request_body.complete\n",
      "DEBUG:httpcore.http11:receive_response_headers.started request=<Request [b'POST']>\n",
      "DEBUG:httpcore.http11:receive_response_headers.complete return_value=(b'HTTP/1.1', 200, b'OK', [(b'Date', b'Fri, 17 Jan 2025 10:53:42 GMT'), (b'Content-Type', b'application/json'), (b'Transfer-Encoding', b'chunked'), (b'Connection', b'keep-alive'), (b'access-control-allow-origin', b'*'), (b'access-control-expose-headers', b'X-Request-ID'), (b'openai-model', b'text-embedding-3-small'), (b'openai-organization', b'user-yxw5duua92nmh24amrdiwkpm'), (b'openai-processing-ms', b'82'), (b'openai-version', b'2020-10-01'), (b'strict-transport-security', b'max-age=31536000; includeSubDomains; preload'), (b'via', b'envoy-router-68447b4867-7drrl'), (b'x-envoy-upstream-service-time', b'47'), (b'x-ratelimit-limit-requests', b'3000'), (b'x-ratelimit-limit-tokens', b'1000000'), (b'x-ratelimit-remaining-requests', b'2999'), (b'x-ratelimit-remaining-tokens', b'999992'), (b'x-ratelimit-reset-requests', b'20ms'), (b'x-ratelimit-reset-tokens', b'0s'), (b'x-request-id', b'req_01d0f659b0d574665cf93bf577660030'), (b'CF-Cache-Status', b'DYNAMIC'), (b'Set-Cookie', b'__cf_bm=ak4J2M8LU4Q4z2lPJtT_8zbIO2Xh6pSir9Rtnxbn8Zg-1737111222-1.0.1.1-ApvWGHTuj7U3JW9WD3YAGCUYrMXgc9uC4IEmCnYoJLYegbL83aao43wZ.GbWrMo3MOn1VaMZ9zPwUKHrgGyYLg; path=/; expires=Fri, 17-Jan-25 11:23:42 GMT; domain=.api.openai.com; HttpOnly; Secure; SameSite=None'), (b'X-Content-Type-Options', b'nosniff'), (b'Set-Cookie', b'_cfuvid=iED952kW6UQeE7pDhzasCLoyRK.eGuymAJbABTxLCrw-1737111222597-0.0.1.1-604800000; path=/; domain=.api.openai.com; HttpOnly; Secure; SameSite=None'), (b'Server', b'cloudflare'), (b'CF-RAY', b'9035cd914d0afdbb-SIN'), (b'Content-Encoding', b'gzip'), (b'alt-svc', b'h3=\":443\"; ma=86400')])\n",
      "INFO:httpx:HTTP Request: POST https://api.openai.com/v1/embeddings \"HTTP/1.1 200 OK\"\n",
      "DEBUG:httpcore.http11:receive_response_body.started request=<Request [b'POST']>\n",
      "DEBUG:httpcore.http11:receive_response_body.complete\n",
      "DEBUG:httpcore.http11:response_closed.started\n",
      "DEBUG:httpcore.http11:response_closed.complete\n",
      "DEBUG:openai._base_client:HTTP Response: POST https://api.openai.com/v1/embeddings \"200 OK\" Headers([('date', 'Fri, 17 Jan 2025 10:53:42 GMT'), ('content-type', 'application/json'), ('transfer-encoding', 'chunked'), ('connection', 'keep-alive'), ('access-control-allow-origin', '*'), ('access-control-expose-headers', 'X-Request-ID'), ('openai-model', 'text-embedding-3-small'), ('openai-organization', 'user-yxw5duua92nmh24amrdiwkpm'), ('openai-processing-ms', '82'), ('openai-version', '2020-10-01'), ('strict-transport-security', 'max-age=31536000; includeSubDomains; preload'), ('via', 'envoy-router-68447b4867-7drrl'), ('x-envoy-upstream-service-time', '47'), ('x-ratelimit-limit-requests', '3000'), ('x-ratelimit-limit-tokens', '1000000'), ('x-ratelimit-remaining-requests', '2999'), ('x-ratelimit-remaining-tokens', '999992'), ('x-ratelimit-reset-requests', '20ms'), ('x-ratelimit-reset-tokens', '0s'), ('x-request-id', 'req_01d0f659b0d574665cf93bf577660030'), ('cf-cache-status', 'DYNAMIC'), ('set-cookie', '__cf_bm=ak4J2M8LU4Q4z2lPJtT_8zbIO2Xh6pSir9Rtnxbn8Zg-1737111222-1.0.1.1-ApvWGHTuj7U3JW9WD3YAGCUYrMXgc9uC4IEmCnYoJLYegbL83aao43wZ.GbWrMo3MOn1VaMZ9zPwUKHrgGyYLg; path=/; expires=Fri, 17-Jan-25 11:23:42 GMT; domain=.api.openai.com; HttpOnly; Secure; SameSite=None'), ('x-content-type-options', 'nosniff'), ('set-cookie', '_cfuvid=iED952kW6UQeE7pDhzasCLoyRK.eGuymAJbABTxLCrw-1737111222597-0.0.1.1-604800000; path=/; domain=.api.openai.com; HttpOnly; Secure; SameSite=None'), ('server', 'cloudflare'), ('cf-ray', '9035cd914d0afdbb-SIN'), ('content-encoding', 'gzip'), ('alt-svc', 'h3=\":443\"; ma=86400')])\n",
      "DEBUG:openai._base_client:request_id: req_01d0f659b0d574665cf93bf577660030\n",
      "DEBUG:faiss.loader:Environment variable FAISS_OPT_LEVEL is not set, so let's pick the instruction set according to the current CPU\n",
      "INFO:faiss.loader:Loading faiss with AVX512 support.\n",
      "INFO:faiss.loader:Could not load library with AVX512 support due to:\n",
      "ModuleNotFoundError(\"No module named 'faiss.swigfaiss_avx512'\")\n",
      "INFO:faiss.loader:Loading faiss with AVX2 support.\n",
      "INFO:faiss.loader:Successfully loaded faiss with AVX2 support.\n",
      "DEBUG:openai._base_client:Request options: {'method': 'post', 'url': '/embeddings', 'files': None, 'post_parser': <function Embeddings.create.<locals>.parser at 0x00000198FBA14C20>, 'json_data': {'input': [[791, 2082, 706, 1027, 44899, 555, 18054, 3892, 20604, 7482, 323, 5528, 5552, 311, 41960, 78333, 4868, 6683, 13, 1115, 3727, 279, 2082, 32981, 323, 24400, 433, 810, 389, 1202, 6156, 734, 2085, 26225, 23965, 13]], 'model': 'text-embedding-3-small', 'encoding_format': 'base64'}}\n",
      "DEBUG:openai._base_client:Sending HTTP Request: POST https://api.openai.com/v1/embeddings\n",
      "DEBUG:httpcore.http11:send_request_headers.started request=<Request [b'POST']>\n",
      "DEBUG:httpcore.http11:send_request_headers.complete\n",
      "DEBUG:httpcore.http11:send_request_body.started request=<Request [b'POST']>\n",
      "DEBUG:httpcore.http11:send_request_body.complete\n",
      "DEBUG:httpcore.http11:receive_response_headers.started request=<Request [b'POST']>\n",
      "DEBUG:urllib3.connectionpool:https://api.smith.langchain.com:443 \"POST /runs/multipart HTTP/11\" 202 33\n",
      "DEBUG:httpcore.http11:receive_response_headers.complete return_value=(b'HTTP/1.1', 200, b'OK', [(b'Date', b'Fri, 17 Jan 2025 10:53:44 GMT'), (b'Content-Type', b'application/json'), (b'Transfer-Encoding', b'chunked'), (b'Connection', b'keep-alive'), (b'access-control-allow-origin', b'*'), (b'access-control-expose-headers', b'X-Request-ID'), (b'openai-model', b'text-embedding-3-small'), (b'openai-organization', b'user-yxw5duua92nmh24amrdiwkpm'), (b'openai-processing-ms', b'65'), (b'openai-version', b'2020-10-01'), (b'strict-transport-security', b'max-age=31536000; includeSubDomains; preload'), (b'via', b'envoy-router-f6d5c6c-wkn6s'), (b'x-envoy-upstream-service-time', b'49'), (b'x-ratelimit-limit-requests', b'3000'), (b'x-ratelimit-limit-tokens', b'1000000'), (b'x-ratelimit-remaining-requests', b'2999'), (b'x-ratelimit-remaining-tokens', b'999964'), (b'x-ratelimit-reset-requests', b'20ms'), (b'x-ratelimit-reset-tokens', b'2ms'), (b'x-request-id', b'req_bdaf2b30842f9635c48c0d8a5ca41a7e'), (b'CF-Cache-Status', b'DYNAMIC'), (b'X-Content-Type-Options', b'nosniff'), (b'Server', b'cloudflare'), (b'CF-RAY', b'9035cd9aeb3dfdbb-SIN'), (b'Content-Encoding', b'gzip'), (b'alt-svc', b'h3=\":443\"; ma=86400')])\n",
      "INFO:httpx:HTTP Request: POST https://api.openai.com/v1/embeddings \"HTTP/1.1 200 OK\"\n",
      "DEBUG:httpcore.http11:receive_response_body.started request=<Request [b'POST']>\n",
      "DEBUG:httpcore.http11:receive_response_body.complete\n",
      "DEBUG:httpcore.http11:response_closed.started\n",
      "DEBUG:httpcore.http11:response_closed.complete\n",
      "DEBUG:openai._base_client:HTTP Response: POST https://api.openai.com/v1/embeddings \"200 OK\" Headers({'date': 'Fri, 17 Jan 2025 10:53:44 GMT', 'content-type': 'application/json', 'transfer-encoding': 'chunked', 'connection': 'keep-alive', 'access-control-allow-origin': '*', 'access-control-expose-headers': 'X-Request-ID', 'openai-model': 'text-embedding-3-small', 'openai-organization': 'user-yxw5duua92nmh24amrdiwkpm', 'openai-processing-ms': '65', 'openai-version': '2020-10-01', 'strict-transport-security': 'max-age=31536000; includeSubDomains; preload', 'via': 'envoy-router-f6d5c6c-wkn6s', 'x-envoy-upstream-service-time': '49', 'x-ratelimit-limit-requests': '3000', 'x-ratelimit-limit-tokens': '1000000', 'x-ratelimit-remaining-requests': '2999', 'x-ratelimit-remaining-tokens': '999964', 'x-ratelimit-reset-requests': '20ms', 'x-ratelimit-reset-tokens': '2ms', 'x-request-id': 'req_bdaf2b30842f9635c48c0d8a5ca41a7e', 'cf-cache-status': 'DYNAMIC', 'x-content-type-options': 'nosniff', 'server': 'cloudflare', 'cf-ray': '9035cd9aeb3dfdbb-SIN', 'content-encoding': 'gzip', 'alt-svc': 'h3=\":443\"; ma=86400'})\n",
      "DEBUG:openai._base_client:request_id: req_bdaf2b30842f9635c48c0d8a5ca41a7e\n",
      "DEBUG:openai._base_client:Request options: {'method': 'post', 'url': '/chat/completions', 'files': None, 'json_data': {'messages': [{'content': 'Evaluate the performance of a document retriever. Given the Git diff and retrieved context, return YES if the context directly or indirectly correlates with the changes in the Git diff. Otherwise, return NO.\\n\\n> Git diff: \\n>>>\\ndiff --git a/clients/src/main/java/org/apache/kafka/common/security/JaasUtils.java b/clients/src/main/java/org/apache/kafka/common/security/JaasUtils.java\\nindex 742319c4f4..800283e56e 100644\\n--- a/clients/src/main/java/org/apache/kafka/common/security/JaasUtils.java\\n+++ b/clients/src/main/java/org/apache/kafka/common/security/JaasUtils.java\\n@@ -16,67 +16,12 @@\\n  */\\n package org.apache.kafka.common.security;\\n \\n-import org.apache.kafka.common.KafkaException;\\n-\\n-import org.slf4j.Logger;\\n-import org.slf4j.LoggerFactory;\\n-\\n-import javax.security.auth.login.Configuration;\\n-\\n public final class JaasUtils {\\n-    private static final Logger LOG = LoggerFactory.getLogger(JaasUtils.class);\\n     public static final String JAVA_LOGIN_CONFIG_PARAM = \"java.security.auth.login.config\";\\n     public static final String DISALLOWED_LOGIN_MODULES_CONFIG = \"org.apache.kafka.disallowed.login.modules\";\\n     public static final String DISALLOWED_LOGIN_MODULES_DEFAULT = \"com.sun.security.auth.module.JndiLoginModule\";\\n     public static final String SERVICE_NAME = \"serviceName\";\\n \\n-    public static final String ZK_SASL_CLIENT = \"zookeeper.sasl.client\";\\n-    public static final String ZK_LOGIN_CONTEXT_NAME_KEY = \"zookeeper.sasl.clientconfig\";\\n-\\n-    private static final String DEFAULT_ZK_LOGIN_CONTEXT_NAME = \"Client\";\\n-    private static final String DEFAULT_ZK_SASL_CLIENT = \"true\";\\n-\\n     private JaasUtils() {}\\n \\n-    public static String zkSecuritySysConfigString() {\\n-        String loginConfig = System.getProperty(JAVA_LOGIN_CONFIG_PARAM);\\n-        String clientEnabled = System.getProperty(ZK_SASL_CLIENT, \"default:\" + DEFAULT_ZK_SASL_CLIENT);\\n-        String contextName = System.getProperty(ZK_LOGIN_CONTEXT_NAME_KEY, \"default:\" + DEFAULT_ZK_LOGIN_CONTEXT_NAME);\\n-        return \"[\" +\\n-                JAVA_LOGIN_CONFIG_PARAM + \"=\" + loginConfig +\\n-                \", \" +\\n-                ZK_SASL_CLIENT + \"=\" + clientEnabled +\\n-                \", \" +\\n-                ZK_LOGIN_CONTEXT_NAME_KEY + \"=\" + contextName +\\n-                \"]\";\\n-    }\\n-\\n-    public static boolean isZkSaslEnabled() {\\n-        // Technically a client must also check if TLS mutual authentication has been configured,\\n-        // but we will leave that up to the client code to determine since direct connectivity to ZooKeeper\\n-        // has been deprecated in many clients and we don\\'t wish to re-introduce a ZooKeeper jar dependency here.\\n-        boolean zkSaslEnabled = Boolean.parseBoolean(System.getProperty(ZK_SASL_CLIENT, DEFAULT_ZK_SASL_CLIENT));\\n-        String zkLoginContextName = System.getProperty(ZK_LOGIN_CONTEXT_NAME_KEY, DEFAULT_ZK_LOGIN_CONTEXT_NAME);\\n-\\n-        LOG.debug(\"Checking login config for Zookeeper JAAS context {}\", zkSecuritySysConfigString());\\n-\\n-        boolean foundLoginConfigEntry;\\n-        try {\\n-            Configuration loginConf = Configuration.getConfiguration();\\n-            foundLoginConfigEntry = loginConf.getAppConfigurationEntry(zkLoginContextName) != null;\\n-        } catch (Exception e) {\\n-            throw new KafkaException(\"Exception while loading Zookeeper JAAS login context \" +\\n-                    zkSecuritySysConfigString(), e);\\n-        }\\n-\\n-        if (foundLoginConfigEntry && !zkSaslEnabled) {\\n-            LOG.error(\"JAAS configuration is present, but system property \" +\\n-                        ZK_SASL_CLIENT + \" is set to false, which disables \" +\\n-                        \"SASL in the ZooKeeper client\");\\n-            throw new KafkaException(\"Exception while determining if ZooKeeper is secure \" +\\n-                    zkSecuritySysConfigString());\\n-        }\\n-\\n-        return foundLoginConfigEntry;\\n-    }\\n }\\n\\n>>>\\n> Retrieved context:\\n>>>\\nRemove ZooKeeper logic from JaasUtils\\n>>>\\n> Relevant (YES / NO):', 'role': 'user'}], 'model': 'gpt-4o-mini', 'n': 1, 'stream': False, 'temperature': 0.0}}\n",
      "DEBUG:openai._base_client:Sending HTTP Request: POST https://api.openai.com/v1/chat/completions\n",
      "DEBUG:httpcore.connection:connect_tcp.started host='api.openai.com' port=443 local_address=None timeout=None socket_options=None\n",
      "DEBUG:httpcore.connection:connect_tcp.complete return_value=<httpcore._backends.sync.SyncStream object at 0x00000198FD0F0B00>\n",
      "DEBUG:httpcore.connection:start_tls.started ssl_context=<ssl.SSLContext object at 0x00000198FB97A210> server_hostname='api.openai.com' timeout=None\n",
      "DEBUG:httpcore.connection:start_tls.complete return_value=<httpcore._backends.sync.SyncStream object at 0x00000198FD102F90>\n",
      "DEBUG:httpcore.http11:send_request_headers.started request=<Request [b'POST']>\n",
      "DEBUG:httpcore.http11:send_request_headers.complete\n",
      "DEBUG:httpcore.http11:send_request_body.started request=<Request [b'POST']>\n",
      "DEBUG:httpcore.http11:send_request_body.complete\n",
      "DEBUG:httpcore.http11:receive_response_headers.started request=<Request [b'POST']>\n",
      "DEBUG:urllib3.connectionpool:https://api.smith.langchain.com:443 \"POST /runs/multipart HTTP/11\" 202 33\n",
      "DEBUG:httpcore.http11:receive_response_headers.complete return_value=(b'HTTP/1.1', 200, b'OK', [(b'Date', b'Fri, 17 Jan 2025 10:53:45 GMT'), (b'Content-Type', b'application/json'), (b'Transfer-Encoding', b'chunked'), (b'Connection', b'keep-alive'), (b'access-control-expose-headers', b'X-Request-ID'), (b'openai-organization', b'user-yxw5duua92nmh24amrdiwkpm'), (b'openai-processing-ms', b'612'), (b'openai-version', b'2020-10-01'), (b'x-ratelimit-limit-requests', b'10000'), (b'x-ratelimit-limit-tokens', b'200000'), (b'x-ratelimit-remaining-requests', b'9999'), (b'x-ratelimit-remaining-tokens', b'198986'), (b'x-ratelimit-reset-requests', b'8.64s'), (b'x-ratelimit-reset-tokens', b'304ms'), (b'x-request-id', b'req_ef676a7f1c49a6ebb6b115d1ee46c78c'), (b'strict-transport-security', b'max-age=31536000; includeSubDomains; preload'), (b'CF-Cache-Status', b'DYNAMIC'), (b'Set-Cookie', b'__cf_bm=_qKQKhYEG1JYbZphQD.twZhsLtgZ8MbcmmKvNJlSfx0-1737111225-1.0.1.1-6iEFVO2iAOHsSqJ0Oro5T7cE56Sl.awMexjNx1y79VlaIMQrTx3yJyE2eesTS.TvHI01IA_gZxCAIkfcKjaesA; path=/; expires=Fri, 17-Jan-25 11:23:45 GMT; domain=.api.openai.com; HttpOnly; Secure; SameSite=None'), (b'X-Content-Type-Options', b'nosniff'), (b'Set-Cookie', b'_cfuvid=BWEbjurYUThWTk0eM3Sme3aqV9.fKOWenPVvEq2IV5E-1737111225005-0.0.1.1-604800000; path=/; domain=.api.openai.com; HttpOnly; Secure; SameSite=None'), (b'Server', b'cloudflare'), (b'CF-RAY', b'9035cd9eca96fcfa-SIN'), (b'Content-Encoding', b'gzip'), (b'alt-svc', b'h3=\":443\"; ma=86400')])\n",
      "INFO:httpx:HTTP Request: POST https://api.openai.com/v1/chat/completions \"HTTP/1.1 200 OK\"\n",
      "DEBUG:httpcore.http11:receive_response_body.started request=<Request [b'POST']>\n",
      "DEBUG:httpcore.http11:receive_response_body.complete\n",
      "DEBUG:httpcore.http11:response_closed.started\n",
      "DEBUG:httpcore.http11:response_closed.complete\n",
      "DEBUG:openai._base_client:HTTP Response: POST https://api.openai.com/v1/chat/completions \"200 OK\" Headers([('date', 'Fri, 17 Jan 2025 10:53:45 GMT'), ('content-type', 'application/json'), ('transfer-encoding', 'chunked'), ('connection', 'keep-alive'), ('access-control-expose-headers', 'X-Request-ID'), ('openai-organization', 'user-yxw5duua92nmh24amrdiwkpm'), ('openai-processing-ms', '612'), ('openai-version', '2020-10-01'), ('x-ratelimit-limit-requests', '10000'), ('x-ratelimit-limit-tokens', '200000'), ('x-ratelimit-remaining-requests', '9999'), ('x-ratelimit-remaining-tokens', '198986'), ('x-ratelimit-reset-requests', '8.64s'), ('x-ratelimit-reset-tokens', '304ms'), ('x-request-id', 'req_ef676a7f1c49a6ebb6b115d1ee46c78c'), ('strict-transport-security', 'max-age=31536000; includeSubDomains; preload'), ('cf-cache-status', 'DYNAMIC'), ('set-cookie', '__cf_bm=_qKQKhYEG1JYbZphQD.twZhsLtgZ8MbcmmKvNJlSfx0-1737111225-1.0.1.1-6iEFVO2iAOHsSqJ0Oro5T7cE56Sl.awMexjNx1y79VlaIMQrTx3yJyE2eesTS.TvHI01IA_gZxCAIkfcKjaesA; path=/; expires=Fri, 17-Jan-25 11:23:45 GMT; domain=.api.openai.com; HttpOnly; Secure; SameSite=None'), ('x-content-type-options', 'nosniff'), ('set-cookie', '_cfuvid=BWEbjurYUThWTk0eM3Sme3aqV9.fKOWenPVvEq2IV5E-1737111225005-0.0.1.1-604800000; path=/; domain=.api.openai.com; HttpOnly; Secure; SameSite=None'), ('server', 'cloudflare'), ('cf-ray', '9035cd9eca96fcfa-SIN'), ('content-encoding', 'gzip'), ('alt-svc', 'h3=\":443\"; ma=86400')])\n",
      "DEBUG:openai._base_client:request_id: req_ef676a7f1c49a6ebb6b115d1ee46c78c\n"
     ]
    },
    {
     "name": "stderr",
     "output_type": "stream",
     "text": [
      "DEBUG:urllib3.connectionpool:https://api.smith.langchain.com:443 \"POST /runs/multipart HTTP/11\" 202 33\n",
      "DEBUG:urllib3.connectionpool:https://api.smith.langchain.com:443 \"POST /runs/multipart HTTP/11\" 202 33\n",
      "DEBUG:urllib3.connectionpool:https://api.smith.langchain.com:443 \"POST /runs/multipart HTTP/11\" 202 33\n",
      "DEBUG:urllib3.connectionpool:https://api.smith.langchain.com:443 \"POST /runs/multipart HTTP/11\" 202 33\n",
      "DEBUG:urllib3.connectionpool:https://api.smith.langchain.com:443 \"POST /runs/multipart HTTP/11\" 202 33\n",
      "DEBUG:urllib3.connectionpool:https://api.smith.langchain.com:443 \"POST /runs/multipart HTTP/11\" 202 33\n",
      "DEBUG:urllib3.connectionpool:https://api.smith.langchain.com:443 \"POST /runs/multipart HTTP/11\" 202 33\n",
      "DEBUG:urllib3.connectionpool:https://api.smith.langchain.com:443 \"POST /runs/multipart HTTP/11\" 202 33\n"
     ]
    }
   ],
   "source": [
    "evaluator.get_high_level_contexts(\n",
    "    high_level_context_chain, \n",
    "    COMMITS, \n",
    "    CONTEXT_DATA_PATH, \n",
    "    HIGH_LEVEL_CONTEXT_OUTPUT_PATH)"
   ]
  },
  {
   "cell_type": "markdown",
   "metadata": {},
   "source": [
    "# Generate Commit Message"
   ]
  },
  {
   "cell_type": "code",
   "execution_count": null,
   "metadata": {},
   "outputs": [
    {
     "name": "stderr",
     "output_type": "stream",
     "text": [
      "DEBUG:urllib3.connectionpool:Starting new HTTPS connection (1): api.smith.langchain.com:443\n",
      "DEBUG:urllib3.connectionpool:https://api.smith.langchain.com:443 \"GET /info HTTP/11\" 200 671\n",
      "DEBUG:urllib3.connectionpool:https://api.smith.langchain.com:443 \"POST /runs/multipart HTTP/11\" 202 33\n",
      "DEBUG:openai._base_client:Request options: {'method': 'post', 'url': '/chat/completions', 'files': None, 'json_data': {'messages': [{'content': 'Classify the Git diff into one of the following six software maintenance activities: feat, fix, perf, test, refactor, or chore. Return the activity that best matches the code changes. Refer to the definitions below for each activity.\\n\\nfeat: introducing new features into the system.\\nfix: fixing existing bugs or issues in the system.\\nperf: improving the performance of the system.\\ntest: adding, modifying, or deleting test cases.\\nrefactor: changes made to the internal structure of software to make it easier to understand and cheaper to modify without changing its observable behavior, including code styling.\\nchore: regular maintenance tasks, such as updating dependencies or build tasks.\\n\\nAvoid adding any additional comments or annotations to the classification.\\n\\n> Git diff: diff --git a/clients/src/main/java/org/apache/kafka/common/security/JaasUtils.java b/clients/src/main/java/org/apache/kafka/common/security/JaasUtils.java\\nindex 742319c4f4..800283e56e 100644\\n--- a/clients/src/main/java/org/apache/kafka/common/security/JaasUtils.java\\n+++ b/clients/src/main/java/org/apache/kafka/common/security/JaasUtils.java\\n@@ -16,67 +16,12 @@\\n  */\\n package org.apache.kafka.common.security;\\n \\n-import org.apache.kafka.common.KafkaException;\\n-\\n-import org.slf4j.Logger;\\n-import org.slf4j.LoggerFactory;\\n-\\n-import javax.security.auth.login.Configuration;\\n-\\n public final class JaasUtils {\\n-    private static final Logger LOG = LoggerFactory.getLogger(JaasUtils.class);\\n     public static final String JAVA_LOGIN_CONFIG_PARAM = \"java.security.auth.login.config\";\\n     public static final String DISALLOWED_LOGIN_MODULES_CONFIG = \"org.apache.kafka.disallowed.login.modules\";\\n     public static final String DISALLOWED_LOGIN_MODULES_DEFAULT = \"com.sun.security.auth.module.JndiLoginModule\";\\n     public static final String SERVICE_NAME = \"serviceName\";\\n \\n-    public static final String ZK_SASL_CLIENT = \"zookeeper.sasl.client\";\\n-    public static final String ZK_LOGIN_CONTEXT_NAME_KEY = \"zookeeper.sasl.clientconfig\";\\n-\\n-    private static final String DEFAULT_ZK_LOGIN_CONTEXT_NAME = \"Client\";\\n-    private static final String DEFAULT_ZK_SASL_CLIENT = \"true\";\\n-\\n     private JaasUtils() {}\\n \\n-    public static String zkSecuritySysConfigString() {\\n-        String loginConfig = System.getProperty(JAVA_LOGIN_CONFIG_PARAM);\\n-        String clientEnabled = System.getProperty(ZK_SASL_CLIENT, \"default:\" + DEFAULT_ZK_SASL_CLIENT);\\n-        String contextName = System.getProperty(ZK_LOGIN_CONTEXT_NAME_KEY, \"default:\" + DEFAULT_ZK_LOGIN_CONTEXT_NAME);\\n-        return \"[\" +\\n-                JAVA_LOGIN_CONFIG_PARAM + \"=\" + loginConfig +\\n-                \", \" +\\n-                ZK_SASL_CLIENT + \"=\" + clientEnabled +\\n-                \", \" +\\n-                ZK_LOGIN_CONTEXT_NAME_KEY + \"=\" + contextName +\\n-                \"]\";\\n-    }\\n-\\n-    public static boolean isZkSaslEnabled() {\\n-        // Technically a client must also check if TLS mutual authentication has been configured,\\n-        // but we will leave that up to the client code to determine since direct connectivity to ZooKeeper\\n-        // has been deprecated in many clients and we don\\'t wish to re-introduce a ZooKeeper jar dependency here.\\n-        boolean zkSaslEnabled = Boolean.parseBoolean(System.getProperty(ZK_SASL_CLIENT, DEFAULT_ZK_SASL_CLIENT));\\n-        String zkLoginContextName = System.getProperty(ZK_LOGIN_CONTEXT_NAME_KEY, DEFAULT_ZK_LOGIN_CONTEXT_NAME);\\n-\\n-        LOG.debug(\"Checking login config for Zookeeper JAAS context {}\", zkSecuritySysConfigString());\\n-\\n-        boolean foundLoginConfigEntry;\\n-        try {\\n-            Configuration loginConf = Configuration.getConfiguration();\\n-            foundLoginConfigEntry = loginConf.getAppConfigurationEntry(zkLoginContextName) != null;\\n-        } catch (Exception e) {\\n-            throw new KafkaException(\"Exception while loading Zookeeper JAAS login context \" +\\n-                    zkSecuritySysConfigString(), e);\\n-        }\\n-\\n-        if (foundLoginConfigEntry && !zkSaslEnabled) {\\n-            LOG.error(\"JAAS configuration is present, but system property \" +\\n-                        ZK_SASL_CLIENT + \" is set to false, which disables \" +\\n-                        \"SASL in the ZooKeeper client\");\\n-            throw new KafkaException(\"Exception while determining if ZooKeeper is secure \" +\\n-                    zkSecuritySysConfigString());\\n-        }\\n-\\n-        return foundLoginConfigEntry;\\n-    }\\n }\\n\\n\\n> Software maintenance activity (feat / fix / perf / test / refactor / chore):\\n', 'role': 'user'}], 'model': 'gpt-4o-mini', 'n': 1, 'stream': False, 'temperature': 0.0}}\n",
      "DEBUG:openai._base_client:Sending HTTP Request: POST https://api.openai.com/v1/chat/completions\n",
      "DEBUG:httpcore.connection:connect_tcp.started host='api.openai.com' port=443 local_address=None timeout=None socket_options=None\n",
      "DEBUG:httpcore.connection:connect_tcp.complete return_value=<httpcore._backends.sync.SyncStream object at 0x00000117F596E7B0>\n",
      "DEBUG:httpcore.connection:start_tls.started ssl_context=<ssl.SSLContext object at 0x00000117F46390A0> server_hostname='api.openai.com' timeout=None\n",
      "DEBUG:httpcore.connection:start_tls.complete return_value=<httpcore._backends.sync.SyncStream object at 0x00000117F5836FD0>\n",
      "DEBUG:httpcore.http11:send_request_headers.started request=<Request [b'POST']>\n",
      "DEBUG:httpcore.http11:send_request_headers.complete\n",
      "DEBUG:httpcore.http11:send_request_body.started request=<Request [b'POST']>\n",
      "DEBUG:httpcore.http11:send_request_body.complete\n",
      "DEBUG:httpcore.http11:receive_response_headers.started request=<Request [b'POST']>\n",
      "DEBUG:urllib3.connectionpool:https://api.smith.langchain.com:443 \"POST /runs/multipart HTTP/11\" 202 33\n",
      "DEBUG:httpcore.http11:receive_response_headers.complete return_value=(b'HTTP/1.1', 200, b'OK', [(b'Date', b'Sat, 18 Jan 2025 03:32:02 GMT'), (b'Content-Type', b'application/json'), (b'Transfer-Encoding', b'chunked'), (b'Connection', b'keep-alive'), (b'access-control-expose-headers', b'X-Request-ID'), (b'openai-organization', b'user-yxw5duua92nmh24amrdiwkpm'), (b'openai-processing-ms', b'229'), (b'openai-version', b'2020-10-01'), (b'x-ratelimit-limit-requests', b'10000'), (b'x-ratelimit-limit-tokens', b'200000'), (b'x-ratelimit-remaining-requests', b'9999'), (b'x-ratelimit-remaining-tokens', b'198851'), (b'x-ratelimit-reset-requests', b'8.64s'), (b'x-ratelimit-reset-tokens', b'344ms'), (b'x-request-id', b'req_18accc8076681a7f606fc03ab7861d35'), (b'strict-transport-security', b'max-age=31536000; includeSubDomains; preload'), (b'CF-Cache-Status', b'DYNAMIC'), (b'Set-Cookie', b'__cf_bm=WlH5.3DTe5uRqKtum7FT4nAo8IqQPHNZEaf5zkuPRL0-1737171122-1.0.1.1-UpfA24pBm2g4krjtuNKZNld_JW49espWyQcWEm2o6r5wc9jfq6e1sVu9qSu1O9MA9ssyVPp.kxHoJxXYVCEx6Q; path=/; expires=Sat, 18-Jan-25 04:02:02 GMT; domain=.api.openai.com; HttpOnly; Secure; SameSite=None'), (b'X-Content-Type-Options', b'nosniff'), (b'Set-Cookie', b'_cfuvid=tj89LoDj8QXTGgorOReotViQ1jlZaVI7mK78uqfyNi4-1737171122660-0.0.1.1-604800000; path=/; domain=.api.openai.com; HttpOnly; Secure; SameSite=None'), (b'Server', b'cloudflare'), (b'CF-RAY', b'903b83f95a79831e-SIN'), (b'Content-Encoding', b'gzip')])\n",
      "INFO:httpx:HTTP Request: POST https://api.openai.com/v1/chat/completions \"HTTP/1.1 200 OK\"\n",
      "DEBUG:httpcore.http11:receive_response_body.started request=<Request [b'POST']>\n",
      "DEBUG:httpcore.http11:receive_response_body.complete\n",
      "DEBUG:httpcore.http11:response_closed.started\n",
      "DEBUG:httpcore.http11:response_closed.complete\n",
      "DEBUG:openai._base_client:HTTP Response: POST https://api.openai.com/v1/chat/completions \"200 OK\" Headers([('date', 'Sat, 18 Jan 2025 03:32:02 GMT'), ('content-type', 'application/json'), ('transfer-encoding', 'chunked'), ('connection', 'keep-alive'), ('access-control-expose-headers', 'X-Request-ID'), ('openai-organization', 'user-yxw5duua92nmh24amrdiwkpm'), ('openai-processing-ms', '229'), ('openai-version', '2020-10-01'), ('x-ratelimit-limit-requests', '10000'), ('x-ratelimit-limit-tokens', '200000'), ('x-ratelimit-remaining-requests', '9999'), ('x-ratelimit-remaining-tokens', '198851'), ('x-ratelimit-reset-requests', '8.64s'), ('x-ratelimit-reset-tokens', '344ms'), ('x-request-id', 'req_18accc8076681a7f606fc03ab7861d35'), ('strict-transport-security', 'max-age=31536000; includeSubDomains; preload'), ('cf-cache-status', 'DYNAMIC'), ('set-cookie', '__cf_bm=WlH5.3DTe5uRqKtum7FT4nAo8IqQPHNZEaf5zkuPRL0-1737171122-1.0.1.1-UpfA24pBm2g4krjtuNKZNld_JW49espWyQcWEm2o6r5wc9jfq6e1sVu9qSu1O9MA9ssyVPp.kxHoJxXYVCEx6Q; path=/; expires=Sat, 18-Jan-25 04:02:02 GMT; domain=.api.openai.com; HttpOnly; Secure; SameSite=None'), ('x-content-type-options', 'nosniff'), ('set-cookie', '_cfuvid=tj89LoDj8QXTGgorOReotViQ1jlZaVI7mK78uqfyNi4-1737171122660-0.0.1.1-604800000; path=/; domain=.api.openai.com; HttpOnly; Secure; SameSite=None'), ('server', 'cloudflare'), ('cf-ray', '903b83f95a79831e-SIN'), ('content-encoding', 'gzip')])\n",
      "DEBUG:openai._base_client:request_id: req_18accc8076681a7f606fc03ab7861d35\n",
      "DEBUG:openai._base_client:Request options: {'method': 'post', 'url': '/chat/completions', 'files': None, 'json_data': {'messages': [{'content': 'Write a concise commit message based on the Git diff and additional context provided. If the context is relevant, include it in the commit body. Use IDs, names, or titles to reference relevant contexts for brevity. Including multiple contexts is allowed.\\n\\nA good commit message explains what changes were made and why they were necessary. Wrap the body at one to three brief sentences.\\n\\nFollow this format for the commit message:\\n\\n{type}: {subject}\\n\\n{body}\\n\\nGit diff:\\ndiff --git a/clients/src/main/java/org/apache/kafka/common/security/JaasUtils.java b/clients/src/main/java/org/apache/kafka/common/security/JaasUtils.java\\nindex 742319c4f4..800283e56e 100644\\n--- a/clients/src/main/java/org/apache/kafka/common/security/JaasUtils.java\\n+++ b/clients/src/main/java/org/apache/kafka/common/security/JaasUtils.java\\n@@ -16,67 +16,12 @@\\n  */\\n package org.apache.kafka.common.security;\\n \\n-import org.apache.kafka.common.KafkaException;\\n-\\n-import org.slf4j.Logger;\\n-import org.slf4j.LoggerFactory;\\n-\\n-import javax.security.auth.login.Configuration;\\n-\\n public final class JaasUtils {\\n-    private static final Logger LOG = LoggerFactory.getLogger(JaasUtils.class);\\n     public static final String JAVA_LOGIN_CONFIG_PARAM = \"java.security.auth.login.config\";\\n     public static final String DISALLOWED_LOGIN_MODULES_CONFIG = \"org.apache.kafka.disallowed.login.modules\";\\n     public static final String DISALLOWED_LOGIN_MODULES_DEFAULT = \"com.sun.security.auth.module.JndiLoginModule\";\\n     public static final String SERVICE_NAME = \"serviceName\";\\n \\n-    public static final String ZK_SASL_CLIENT = \"zookeeper.sasl.client\";\\n-    public static final String ZK_LOGIN_CONTEXT_NAME_KEY = \"zookeeper.sasl.clientconfig\";\\n-\\n-    private static final String DEFAULT_ZK_LOGIN_CONTEXT_NAME = \"Client\";\\n-    private static final String DEFAULT_ZK_SASL_CLIENT = \"true\";\\n-\\n     private JaasUtils() {}\\n \\n-    public static String zkSecuritySysConfigString() {\\n-        String loginConfig = System.getProperty(JAVA_LOGIN_CONFIG_PARAM);\\n-        String clientEnabled = System.getProperty(ZK_SASL_CLIENT, \"default:\" + DEFAULT_ZK_SASL_CLIENT);\\n-        String contextName = System.getProperty(ZK_LOGIN_CONTEXT_NAME_KEY, \"default:\" + DEFAULT_ZK_LOGIN_CONTEXT_NAME);\\n-        return \"[\" +\\n-                JAVA_LOGIN_CONFIG_PARAM + \"=\" + loginConfig +\\n-                \", \" +\\n-                ZK_SASL_CLIENT + \"=\" + clientEnabled +\\n-                \", \" +\\n-                ZK_LOGIN_CONTEXT_NAME_KEY + \"=\" + contextName +\\n-                \"]\";\\n-    }\\n-\\n-    public static boolean isZkSaslEnabled() {\\n-        // Technically a client must also check if TLS mutual authentication has been configured,\\n-        // but we will leave that up to the client code to determine since direct connectivity to ZooKeeper\\n-        // has been deprecated in many clients and we don\\'t wish to re-introduce a ZooKeeper jar dependency here.\\n-        boolean zkSaslEnabled = Boolean.parseBoolean(System.getProperty(ZK_SASL_CLIENT, DEFAULT_ZK_SASL_CLIENT));\\n-        String zkLoginContextName = System.getProperty(ZK_LOGIN_CONTEXT_NAME_KEY, DEFAULT_ZK_LOGIN_CONTEXT_NAME);\\n-\\n-        LOG.debug(\"Checking login config for Zookeeper JAAS context {}\", zkSecuritySysConfigString());\\n-\\n-        boolean foundLoginConfigEntry;\\n-        try {\\n-            Configuration loginConf = Configuration.getConfiguration();\\n-            foundLoginConfigEntry = loginConf.getAppConfigurationEntry(zkLoginContextName) != null;\\n-        } catch (Exception e) {\\n-            throw new KafkaException(\"Exception while loading Zookeeper JAAS login context \" +\\n-                    zkSecuritySysConfigString(), e);\\n-        }\\n-\\n-        if (foundLoginConfigEntry && !zkSaslEnabled) {\\n-            LOG.error(\"JAAS configuration is present, but system property \" +\\n-                        ZK_SASL_CLIENT + \" is set to false, which disables \" +\\n-                        \"SASL in the ZooKeeper client\");\\n-            throw new KafkaException(\"Exception while determining if ZooKeeper is secure \" +\\n-                    zkSecuritySysConfigString());\\n-        }\\n-\\n-        return foundLoginConfigEntry;\\n-    }\\n }\\n\\n\\nAdditional context:\\n<bound method HighLevelContextCommitMessageGenerationChain.__retrieve_context of <core.chains.HighLevelContextCommitMessageGenerationChain object at 0x00000117F4665400>>\\n\\nCommit type: refactor\\n\\nCommit message: ', 'role': 'user'}], 'model': 'gpt-4o-mini', 'n': 1, 'stream': False, 'temperature': 0.7}}\n",
      "DEBUG:openai._base_client:Sending HTTP Request: POST https://api.openai.com/v1/chat/completions\n",
      "DEBUG:httpcore.connection:connect_tcp.started host='api.openai.com' port=443 local_address=None timeout=None socket_options=None\n",
      "DEBUG:httpcore.connection:connect_tcp.complete return_value=<httpcore._backends.sync.SyncStream object at 0x00000117F5837890>\n",
      "DEBUG:httpcore.connection:start_tls.started ssl_context=<ssl.SSLContext object at 0x00000117F46395B0> server_hostname='api.openai.com' timeout=None\n",
      "DEBUG:httpcore.connection:start_tls.complete return_value=<httpcore._backends.sync.SyncStream object at 0x00000117F5881E00>\n",
      "DEBUG:httpcore.http11:send_request_headers.started request=<Request [b'POST']>\n",
      "DEBUG:httpcore.http11:send_request_headers.complete\n",
      "DEBUG:httpcore.http11:send_request_body.started request=<Request [b'POST']>\n",
      "DEBUG:httpcore.http11:send_request_body.complete\n",
      "DEBUG:httpcore.http11:receive_response_headers.started request=<Request [b'POST']>\n",
      "DEBUG:urllib3.connectionpool:https://api.smith.langchain.com:443 \"POST /runs/multipart HTTP/11\" 202 33\n",
      "DEBUG:httpcore.http11:receive_response_headers.complete return_value=(b'HTTP/1.1', 200, b'OK', [(b'Date', b'Sat, 18 Jan 2025 03:32:04 GMT'), (b'Content-Type', b'application/json'), (b'Transfer-Encoding', b'chunked'), (b'Connection', b'keep-alive'), (b'access-control-expose-headers', b'X-Request-ID'), (b'openai-organization', b'user-yxw5duua92nmh24amrdiwkpm'), (b'openai-processing-ms', b'912'), (b'openai-version', b'2020-10-01'), (b'x-ratelimit-limit-requests', b'10000'), (b'x-ratelimit-limit-tokens', b'200000'), (b'x-ratelimit-remaining-requests', b'9998'), (b'x-ratelimit-remaining-tokens', b'198891'), (b'x-ratelimit-reset-requests', b'16.263s'), (b'x-ratelimit-reset-tokens', b'332ms'), (b'x-request-id', b'req_dc87e184005a2df0357f3b63e74fe4d3'), (b'strict-transport-security', b'max-age=31536000; includeSubDomains; preload'), (b'CF-Cache-Status', b'DYNAMIC'), (b'Set-Cookie', b'__cf_bm=3z6GCzMr7D_kGSBrwdCpyw2t41Pi6jV.oP1KbUv4pY8-1737171124-1.0.1.1-yj0EYzpSSbbyP0y3BdmzfHhXKdLWV3DLxyn3iq97pTwPYcMlchbXOzHuydE3C3XEyPGtlcgLiZ2p7p2QUPyGcQ; path=/; expires=Sat, 18-Jan-25 04:02:04 GMT; domain=.api.openai.com; HttpOnly; Secure; SameSite=None'), (b'X-Content-Type-Options', b'nosniff'), (b'Set-Cookie', b'_cfuvid=y8qSSTop4vNsIFUt_YR2bsxP41y_xmE4qlMFIHuVKxE-1737171124366-0.0.1.1-604800000; path=/; domain=.api.openai.com; HttpOnly; Secure; SameSite=None'), (b'Server', b'cloudflare'), (b'CF-RAY', b'903b83ffcf0c831e-SIN'), (b'Content-Encoding', b'gzip')])\n",
      "INFO:httpx:HTTP Request: POST https://api.openai.com/v1/chat/completions \"HTTP/1.1 200 OK\"\n",
      "DEBUG:httpcore.http11:receive_response_body.started request=<Request [b'POST']>\n",
      "DEBUG:httpcore.http11:receive_response_body.complete\n",
      "DEBUG:httpcore.http11:response_closed.started\n",
      "DEBUG:httpcore.http11:response_closed.complete\n",
      "DEBUG:openai._base_client:HTTP Response: POST https://api.openai.com/v1/chat/completions \"200 OK\" Headers([('date', 'Sat, 18 Jan 2025 03:32:04 GMT'), ('content-type', 'application/json'), ('transfer-encoding', 'chunked'), ('connection', 'keep-alive'), ('access-control-expose-headers', 'X-Request-ID'), ('openai-organization', 'user-yxw5duua92nmh24amrdiwkpm'), ('openai-processing-ms', '912'), ('openai-version', '2020-10-01'), ('x-ratelimit-limit-requests', '10000'), ('x-ratelimit-limit-tokens', '200000'), ('x-ratelimit-remaining-requests', '9998'), ('x-ratelimit-remaining-tokens', '198891'), ('x-ratelimit-reset-requests', '16.263s'), ('x-ratelimit-reset-tokens', '332ms'), ('x-request-id', 'req_dc87e184005a2df0357f3b63e74fe4d3'), ('strict-transport-security', 'max-age=31536000; includeSubDomains; preload'), ('cf-cache-status', 'DYNAMIC'), ('set-cookie', '__cf_bm=3z6GCzMr7D_kGSBrwdCpyw2t41Pi6jV.oP1KbUv4pY8-1737171124-1.0.1.1-yj0EYzpSSbbyP0y3BdmzfHhXKdLWV3DLxyn3iq97pTwPYcMlchbXOzHuydE3C3XEyPGtlcgLiZ2p7p2QUPyGcQ; path=/; expires=Sat, 18-Jan-25 04:02:04 GMT; domain=.api.openai.com; HttpOnly; Secure; SameSite=None'), ('x-content-type-options', 'nosniff'), ('set-cookie', '_cfuvid=y8qSSTop4vNsIFUt_YR2bsxP41y_xmE4qlMFIHuVKxE-1737171124366-0.0.1.1-604800000; path=/; domain=.api.openai.com; HttpOnly; Secure; SameSite=None'), ('server', 'cloudflare'), ('cf-ray', '903b83ffcf0c831e-SIN'), ('content-encoding', 'gzip')])\n",
      "DEBUG:openai._base_client:request_id: req_dc87e184005a2df0357f3b63e74fe4d3\n",
      "DEBUG:openai._base_client:Request options: {'method': 'post', 'url': '/chat/completions', 'files': None, 'json_data': {'messages': [{'content': 'Classify the Git diff into one of the following six software maintenance activities: feat, fix, perf, test, refactor, or chore. Return the activity that best matches the code changes. Refer to the definitions below for each activity.\\n\\nfeat: introducing new features into the system.\\nfix: fixing existing bugs or issues in the system.\\nperf: improving the performance of the system.\\ntest: adding, modifying, or deleting test cases.\\nrefactor: changes made to the internal structure of software to make it easier to understand and cheaper to modify without changing its observable behavior, including code styling.\\nchore: regular maintenance tasks, such as updating dependencies or build tasks.\\n\\nAvoid adding any additional comments or annotations to the classification.\\n\\n> Git diff: diff --git a/clients/src/main/java/org/apache/kafka/common/security/JaasUtils.java b/clients/src/main/java/org/apache/kafka/common/security/JaasUtils.java\\nindex 742319c4f4..800283e56e 100644\\n--- a/clients/src/main/java/org/apache/kafka/common/security/JaasUtils.java\\n+++ b/clients/src/main/java/org/apache/kafka/common/security/JaasUtils.java\\n@@ -16,67 +16,12 @@\\n  */\\n package org.apache.kafka.common.security;\\n \\n-import org.apache.kafka.common.KafkaException;\\n-\\n-import org.slf4j.Logger;\\n-import org.slf4j.LoggerFactory;\\n-\\n-import javax.security.auth.login.Configuration;\\n-\\n public final class JaasUtils {\\n-    private static final Logger LOG = LoggerFactory.getLogger(JaasUtils.class);\\n     public static final String JAVA_LOGIN_CONFIG_PARAM = \"java.security.auth.login.config\";\\n     public static final String DISALLOWED_LOGIN_MODULES_CONFIG = \"org.apache.kafka.disallowed.login.modules\";\\n     public static final String DISALLOWED_LOGIN_MODULES_DEFAULT = \"com.sun.security.auth.module.JndiLoginModule\";\\n     public static final String SERVICE_NAME = \"serviceName\";\\n \\n-    public static final String ZK_SASL_CLIENT = \"zookeeper.sasl.client\";\\n-    public static final String ZK_LOGIN_CONTEXT_NAME_KEY = \"zookeeper.sasl.clientconfig\";\\n-\\n-    private static final String DEFAULT_ZK_LOGIN_CONTEXT_NAME = \"Client\";\\n-    private static final String DEFAULT_ZK_SASL_CLIENT = \"true\";\\n-\\n     private JaasUtils() {}\\n \\n-    public static String zkSecuritySysConfigString() {\\n-        String loginConfig = System.getProperty(JAVA_LOGIN_CONFIG_PARAM);\\n-        String clientEnabled = System.getProperty(ZK_SASL_CLIENT, \"default:\" + DEFAULT_ZK_SASL_CLIENT);\\n-        String contextName = System.getProperty(ZK_LOGIN_CONTEXT_NAME_KEY, \"default:\" + DEFAULT_ZK_LOGIN_CONTEXT_NAME);\\n-        return \"[\" +\\n-                JAVA_LOGIN_CONFIG_PARAM + \"=\" + loginConfig +\\n-                \", \" +\\n-                ZK_SASL_CLIENT + \"=\" + clientEnabled +\\n-                \", \" +\\n-                ZK_LOGIN_CONTEXT_NAME_KEY + \"=\" + contextName +\\n-                \"]\";\\n-    }\\n-\\n-    public static boolean isZkSaslEnabled() {\\n-        // Technically a client must also check if TLS mutual authentication has been configured,\\n-        // but we will leave that up to the client code to determine since direct connectivity to ZooKeeper\\n-        // has been deprecated in many clients and we don\\'t wish to re-introduce a ZooKeeper jar dependency here.\\n-        boolean zkSaslEnabled = Boolean.parseBoolean(System.getProperty(ZK_SASL_CLIENT, DEFAULT_ZK_SASL_CLIENT));\\n-        String zkLoginContextName = System.getProperty(ZK_LOGIN_CONTEXT_NAME_KEY, DEFAULT_ZK_LOGIN_CONTEXT_NAME);\\n-\\n-        LOG.debug(\"Checking login config for Zookeeper JAAS context {}\", zkSecuritySysConfigString());\\n-\\n-        boolean foundLoginConfigEntry;\\n-        try {\\n-            Configuration loginConf = Configuration.getConfiguration();\\n-            foundLoginConfigEntry = loginConf.getAppConfigurationEntry(zkLoginContextName) != null;\\n-        } catch (Exception e) {\\n-            throw new KafkaException(\"Exception while loading Zookeeper JAAS login context \" +\\n-                    zkSecuritySysConfigString(), e);\\n-        }\\n-\\n-        if (foundLoginConfigEntry && !zkSaslEnabled) {\\n-            LOG.error(\"JAAS configuration is present, but system property \" +\\n-                        ZK_SASL_CLIENT + \" is set to false, which disables \" +\\n-                        \"SASL in the ZooKeeper client\");\\n-            throw new KafkaException(\"Exception while determining if ZooKeeper is secure \" +\\n-                    zkSecuritySysConfigString());\\n-        }\\n-\\n-        return foundLoginConfigEntry;\\n-    }\\n }\\n\\n\\n> Software maintenance activity (feat / fix / perf / test / refactor / chore):\\n', 'role': 'user'}], 'model': 'gpt-4o-mini', 'n': 1, 'stream': False, 'temperature': 0.0}}\n",
      "DEBUG:openai._base_client:Sending HTTP Request: POST https://api.openai.com/v1/chat/completions\n",
      "DEBUG:httpcore.http11:send_request_headers.started request=<Request [b'POST']>\n",
      "DEBUG:httpcore.http11:send_request_headers.complete\n",
      "DEBUG:httpcore.http11:send_request_body.started request=<Request [b'POST']>\n",
      "DEBUG:httpcore.http11:send_request_body.complete\n",
      "DEBUG:httpcore.http11:receive_response_headers.started request=<Request [b'POST']>\n",
      "DEBUG:httpcore.http11:receive_response_headers.complete return_value=(b'HTTP/1.1', 200, b'OK', [(b'Date', b'Sat, 18 Jan 2025 03:32:04 GMT'), (b'Content-Type', b'application/json'), (b'Transfer-Encoding', b'chunked'), (b'Connection', b'keep-alive'), (b'access-control-expose-headers', b'X-Request-ID'), (b'openai-organization', b'user-yxw5duua92nmh24amrdiwkpm'), (b'openai-processing-ms', b'214'), (b'openai-version', b'2020-10-01'), (b'x-ratelimit-limit-requests', b'10000'), (b'x-ratelimit-limit-tokens', b'200000'), (b'x-ratelimit-remaining-requests', b'9997'), (b'x-ratelimit-remaining-tokens', b'198851'), (b'x-ratelimit-reset-requests', b'23.574s'), (b'x-ratelimit-reset-tokens', b'344ms'), (b'x-request-id', b'req_ad42f517b1d9f7e33b6e1964885b141d'), (b'strict-transport-security', b'max-age=31536000; includeSubDomains; preload'), (b'CF-Cache-Status', b'DYNAMIC'), (b'X-Content-Type-Options', b'nosniff'), (b'Server', b'cloudflare'), (b'CF-RAY', b'903b84082d86831e-SIN'), (b'Content-Encoding', b'gzip')])\n",
      "INFO:httpx:HTTP Request: POST https://api.openai.com/v1/chat/completions \"HTTP/1.1 200 OK\"\n",
      "DEBUG:httpcore.http11:receive_response_body.started request=<Request [b'POST']>\n",
      "DEBUG:httpcore.http11:receive_response_body.complete\n",
      "DEBUG:httpcore.http11:response_closed.started\n",
      "DEBUG:httpcore.http11:response_closed.complete\n",
      "DEBUG:openai._base_client:HTTP Response: POST https://api.openai.com/v1/chat/completions \"200 OK\" Headers({'date': 'Sat, 18 Jan 2025 03:32:04 GMT', 'content-type': 'application/json', 'transfer-encoding': 'chunked', 'connection': 'keep-alive', 'access-control-expose-headers': 'X-Request-ID', 'openai-organization': 'user-yxw5duua92nmh24amrdiwkpm', 'openai-processing-ms': '214', 'openai-version': '2020-10-01', 'x-ratelimit-limit-requests': '10000', 'x-ratelimit-limit-tokens': '200000', 'x-ratelimit-remaining-requests': '9997', 'x-ratelimit-remaining-tokens': '198851', 'x-ratelimit-reset-requests': '23.574s', 'x-ratelimit-reset-tokens': '344ms', 'x-request-id': 'req_ad42f517b1d9f7e33b6e1964885b141d', 'strict-transport-security': 'max-age=31536000; includeSubDomains; preload', 'cf-cache-status': 'DYNAMIC', 'x-content-type-options': 'nosniff', 'server': 'cloudflare', 'cf-ray': '903b84082d86831e-SIN', 'content-encoding': 'gzip'})\n",
      "DEBUG:openai._base_client:request_id: req_ad42f517b1d9f7e33b6e1964885b141d\n",
      "DEBUG:openai._base_client:Request options: {'method': 'post', 'url': '/chat/completions', 'files': None, 'json_data': {'messages': [{'content': 'Write a concise commit message based on the Git diff and additional context provided. If the context is relevant, include it in the commit body. Use IDs, names, or titles to reference relevant contexts for brevity. Including multiple contexts is allowed.\\n\\nA good commit message explains what changes were made and why they were necessary. Wrap the body at one to three brief sentences.\\n\\nFollow this format for the commit message:\\n\\n{type}: {subject}\\n\\n{body}\\n\\nGit diff:\\ndiff --git a/clients/src/main/java/org/apache/kafka/common/security/JaasUtils.java b/clients/src/main/java/org/apache/kafka/common/security/JaasUtils.java\\nindex 742319c4f4..800283e56e 100644\\n--- a/clients/src/main/java/org/apache/kafka/common/security/JaasUtils.java\\n+++ b/clients/src/main/java/org/apache/kafka/common/security/JaasUtils.java\\n@@ -16,67 +16,12 @@\\n  */\\n package org.apache.kafka.common.security;\\n \\n-import org.apache.kafka.common.KafkaException;\\n-\\n-import org.slf4j.Logger;\\n-import org.slf4j.LoggerFactory;\\n-\\n-import javax.security.auth.login.Configuration;\\n-\\n public final class JaasUtils {\\n-    private static final Logger LOG = LoggerFactory.getLogger(JaasUtils.class);\\n     public static final String JAVA_LOGIN_CONFIG_PARAM = \"java.security.auth.login.config\";\\n     public static final String DISALLOWED_LOGIN_MODULES_CONFIG = \"org.apache.kafka.disallowed.login.modules\";\\n     public static final String DISALLOWED_LOGIN_MODULES_DEFAULT = \"com.sun.security.auth.module.JndiLoginModule\";\\n     public static final String SERVICE_NAME = \"serviceName\";\\n \\n-    public static final String ZK_SASL_CLIENT = \"zookeeper.sasl.client\";\\n-    public static final String ZK_LOGIN_CONTEXT_NAME_KEY = \"zookeeper.sasl.clientconfig\";\\n-\\n-    private static final String DEFAULT_ZK_LOGIN_CONTEXT_NAME = \"Client\";\\n-    private static final String DEFAULT_ZK_SASL_CLIENT = \"true\";\\n-\\n     private JaasUtils() {}\\n \\n-    public static String zkSecuritySysConfigString() {\\n-        String loginConfig = System.getProperty(JAVA_LOGIN_CONFIG_PARAM);\\n-        String clientEnabled = System.getProperty(ZK_SASL_CLIENT, \"default:\" + DEFAULT_ZK_SASL_CLIENT);\\n-        String contextName = System.getProperty(ZK_LOGIN_CONTEXT_NAME_KEY, \"default:\" + DEFAULT_ZK_LOGIN_CONTEXT_NAME);\\n-        return \"[\" +\\n-                JAVA_LOGIN_CONFIG_PARAM + \"=\" + loginConfig +\\n-                \", \" +\\n-                ZK_SASL_CLIENT + \"=\" + clientEnabled +\\n-                \", \" +\\n-                ZK_LOGIN_CONTEXT_NAME_KEY + \"=\" + contextName +\\n-                \"]\";\\n-    }\\n-\\n-    public static boolean isZkSaslEnabled() {\\n-        // Technically a client must also check if TLS mutual authentication has been configured,\\n-        // but we will leave that up to the client code to determine since direct connectivity to ZooKeeper\\n-        // has been deprecated in many clients and we don\\'t wish to re-introduce a ZooKeeper jar dependency here.\\n-        boolean zkSaslEnabled = Boolean.parseBoolean(System.getProperty(ZK_SASL_CLIENT, DEFAULT_ZK_SASL_CLIENT));\\n-        String zkLoginContextName = System.getProperty(ZK_LOGIN_CONTEXT_NAME_KEY, DEFAULT_ZK_LOGIN_CONTEXT_NAME);\\n-\\n-        LOG.debug(\"Checking login config for Zookeeper JAAS context {}\", zkSecuritySysConfigString());\\n-\\n-        boolean foundLoginConfigEntry;\\n-        try {\\n-            Configuration loginConf = Configuration.getConfiguration();\\n-            foundLoginConfigEntry = loginConf.getAppConfigurationEntry(zkLoginContextName) != null;\\n-        } catch (Exception e) {\\n-            throw new KafkaException(\"Exception while loading Zookeeper JAAS login context \" +\\n-                    zkSecuritySysConfigString(), e);\\n-        }\\n-\\n-        if (foundLoginConfigEntry && !zkSaslEnabled) {\\n-            LOG.error(\"JAAS configuration is present, but system property \" +\\n-                        ZK_SASL_CLIENT + \" is set to false, which disables \" +\\n-                        \"SASL in the ZooKeeper client\");\\n-            throw new KafkaException(\"Exception while determining if ZooKeeper is secure \" +\\n-                    zkSecuritySysConfigString());\\n-        }\\n-\\n-        return foundLoginConfigEntry;\\n-    }\\n }\\n\\n\\nAdditional context:\\n<bound method HighLevelContextCommitMessageGenerationChain.__retrieve_context of <core.chains.HighLevelContextCommitMessageGenerationChain object at 0x00000117F46956D0>>\\n\\nCommit type: refactor\\n\\nCommit message: ', 'role': 'user'}], 'model': 'gpt-4o-mini', 'n': 1, 'stream': False, 'temperature': 0.7}}\n",
      "DEBUG:urllib3.connectionpool:https://api.smith.langchain.com:443 \"POST /runs/multipart HTTP/11\" 202 33\n",
      "DEBUG:openai._base_client:Sending HTTP Request: POST https://api.openai.com/v1/chat/completions\n",
      "DEBUG:httpcore.connection:connect_tcp.started host='api.openai.com' port=443 local_address=None timeout=None socket_options=None\n",
      "DEBUG:httpcore.connection:connect_tcp.complete return_value=<httpcore._backends.sync.SyncStream object at 0x00000117F5882EA0>\n",
      "DEBUG:httpcore.connection:start_tls.started ssl_context=<ssl.SSLContext object at 0x00000117F46396D0> server_hostname='api.openai.com' timeout=None\n",
      "DEBUG:httpcore.connection:start_tls.complete return_value=<httpcore._backends.sync.SyncStream object at 0x00000117F5D21C70>\n",
      "DEBUG:httpcore.http11:send_request_headers.started request=<Request [b'POST']>\n",
      "DEBUG:httpcore.http11:send_request_headers.complete\n",
      "DEBUG:httpcore.http11:send_request_body.started request=<Request [b'POST']>\n",
      "DEBUG:httpcore.http11:send_request_body.complete\n",
      "DEBUG:httpcore.http11:receive_response_headers.started request=<Request [b'POST']>\n",
      "DEBUG:urllib3.connectionpool:https://api.smith.langchain.com:443 \"POST /runs/multipart HTTP/11\" 202 33\n",
      "DEBUG:httpcore.http11:receive_response_headers.complete return_value=(b'HTTP/1.1', 200, b'OK', [(b'Date', b'Sat, 18 Jan 2025 03:32:06 GMT'), (b'Content-Type', b'application/json'), (b'Transfer-Encoding', b'chunked'), (b'Connection', b'keep-alive'), (b'access-control-expose-headers', b'X-Request-ID'), (b'openai-organization', b'user-yxw5duua92nmh24amrdiwkpm'), (b'openai-processing-ms', b'930'), (b'openai-version', b'2020-10-01'), (b'x-ratelimit-limit-requests', b'10000'), (b'x-ratelimit-limit-tokens', b'200000'), (b'x-ratelimit-remaining-requests', b'9996'), (b'x-ratelimit-remaining-tokens', b'198891'), (b'x-ratelimit-reset-requests', b'31.441s'), (b'x-ratelimit-reset-tokens', b'332ms'), (b'x-request-id', b'req_ec82a21db1491973a555d1c12c786a38'), (b'strict-transport-security', b'max-age=31536000; includeSubDomains; preload'), (b'CF-Cache-Status', b'DYNAMIC'), (b'Set-Cookie', b'__cf_bm=kB9_9CJqPiU40VJ.ygnNIEWfGjEd.W1t5vK1yNMpqmM-1737171126-1.0.1.1-bMRZa_DxouNbM2Eo9qYt4KKIZvdoMjU8l5MFdOMT9V7ifLYhFcdY3GgGGjdwlwrhwZVwSrMp.8HhCo9czuMXGw; path=/; expires=Sat, 18-Jan-25 04:02:06 GMT; domain=.api.openai.com; HttpOnly; Secure; SameSite=None'), (b'X-Content-Type-Options', b'nosniff'), (b'Set-Cookie', b'_cfuvid=bx33iyBSW9xI7zj6prvPBMo8Y8NmfSgpNAG8vHv5ltY-1737171126483-0.0.1.1-604800000; path=/; domain=.api.openai.com; HttpOnly; Secure; SameSite=None'), (b'Server', b'cloudflare'), (b'CF-RAY', b'903b840cfa8f831e-SIN'), (b'Content-Encoding', b'gzip')])\n",
      "INFO:httpx:HTTP Request: POST https://api.openai.com/v1/chat/completions \"HTTP/1.1 200 OK\"\n",
      "DEBUG:httpcore.http11:receive_response_body.started request=<Request [b'POST']>\n",
      "DEBUG:httpcore.http11:receive_response_body.complete\n",
      "DEBUG:httpcore.http11:response_closed.started\n",
      "DEBUG:httpcore.http11:response_closed.complete\n",
      "DEBUG:openai._base_client:HTTP Response: POST https://api.openai.com/v1/chat/completions \"200 OK\" Headers([('date', 'Sat, 18 Jan 2025 03:32:06 GMT'), ('content-type', 'application/json'), ('transfer-encoding', 'chunked'), ('connection', 'keep-alive'), ('access-control-expose-headers', 'X-Request-ID'), ('openai-organization', 'user-yxw5duua92nmh24amrdiwkpm'), ('openai-processing-ms', '930'), ('openai-version', '2020-10-01'), ('x-ratelimit-limit-requests', '10000'), ('x-ratelimit-limit-tokens', '200000'), ('x-ratelimit-remaining-requests', '9996'), ('x-ratelimit-remaining-tokens', '198891'), ('x-ratelimit-reset-requests', '31.441s'), ('x-ratelimit-reset-tokens', '332ms'), ('x-request-id', 'req_ec82a21db1491973a555d1c12c786a38'), ('strict-transport-security', 'max-age=31536000; includeSubDomains; preload'), ('cf-cache-status', 'DYNAMIC'), ('set-cookie', '__cf_bm=kB9_9CJqPiU40VJ.ygnNIEWfGjEd.W1t5vK1yNMpqmM-1737171126-1.0.1.1-bMRZa_DxouNbM2Eo9qYt4KKIZvdoMjU8l5MFdOMT9V7ifLYhFcdY3GgGGjdwlwrhwZVwSrMp.8HhCo9czuMXGw; path=/; expires=Sat, 18-Jan-25 04:02:06 GMT; domain=.api.openai.com; HttpOnly; Secure; SameSite=None'), ('x-content-type-options', 'nosniff'), ('set-cookie', '_cfuvid=bx33iyBSW9xI7zj6prvPBMo8Y8NmfSgpNAG8vHv5ltY-1737171126483-0.0.1.1-604800000; path=/; domain=.api.openai.com; HttpOnly; Secure; SameSite=None'), ('server', 'cloudflare'), ('cf-ray', '903b840cfa8f831e-SIN'), ('content-encoding', 'gzip')])\n",
      "DEBUG:openai._base_client:request_id: req_ec82a21db1491973a555d1c12c786a38\n",
      "DEBUG:urllib3.connectionpool:https://api.smith.langchain.com:443 \"POST /runs/multipart HTTP/11\" 202 33\n"
     ]
    }
   ],
   "source": [
    "INCLUDED_GENERATOR_INDEXES = [0, 1]\n",
    "\n",
    "filtered_generators = [GENERATORS[i] for i in INCLUDED_GENERATOR_INDEXES]\n",
    "evaluator.evaluate(filtered_generators, COMMITS, CONTEXT_DATA_PATH, CMG_OUTPUT_PATH)"
   ]
  }
 ],
 "metadata": {
  "kernelspec": {
   "display_name": "venv",
   "language": "python",
   "name": "python3"
  },
  "language_info": {
   "codemirror_mode": {
    "name": "ipython",
    "version": 3
   },
   "file_extension": ".py",
   "mimetype": "text/x-python",
   "name": "python",
   "nbconvert_exporter": "python",
   "pygments_lexer": "ipython3",
   "version": "3.13.0"
  }
 },
 "nbformat": 4,
 "nbformat_minor": 2
}
